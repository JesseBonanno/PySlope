{
 "cells": [
  {
   "cell_type": "code",
   "execution_count": null,
   "metadata": {},
   "outputs": [],
   "source": [
    "from shapely import geometry\n",
    "import plotly.graph_objects as go"
   ]
  },
  {
   "cell_type": "code",
   "execution_count": null,
   "metadata": {},
   "outputs": [],
   "source": [
    "# create 4 points\n",
    "a = geometry.Point(0,0)\n",
    "b = geometry.Point(0,1)\n",
    "c = geometry.Point(3,2)\n",
    "d = geometry.Point(1,-1)"
   ]
  },
  {
   "cell_type": "code",
   "execution_count": null,
   "metadata": {},
   "outputs": [],
   "source": [
    "def draw_point(p, fig):\n",
    "   \n",
    "    annotation = dict(\n",
    "        x=p.x, y=p.y,\n",
    "        text='x',\n",
    "        showarrow=False,\n",
    "        yshift=0,\n",
    "        font_size=26,\n",
    "        font_color='red',\n",
    "    )\n",
    "\n",
    "    fig.add_annotation(annotation)\n",
    "    return fig\n",
    "\n",
    "def draw_lines(points, fig):\n",
    "    x1 = points[0][0]\n",
    "    y1 = points[0][1]\n",
    "\n",
    "    for point in points[1::]:\n",
    "        x2 = point[0]\n",
    "        y2 = point[1]\n",
    "            \n",
    "        trace = go.Scatter(\n",
    "                x=[x1,x2],\n",
    "                y=[y1,y2],\n",
    "                mode='lines',\n",
    "                line=dict(\n",
    "                    color='blue',\n",
    "                    width=1),\n",
    "                fill='none',\n",
    "                hovertemplate=\"\",\n",
    "                hoverinfo=\"skip\")\n",
    "        fig.add_trace(trace)\n",
    "\n",
    "        x1 = x2\n",
    "        y1 = y2\n",
    "    return fig"
   ]
  },
  {
   "cell_type": "code",
   "execution_count": null,
   "metadata": {},
   "outputs": [],
   "source": [
    "fig = fig = go.Figure()\n",
    "fig = draw_point(a,fig)\n",
    "fig = draw_point(b,fig)\n",
    "fig = draw_point(c,fig)\n",
    "fig = draw_point(d,fig)\n",
    "fig.show()"
   ]
  },
  {
   "cell_type": "code",
   "execution_count": null,
   "metadata": {},
   "outputs": [],
   "source": [
    "boundary = geometry.polygon.LinearRing([a,b,c,d])\n",
    "boundary.length\n",
    "boundary.bounds\n",
    "fig = draw_lines(list(boundary.coords), fig)\n",
    "fig.show()"
   ]
  }
 ],
 "metadata": {
  "interpreter": {
   "hash": "961eff7faf67ce79553a65a2487d2e108eb15b996265a912167c96f0537f9b25"
  },
  "kernelspec": {
   "display_name": "Python 3.7.3 64-bit",
   "language": "python",
   "name": "python3"
  },
  "language_info": {
   "codemirror_mode": {
    "name": "ipython",
    "version": 3
   },
   "file_extension": ".py",
   "mimetype": "text/x-python",
   "name": "python",
   "nbconvert_exporter": "python",
   "pygments_lexer": "ipython3",
   "version": "3.7.3"
  },
  "orig_nbformat": 4
 },
 "nbformat": 4,
 "nbformat_minor": 2
}
