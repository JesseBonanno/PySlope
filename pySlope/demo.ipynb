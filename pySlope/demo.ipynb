{
 "cells": [
  {
   "cell_type": "code",
   "execution_count": 1,
   "metadata": {},
   "outputs": [
    {
     "name": "stderr",
     "output_type": "stream",
     "text": [
      "100%|██████████| 22/22 [00:01<00:00, 12.77it/s]\n",
      "100%|██████████| 22/22 [00:01<00:00, 14.53it/s]\n",
      "100%|██████████| 22/22 [00:01<00:00, 14.32it/s]\n"
     ]
    },
    {
     "data": {
      "text/plain": [
       "2"
      ]
     },
     "execution_count": 1,
     "metadata": {},
     "output_type": "execute_result"
    },
    {
     "data": {
      "application/vnd.plotly.v1+json": {
       "config": {
        "plotlyServerURL": "https://plot.ly"
       },
       "data": [
        {
         "mode": "lines",
         "name": "",
         "type": "scatter",
         "x": [
          0,
          0,
          10.392304845413264,
          15.588457268119896,
          25.98076211353316,
          25.98076211353316,
          0
         ],
         "y": [
          0,
          12.99038105676658,
          12.99038105676658,
          9.99038105676658,
          9.99038105676658,
          0,
          0
         ]
        },
        {
         "fill": "toself",
         "fillcolor": "blue",
         "hovertemplate": "",
         "meta": [
          20,
          5,
          35,
          "Fill"
         ],
         "mode": "lines",
         "name": "Fill<br>γ: 20 kN/m3<br>c: 5 kPa<br>ϕ: 35 degrees",
         "type": "scatter",
         "x": [
          0,
          10.392304845413264,
          13.85640646055102,
          0
         ],
         "y": [
          12.99038105676658,
          12.99038105676658,
          10.99038105676658,
          10.99038105676658
         ]
        },
        {
         "fill": "toself",
         "fillcolor": "orange",
         "hovertemplate": "",
         "meta": [
          20,
          2,
          30,
          "sand"
         ],
         "mode": "lines",
         "name": "sand<br>γ: 20 kN/m3<br>c: 2 kPa<br>ϕ: 30 degrees",
         "type": "scatter",
         "x": [
          0,
          13.85640646055102,
          15.588457268119896,
          25.98076211353316,
          25.98076211353316,
          0
         ],
         "y": [
          10.99038105676658,
          10.99038105676658,
          9.99038105676658,
          9.99038105676658,
          0,
          0
         ]
        },
        {
         "line": {
          "color": "blue",
          "width": 4
         },
         "mode": "lines",
         "name": "",
         "type": "scatter",
         "x": [
          0,
          25.98076211353316
         ],
         "y": [
          8.99038105676658,
          8.99038105676658
         ]
        },
        {
         "hovertemplate": "%{meta[0]}",
         "line": {
          "color": "#82bf00"
         },
         "meta": [
          1.454
         ],
         "mode": "lines",
         "name": "",
         "type": "scatter",
         "x": [
          15.559426361044906,
          15.050420656673738,
          14.531368837937071,
          14.007269657591927,
          13.48317047724678,
          12.964118658510113,
          12.455112954138947,
          11.961055367317195,
          11.486703942685303,
          11.036626943769338,
          10.615158858105982,
          10.226358653758057,
          9.873970689233252,
          9.561388653264792,
          9.29162288173378,
          9.09644,
          14.007269657591918,
          15.58686,
          15.559426361044906
         ],
         "y": [
          9.981484537273904,
          9.853985245665935,
          9.776991181550056,
          9.75124383985294,
          9.776991181550056,
          9.853985245665932,
          9.9814845372739,
          10.158261168497567,
          10.38261268374232,
          10.65237845527333,
          10.964960491241786,
          11.317348455766592,
          11.706148660114511,
          12.127616745777871,
          12.577693744693832,
          12.99038,
          15.09825945960047,
          9.9913,
          9.981484537273904
         ]
        },
        {
         "mode": "lines+text",
         "name": "",
         "text": [
          "1.454"
         ],
         "textfont": {
          "color": "#82bf00",
          "family": "sans serif",
          "size": 30
         },
         "textposition": "top right",
         "type": "scatter",
         "x": [
          14.007269657591918
         ],
         "y": [
          15.09825945960047
         ]
        }
       ],
       "layout": {
        "annotations": [
         {
          "font": {
           "color": "black",
           "size": 20
          },
          "showarrow": false,
          "text": "<b>MATERIAL<b>",
          "x": 0.1,
          "xref": "x domain",
          "xshift": 15,
          "y": 0.17000000000000004,
          "yref": "y domain",
          "yshift": 15
         },
         {
          "font": {
           "color": "black",
           "size": 20
          },
          "showarrow": false,
          "text": "<b>COLOR<b>",
          "x": 0.19523809523809524,
          "xref": "x domain",
          "xshift": 15,
          "y": 0.17000000000000004,
          "yref": "y domain",
          "yshift": 15
         },
         {
          "font": {
           "color": "black",
           "size": 20
          },
          "showarrow": false,
          "text": "<b>γ<b>",
          "x": 0.2571428571428571,
          "xref": "x domain",
          "xshift": 15,
          "y": 0.17000000000000004,
          "yref": "y domain",
          "yshift": 15
         },
         {
          "font": {
           "color": "black",
           "size": 20
          },
          "showarrow": false,
          "text": "<b>c<b>",
          "x": 0.3047619047619048,
          "xref": "x domain",
          "xshift": 15,
          "y": 0.17000000000000004,
          "yref": "y domain",
          "yshift": 15
         },
         {
          "font": {
           "color": "black",
           "size": 20
          },
          "showarrow": false,
          "text": "<b>ϕ<b>",
          "x": 0.35238095238095235,
          "xref": "x domain",
          "xshift": 15,
          "y": 0.17000000000000004,
          "yref": "y domain",
          "yshift": 15
         },
         {
          "font": {
           "color": "black",
           "size": 20
          },
          "showarrow": false,
          "text": "Fill",
          "x": 0.1,
          "xref": "x domain",
          "xshift": 15,
          "y": 0.13500000000000004,
          "yref": "y domain",
          "yshift": 10
         },
         {
          "font": {
           "color": "black",
           "size": 20
          },
          "showarrow": false,
          "text": "20",
          "x": 0.2571428571428571,
          "xref": "x domain",
          "xshift": 15,
          "y": 0.13500000000000004,
          "yref": "y domain",
          "yshift": 10
         },
         {
          "font": {
           "color": "black",
           "size": 20
          },
          "showarrow": false,
          "text": "5",
          "x": 0.3047619047619048,
          "xref": "x domain",
          "xshift": 15,
          "y": 0.13500000000000004,
          "yref": "y domain",
          "yshift": 10
         },
         {
          "font": {
           "color": "black",
           "size": 20
          },
          "showarrow": false,
          "text": "35",
          "x": 0.35238095238095235,
          "xref": "x domain",
          "xshift": 15,
          "y": 0.13500000000000004,
          "yref": "y domain",
          "yshift": 10
         },
         {
          "font": {
           "color": "black",
           "size": 20
          },
          "showarrow": false,
          "text": "sand",
          "x": 0.1,
          "xref": "x domain",
          "xshift": 15,
          "y": 0.10000000000000003,
          "yref": "y domain",
          "yshift": 10
         },
         {
          "font": {
           "color": "black",
           "size": 20
          },
          "showarrow": false,
          "text": "20",
          "x": 0.2571428571428571,
          "xref": "x domain",
          "xshift": 15,
          "y": 0.10000000000000003,
          "yref": "y domain",
          "yshift": 10
         },
         {
          "font": {
           "color": "black",
           "size": 20
          },
          "showarrow": false,
          "text": "2",
          "x": 0.3047619047619048,
          "xref": "x domain",
          "xshift": 15,
          "y": 0.10000000000000003,
          "yref": "y domain",
          "yshift": 10
         },
         {
          "font": {
           "color": "black",
           "size": 20
          },
          "showarrow": false,
          "text": "30",
          "x": 0.35238095238095235,
          "xref": "x domain",
          "xshift": 15,
          "y": 0.10000000000000003,
          "yref": "y domain",
          "yshift": 10
         },
         {
          "font": {
           "color": "black",
           "family": "sans serif",
           "size": 20
          },
          "showarrow": false,
          "text": "100 kPa",
          "x": 5.344084845413264,
          "xref": "x",
          "xshift": 0,
          "y": 12.99038105676658,
          "yref": "y",
          "yshift": 143
         },
         {
          "font": {
           "color": "black",
           "family": "sans serif",
           "size": 20
          },
          "showarrow": false,
          "text": "20 kPa",
          "x": 5.196152422706632,
          "xref": "x",
          "xshift": 0,
          "y": 12.99038105676658,
          "yref": "y",
          "yshift": 39
         },
         {
          "font": {
           "color": "black",
           "family": "sans serif",
           "size": 20
          },
          "showarrow": false,
          "text": "10 kN/m",
          "x": 7.392304845413264,
          "xref": "x",
          "xshift": 0,
          "y": 12.99038105676658,
          "yref": "y",
          "yshift": 195
         },
         {
          "font": {
           "color": "blue",
           "size": 35
          },
          "showarrow": false,
          "text": "▼",
          "x": 2.598076211353316,
          "y": 8.99038105676658,
          "yshift": 15
         },
         {
          "font": {
           "color": "blue",
           "size": 40
          },
          "showarrow": false,
          "text": "_",
          "x": 2.598076211353316,
          "y": 8.99038105676658,
          "yshift": 10
         },
         {
          "font": {
           "color": "black",
           "size": 35
          },
          "showarrow": false,
          "text": "▶",
          "x": 0,
          "xshift": -13,
          "y": 12.99038105676658,
          "yshift": 15
         },
         {
          "font": {
           "color": "black",
           "size": 35
          },
          "showarrow": false,
          "text": "◀",
          "x": 25.98076211353316,
          "xshift": 13,
          "y": 9.99038105676658,
          "yshift": 15
         },
         {
          "font": {
           "color": "black",
           "size": 35
          },
          "showarrow": false,
          "text": "|",
          "x": 25.98076211353316,
          "xshift": 0,
          "y": 9.99038105676658,
          "yshift": 15
         },
         {
          "font": {
           "color": "black",
           "size": 35
          },
          "showarrow": false,
          "text": "|",
          "x": 0,
          "xshift": 0,
          "y": 12.99038105676658,
          "yshift": 15
         }
        ],
        "shapes": [
         {
          "fillcolor": "lightgrey",
          "type": "rect",
          "x0": 0.1,
          "x1": 0.4,
          "xref": "x domain",
          "y0": 0.17000000000000004,
          "y1": 0.22000000000000003,
          "yref": "y domain"
         },
         {
          "fillcolor": "white",
          "type": "rect",
          "x0": 0.1,
          "x1": 0.4,
          "xref": "x domain",
          "y0": 0.1,
          "y1": 0.17000000000000004,
          "yref": "y domain"
         },
         {
          "type": "rect",
          "x0": 0.19523809523809524,
          "x1": 0.19523809523809524,
          "xref": "x domain",
          "y0": 0.1,
          "y1": 0.22000000000000003,
          "yref": "y domain"
         },
         {
          "type": "rect",
          "x0": 0.2571428571428571,
          "x1": 0.2571428571428571,
          "xref": "x domain",
          "y0": 0.1,
          "y1": 0.22000000000000003,
          "yref": "y domain"
         },
         {
          "type": "rect",
          "x0": 0.3047619047619048,
          "x1": 0.3047619047619048,
          "xref": "x domain",
          "y0": 0.1,
          "y1": 0.22000000000000003,
          "yref": "y domain"
         },
         {
          "type": "rect",
          "x0": 0.35238095238095235,
          "x1": 0.35238095238095235,
          "xref": "x domain",
          "y0": 0.1,
          "y1": 0.22000000000000003,
          "yref": "y domain"
         },
         {
          "type": "rect",
          "x0": 0.4,
          "x1": 0.4,
          "xref": "x domain",
          "y0": 0.1,
          "y1": 0.22000000000000003,
          "yref": "y domain"
         },
         {
          "type": "rect",
          "x0": 0.1,
          "x1": 0.4,
          "xref": "x domain",
          "y0": 0.17000000000000004,
          "y1": 0.17000000000000004,
          "yref": "y domain"
         },
         {
          "type": "rect",
          "x0": 0.1,
          "x1": 0.4,
          "xref": "x domain",
          "y0": 0.13500000000000004,
          "y1": 0.13500000000000004,
          "yref": "y domain"
         },
         {
          "fillcolor": "blue",
          "type": "rect",
          "x0": 0.19523809523809524,
          "x1": 0.2571428571428571,
          "xref": "paper",
          "y0": 0.17000000000000004,
          "y1": 0.13500000000000004,
          "yref": "paper"
         },
         {
          "fillcolor": "orange",
          "type": "rect",
          "x0": 0.19523809523809524,
          "x1": 0.2571428571428571,
          "xref": "paper",
          "y0": 0.13500000000000004,
          "y1": 0.10000000000000003,
          "yref": "paper"
         },
         {
          "line": {
           "color": "red",
           "width": 2
          },
          "type": "line",
          "x0": 0,
          "x1": -7,
          "xanchor": 4.844084845413264,
          "xref": "x",
          "xsizemode": "pixel",
          "y0": 0,
          "y1": 7,
          "yanchor": 12.99038105676658,
          "yref": "y",
          "ysizemode": "pixel"
         },
         {
          "line": {
           "color": "red",
           "width": 2
          },
          "type": "line",
          "x0": 0,
          "x1": 7,
          "xanchor": 4.844084845413264,
          "xref": "x",
          "xsizemode": "pixel",
          "y0": 0,
          "y1": 7,
          "yanchor": 12.99038105676658,
          "yref": "y",
          "ysizemode": "pixel"
         },
         {
          "line": {
           "color": "red",
           "width": 2
          },
          "type": "line",
          "x0": 0,
          "x1": 0,
          "xanchor": 4.844084845413264,
          "xref": "x",
          "xsizemode": "pixel",
          "y0": 0,
          "y1": 100,
          "yanchor": 12.99038105676658,
          "yref": "y",
          "ysizemode": "pixel"
         },
         {
          "line": {
           "color": "black",
           "width": 0
          },
          "type": "line",
          "x0": 0,
          "x1": 0,
          "xanchor": 5.344084845413264,
          "xref": "x",
          "xsizemode": "pixel",
          "y0": 0,
          "y1": 0,
          "yanchor": 12.99038105676658,
          "yref": "y",
          "ysizemode": "pixel"
         },
         {
          "line": {
           "color": "black",
           "width": 0
          },
          "type": "line",
          "x0": 0,
          "x1": 0,
          "xanchor": 5.344084845413264,
          "xref": "x",
          "xsizemode": "pixel",
          "y0": 0,
          "y1": 0,
          "yanchor": 12.99038105676658,
          "yref": "y",
          "ysizemode": "pixel"
         },
         {
          "line": {
           "color": "black",
           "width": 0
          },
          "type": "line",
          "x0": 0,
          "x1": 0,
          "xanchor": 5.344084845413264,
          "xref": "x",
          "xsizemode": "pixel",
          "y0": 0,
          "y1": 110,
          "yanchor": 12.99038105676658,
          "yref": "y",
          "ysizemode": "pixel"
         },
         {
          "line": {
           "color": "red",
           "width": 2
          },
          "type": "line",
          "x0": 0,
          "x1": -7,
          "xanchor": 5.844084845413264,
          "xref": "x",
          "xsizemode": "pixel",
          "y0": 0,
          "y1": 7,
          "yanchor": 12.99038105676658,
          "yref": "y",
          "ysizemode": "pixel"
         },
         {
          "line": {
           "color": "red",
           "width": 2
          },
          "type": "line",
          "x0": 0,
          "x1": 7,
          "xanchor": 5.844084845413264,
          "xref": "x",
          "xsizemode": "pixel",
          "y0": 0,
          "y1": 7,
          "yanchor": 12.99038105676658,
          "yref": "y",
          "ysizemode": "pixel"
         },
         {
          "line": {
           "color": "red",
           "width": 2
          },
          "type": "line",
          "x0": 0,
          "x1": 0,
          "xanchor": 5.844084845413264,
          "xref": "x",
          "xsizemode": "pixel",
          "y0": 0,
          "y1": 100,
          "yanchor": 12.99038105676658,
          "yref": "y",
          "ysizemode": "pixel"
         },
         {
          "line": {
           "color": "red",
           "width": 2
          },
          "type": "line",
          "x0": 4.844084845413264,
          "x1": 5.844084845413264,
          "xanchor": 4.844084845413264,
          "xref": "x",
          "y0": 100,
          "y1": 100,
          "yanchor": 12.99038105676658,
          "yref": "y",
          "ysizemode": "pixel"
         },
         {
          "fillcolor": "red",
          "line": {
           "width": 2
          },
          "opacity": 0.2,
          "type": "rect",
          "x0": 4.844084845413264,
          "x1": 5.844084845413264,
          "xanchor": 4.844084845413264,
          "xref": "x",
          "y0": 0,
          "y1": 100,
          "yanchor": 12.99038105676658,
          "yref": "y",
          "ysizemode": "pixel"
         },
         {
          "line": {
           "color": "green",
           "width": 2
          },
          "type": "line",
          "x0": 0,
          "x1": -7,
          "xanchor": 0,
          "xref": "x",
          "xsizemode": "pixel",
          "y0": 0,
          "y1": 7,
          "yanchor": 12.99038105676658,
          "yref": "y",
          "ysizemode": "pixel"
         },
         {
          "line": {
           "color": "green",
           "width": 2
          },
          "type": "line",
          "x0": 0,
          "x1": 7,
          "xanchor": 0,
          "xref": "x",
          "xsizemode": "pixel",
          "y0": 0,
          "y1": 7,
          "yanchor": 12.99038105676658,
          "yref": "y",
          "ysizemode": "pixel"
         },
         {
          "line": {
           "color": "green",
           "width": 2
          },
          "type": "line",
          "x0": 0,
          "x1": 0,
          "xanchor": 0,
          "xref": "x",
          "xsizemode": "pixel",
          "y0": 0,
          "y1": 20,
          "yanchor": 12.99038105676658,
          "yref": "y",
          "ysizemode": "pixel"
         },
         {
          "line": {
           "color": "black",
           "width": 0
          },
          "type": "line",
          "x0": 0,
          "x1": 0,
          "xanchor": 5.196152422706632,
          "xref": "x",
          "xsizemode": "pixel",
          "y0": 0,
          "y1": 0,
          "yanchor": 12.99038105676658,
          "yref": "y",
          "ysizemode": "pixel"
         },
         {
          "line": {
           "color": "black",
           "width": 0
          },
          "type": "line",
          "x0": 0,
          "x1": 0,
          "xanchor": 5.196152422706632,
          "xref": "x",
          "xsizemode": "pixel",
          "y0": 0,
          "y1": 0,
          "yanchor": 12.99038105676658,
          "yref": "y",
          "ysizemode": "pixel"
         },
         {
          "line": {
           "color": "black",
           "width": 0
          },
          "type": "line",
          "x0": 0,
          "x1": 0,
          "xanchor": 5.196152422706632,
          "xref": "x",
          "xsizemode": "pixel",
          "y0": 0,
          "y1": 30,
          "yanchor": 12.99038105676658,
          "yref": "y",
          "ysizemode": "pixel"
         },
         {
          "line": {
           "color": "green",
           "width": 2
          },
          "type": "line",
          "x0": 0,
          "x1": -7,
          "xanchor": 10.392304845413264,
          "xref": "x",
          "xsizemode": "pixel",
          "y0": 0,
          "y1": 7,
          "yanchor": 12.99038105676658,
          "yref": "y",
          "ysizemode": "pixel"
         },
         {
          "line": {
           "color": "green",
           "width": 2
          },
          "type": "line",
          "x0": 0,
          "x1": 7,
          "xanchor": 10.392304845413264,
          "xref": "x",
          "xsizemode": "pixel",
          "y0": 0,
          "y1": 7,
          "yanchor": 12.99038105676658,
          "yref": "y",
          "ysizemode": "pixel"
         },
         {
          "line": {
           "color": "green",
           "width": 2
          },
          "type": "line",
          "x0": 0,
          "x1": 0,
          "xanchor": 10.392304845413264,
          "xref": "x",
          "xsizemode": "pixel",
          "y0": 0,
          "y1": 20,
          "yanchor": 12.99038105676658,
          "yref": "y",
          "ysizemode": "pixel"
         },
         {
          "line": {
           "color": "green",
           "width": 2
          },
          "type": "line",
          "x0": 0,
          "x1": 10.392304845413264,
          "xanchor": 0,
          "xref": "x",
          "y0": 20,
          "y1": 20,
          "yanchor": 12.99038105676658,
          "yref": "y",
          "ysizemode": "pixel"
         },
         {
          "fillcolor": "green",
          "line": {
           "width": 2
          },
          "opacity": 0.2,
          "type": "rect",
          "x0": 0,
          "x1": 10.392304845413264,
          "xanchor": 0,
          "xref": "x",
          "y0": 0,
          "y1": 20,
          "yanchor": 12.99038105676658,
          "yref": "y",
          "ysizemode": "pixel"
         },
         {
          "line": {
           "color": "black",
           "width": 2
          },
          "type": "line",
          "x0": 0,
          "x1": -7,
          "xanchor": 7.392304845413264,
          "xref": "x",
          "xsizemode": "pixel",
          "y0": 0,
          "y1": 7,
          "yanchor": 12.99038105676658,
          "yref": "y",
          "ysizemode": "pixel"
         },
         {
          "line": {
           "color": "black",
           "width": 2
          },
          "type": "line",
          "x0": 0,
          "x1": 7,
          "xanchor": 7.392304845413264,
          "xref": "x",
          "xsizemode": "pixel",
          "y0": 0,
          "y1": 7,
          "yanchor": 12.99038105676658,
          "yref": "y",
          "ysizemode": "pixel"
         },
         {
          "line": {
           "color": "black",
           "width": 2
          },
          "type": "line",
          "x0": 0,
          "x1": 0,
          "xanchor": 7.392304845413264,
          "xref": "x",
          "xsizemode": "pixel",
          "y0": 0,
          "y1": 150,
          "yanchor": 12.99038105676658,
          "yref": "y",
          "ysizemode": "pixel"
         },
         {
          "line": {
           "color": "purple",
           "width": 2
          },
          "type": "line",
          "x0": 0,
          "x1": -7,
          "xanchor": 7.392304845413264,
          "xref": "x",
          "xsizemode": "pixel",
          "y0": 0,
          "y1": 7,
          "yanchor": 12.99038105676658,
          "yref": "y",
          "ysizemode": "pixel"
         },
         {
          "line": {
           "color": "purple",
           "width": 2
          },
          "type": "line",
          "x0": 0,
          "x1": 7,
          "xanchor": 7.392304845413264,
          "xref": "x",
          "xsizemode": "pixel",
          "y0": 0,
          "y1": 7,
          "yanchor": 12.99038105676658,
          "yref": "y",
          "ysizemode": "pixel"
         },
         {
          "line": {
           "color": "purple",
           "width": 2
          },
          "type": "line",
          "x0": 0,
          "x1": 0,
          "xanchor": 7.392304845413264,
          "xref": "x",
          "xsizemode": "pixel",
          "y0": 0,
          "y1": 150,
          "yanchor": 12.99038105676658,
          "yref": "y",
          "ysizemode": "pixel"
         }
        ],
        "showlegend": false,
        "template": {
         "data": {
          "bar": [
           {
            "error_x": {
             "color": "#2a3f5f"
            },
            "error_y": {
             "color": "#2a3f5f"
            },
            "marker": {
             "line": {
              "color": "#E5ECF6",
              "width": 0.5
             }
            },
            "type": "bar"
           }
          ],
          "barpolar": [
           {
            "marker": {
             "line": {
              "color": "#E5ECF6",
              "width": 0.5
             }
            },
            "type": "barpolar"
           }
          ],
          "carpet": [
           {
            "aaxis": {
             "endlinecolor": "#2a3f5f",
             "gridcolor": "white",
             "linecolor": "white",
             "minorgridcolor": "white",
             "startlinecolor": "#2a3f5f"
            },
            "baxis": {
             "endlinecolor": "#2a3f5f",
             "gridcolor": "white",
             "linecolor": "white",
             "minorgridcolor": "white",
             "startlinecolor": "#2a3f5f"
            },
            "type": "carpet"
           }
          ],
          "choropleth": [
           {
            "colorbar": {
             "outlinewidth": 0,
             "ticks": ""
            },
            "type": "choropleth"
           }
          ],
          "contour": [
           {
            "colorbar": {
             "outlinewidth": 0,
             "ticks": ""
            },
            "colorscale": [
             [
              0,
              "#0d0887"
             ],
             [
              0.1111111111111111,
              "#46039f"
             ],
             [
              0.2222222222222222,
              "#7201a8"
             ],
             [
              0.3333333333333333,
              "#9c179e"
             ],
             [
              0.4444444444444444,
              "#bd3786"
             ],
             [
              0.5555555555555556,
              "#d8576b"
             ],
             [
              0.6666666666666666,
              "#ed7953"
             ],
             [
              0.7777777777777778,
              "#fb9f3a"
             ],
             [
              0.8888888888888888,
              "#fdca26"
             ],
             [
              1,
              "#f0f921"
             ]
            ],
            "type": "contour"
           }
          ],
          "contourcarpet": [
           {
            "colorbar": {
             "outlinewidth": 0,
             "ticks": ""
            },
            "type": "contourcarpet"
           }
          ],
          "heatmap": [
           {
            "colorbar": {
             "outlinewidth": 0,
             "ticks": ""
            },
            "colorscale": [
             [
              0,
              "#0d0887"
             ],
             [
              0.1111111111111111,
              "#46039f"
             ],
             [
              0.2222222222222222,
              "#7201a8"
             ],
             [
              0.3333333333333333,
              "#9c179e"
             ],
             [
              0.4444444444444444,
              "#bd3786"
             ],
             [
              0.5555555555555556,
              "#d8576b"
             ],
             [
              0.6666666666666666,
              "#ed7953"
             ],
             [
              0.7777777777777778,
              "#fb9f3a"
             ],
             [
              0.8888888888888888,
              "#fdca26"
             ],
             [
              1,
              "#f0f921"
             ]
            ],
            "type": "heatmap"
           }
          ],
          "heatmapgl": [
           {
            "colorbar": {
             "outlinewidth": 0,
             "ticks": ""
            },
            "colorscale": [
             [
              0,
              "#0d0887"
             ],
             [
              0.1111111111111111,
              "#46039f"
             ],
             [
              0.2222222222222222,
              "#7201a8"
             ],
             [
              0.3333333333333333,
              "#9c179e"
             ],
             [
              0.4444444444444444,
              "#bd3786"
             ],
             [
              0.5555555555555556,
              "#d8576b"
             ],
             [
              0.6666666666666666,
              "#ed7953"
             ],
             [
              0.7777777777777778,
              "#fb9f3a"
             ],
             [
              0.8888888888888888,
              "#fdca26"
             ],
             [
              1,
              "#f0f921"
             ]
            ],
            "type": "heatmapgl"
           }
          ],
          "histogram": [
           {
            "marker": {
             "colorbar": {
              "outlinewidth": 0,
              "ticks": ""
             }
            },
            "type": "histogram"
           }
          ],
          "histogram2d": [
           {
            "colorbar": {
             "outlinewidth": 0,
             "ticks": ""
            },
            "colorscale": [
             [
              0,
              "#0d0887"
             ],
             [
              0.1111111111111111,
              "#46039f"
             ],
             [
              0.2222222222222222,
              "#7201a8"
             ],
             [
              0.3333333333333333,
              "#9c179e"
             ],
             [
              0.4444444444444444,
              "#bd3786"
             ],
             [
              0.5555555555555556,
              "#d8576b"
             ],
             [
              0.6666666666666666,
              "#ed7953"
             ],
             [
              0.7777777777777778,
              "#fb9f3a"
             ],
             [
              0.8888888888888888,
              "#fdca26"
             ],
             [
              1,
              "#f0f921"
             ]
            ],
            "type": "histogram2d"
           }
          ],
          "histogram2dcontour": [
           {
            "colorbar": {
             "outlinewidth": 0,
             "ticks": ""
            },
            "colorscale": [
             [
              0,
              "#0d0887"
             ],
             [
              0.1111111111111111,
              "#46039f"
             ],
             [
              0.2222222222222222,
              "#7201a8"
             ],
             [
              0.3333333333333333,
              "#9c179e"
             ],
             [
              0.4444444444444444,
              "#bd3786"
             ],
             [
              0.5555555555555556,
              "#d8576b"
             ],
             [
              0.6666666666666666,
              "#ed7953"
             ],
             [
              0.7777777777777778,
              "#fb9f3a"
             ],
             [
              0.8888888888888888,
              "#fdca26"
             ],
             [
              1,
              "#f0f921"
             ]
            ],
            "type": "histogram2dcontour"
           }
          ],
          "mesh3d": [
           {
            "colorbar": {
             "outlinewidth": 0,
             "ticks": ""
            },
            "type": "mesh3d"
           }
          ],
          "parcoords": [
           {
            "line": {
             "colorbar": {
              "outlinewidth": 0,
              "ticks": ""
             }
            },
            "type": "parcoords"
           }
          ],
          "pie": [
           {
            "automargin": true,
            "type": "pie"
           }
          ],
          "scatter": [
           {
            "marker": {
             "colorbar": {
              "outlinewidth": 0,
              "ticks": ""
             }
            },
            "type": "scatter"
           }
          ],
          "scatter3d": [
           {
            "line": {
             "colorbar": {
              "outlinewidth": 0,
              "ticks": ""
             }
            },
            "marker": {
             "colorbar": {
              "outlinewidth": 0,
              "ticks": ""
             }
            },
            "type": "scatter3d"
           }
          ],
          "scattercarpet": [
           {
            "marker": {
             "colorbar": {
              "outlinewidth": 0,
              "ticks": ""
             }
            },
            "type": "scattercarpet"
           }
          ],
          "scattergeo": [
           {
            "marker": {
             "colorbar": {
              "outlinewidth": 0,
              "ticks": ""
             }
            },
            "type": "scattergeo"
           }
          ],
          "scattergl": [
           {
            "marker": {
             "colorbar": {
              "outlinewidth": 0,
              "ticks": ""
             }
            },
            "type": "scattergl"
           }
          ],
          "scattermapbox": [
           {
            "marker": {
             "colorbar": {
              "outlinewidth": 0,
              "ticks": ""
             }
            },
            "type": "scattermapbox"
           }
          ],
          "scatterpolar": [
           {
            "marker": {
             "colorbar": {
              "outlinewidth": 0,
              "ticks": ""
             }
            },
            "type": "scatterpolar"
           }
          ],
          "scatterpolargl": [
           {
            "marker": {
             "colorbar": {
              "outlinewidth": 0,
              "ticks": ""
             }
            },
            "type": "scatterpolargl"
           }
          ],
          "scatterternary": [
           {
            "marker": {
             "colorbar": {
              "outlinewidth": 0,
              "ticks": ""
             }
            },
            "type": "scatterternary"
           }
          ],
          "surface": [
           {
            "colorbar": {
             "outlinewidth": 0,
             "ticks": ""
            },
            "colorscale": [
             [
              0,
              "#0d0887"
             ],
             [
              0.1111111111111111,
              "#46039f"
             ],
             [
              0.2222222222222222,
              "#7201a8"
             ],
             [
              0.3333333333333333,
              "#9c179e"
             ],
             [
              0.4444444444444444,
              "#bd3786"
             ],
             [
              0.5555555555555556,
              "#d8576b"
             ],
             [
              0.6666666666666666,
              "#ed7953"
             ],
             [
              0.7777777777777778,
              "#fb9f3a"
             ],
             [
              0.8888888888888888,
              "#fdca26"
             ],
             [
              1,
              "#f0f921"
             ]
            ],
            "type": "surface"
           }
          ],
          "table": [
           {
            "cells": {
             "fill": {
              "color": "#EBF0F8"
             },
             "line": {
              "color": "white"
             }
            },
            "header": {
             "fill": {
              "color": "#C8D4E3"
             },
             "line": {
              "color": "white"
             }
            },
            "type": "table"
           }
          ]
         },
         "layout": {
          "annotationdefaults": {
           "arrowcolor": "#2a3f5f",
           "arrowhead": 0,
           "arrowwidth": 1
          },
          "autotypenumbers": "strict",
          "coloraxis": {
           "colorbar": {
            "outlinewidth": 0,
            "ticks": ""
           }
          },
          "colorscale": {
           "diverging": [
            [
             0,
             "#8e0152"
            ],
            [
             0.1,
             "#c51b7d"
            ],
            [
             0.2,
             "#de77ae"
            ],
            [
             0.3,
             "#f1b6da"
            ],
            [
             0.4,
             "#fde0ef"
            ],
            [
             0.5,
             "#f7f7f7"
            ],
            [
             0.6,
             "#e6f5d0"
            ],
            [
             0.7,
             "#b8e186"
            ],
            [
             0.8,
             "#7fbc41"
            ],
            [
             0.9,
             "#4d9221"
            ],
            [
             1,
             "#276419"
            ]
           ],
           "sequential": [
            [
             0,
             "#0d0887"
            ],
            [
             0.1111111111111111,
             "#46039f"
            ],
            [
             0.2222222222222222,
             "#7201a8"
            ],
            [
             0.3333333333333333,
             "#9c179e"
            ],
            [
             0.4444444444444444,
             "#bd3786"
            ],
            [
             0.5555555555555556,
             "#d8576b"
            ],
            [
             0.6666666666666666,
             "#ed7953"
            ],
            [
             0.7777777777777778,
             "#fb9f3a"
            ],
            [
             0.8888888888888888,
             "#fdca26"
            ],
            [
             1,
             "#f0f921"
            ]
           ],
           "sequentialminus": [
            [
             0,
             "#0d0887"
            ],
            [
             0.1111111111111111,
             "#46039f"
            ],
            [
             0.2222222222222222,
             "#7201a8"
            ],
            [
             0.3333333333333333,
             "#9c179e"
            ],
            [
             0.4444444444444444,
             "#bd3786"
            ],
            [
             0.5555555555555556,
             "#d8576b"
            ],
            [
             0.6666666666666666,
             "#ed7953"
            ],
            [
             0.7777777777777778,
             "#fb9f3a"
            ],
            [
             0.8888888888888888,
             "#fdca26"
            ],
            [
             1,
             "#f0f921"
            ]
           ]
          },
          "colorway": [
           "#636efa",
           "#EF553B",
           "#00cc96",
           "#ab63fa",
           "#FFA15A",
           "#19d3f3",
           "#FF6692",
           "#B6E880",
           "#FF97FF",
           "#FECB52"
          ],
          "font": {
           "color": "#2a3f5f"
          },
          "geo": {
           "bgcolor": "white",
           "lakecolor": "white",
           "landcolor": "#E5ECF6",
           "showlakes": true,
           "showland": true,
           "subunitcolor": "white"
          },
          "hoverlabel": {
           "align": "left"
          },
          "hovermode": "closest",
          "mapbox": {
           "style": "light"
          },
          "paper_bgcolor": "white",
          "plot_bgcolor": "#E5ECF6",
          "polar": {
           "angularaxis": {
            "gridcolor": "white",
            "linecolor": "white",
            "ticks": ""
           },
           "bgcolor": "#E5ECF6",
           "radialaxis": {
            "gridcolor": "white",
            "linecolor": "white",
            "ticks": ""
           }
          },
          "scene": {
           "xaxis": {
            "backgroundcolor": "#E5ECF6",
            "gridcolor": "white",
            "gridwidth": 2,
            "linecolor": "white",
            "showbackground": true,
            "ticks": "",
            "zerolinecolor": "white"
           },
           "yaxis": {
            "backgroundcolor": "#E5ECF6",
            "gridcolor": "white",
            "gridwidth": 2,
            "linecolor": "white",
            "showbackground": true,
            "ticks": "",
            "zerolinecolor": "white"
           },
           "zaxis": {
            "backgroundcolor": "#E5ECF6",
            "gridcolor": "white",
            "gridwidth": 2,
            "linecolor": "white",
            "showbackground": true,
            "ticks": "",
            "zerolinecolor": "white"
           }
          },
          "shapedefaults": {
           "line": {
            "color": "#2a3f5f"
           }
          },
          "ternary": {
           "aaxis": {
            "gridcolor": "white",
            "linecolor": "white",
            "ticks": ""
           },
           "baxis": {
            "gridcolor": "white",
            "linecolor": "white",
            "ticks": ""
           },
           "bgcolor": "#E5ECF6",
           "caxis": {
            "gridcolor": "white",
            "linecolor": "white",
            "ticks": ""
           }
          },
          "title": {
           "x": 0.05
          },
          "xaxis": {
           "automargin": true,
           "gridcolor": "white",
           "linecolor": "white",
           "ticks": "",
           "title": {
            "standoff": 15
           },
           "zerolinecolor": "white",
           "zerolinewidth": 2
          },
          "yaxis": {
           "automargin": true,
           "gridcolor": "white",
           "linecolor": "white",
           "ticks": "",
           "title": {
            "standoff": 15
           },
           "zerolinecolor": "white",
           "zerolinewidth": 2
          }
         }
        },
        "yaxis": {
         "scaleanchor": "x",
         "scaleratio": 1
        }
       }
      }
     },
     "metadata": {},
     "output_type": "display_data"
    }
   ],
   "source": [
    "from pySlope import Material, Slope, Udl, PointLoad\n",
    "\n",
    "s = Slope(height=3, angle=30, length=None)\n",
    "\n",
    "m1 = Material(unit_weight=20,friction_angle=35,cohesion=5,depth_to_bottom=2, name='Fill', color='blue')\n",
    "m2 = Material(20,30,2,5, name = 'sand', color='orange')\n",
    "\n",
    "u1 = Udl(magnitude = 100, offset=2, length=1, dynamic_offset=True, color='red')\n",
    "u2 = Udl(magnitude = 20, color='green')\n",
    "\n",
    "p1 = PointLoad(10,3, 'purple')\n",
    "\n",
    "s.set_udls(u1, u2)\n",
    "s.set_pls(p1)\n",
    "\n",
    "s.set_materials(m1,m2)\n",
    "\n",
    "s.set_water_table(4)\n",
    "\n",
    "s.update_water_analysis_options(auto=True)\n",
    "\n",
    "s.analyse_dynamic(1.05)\n",
    "\n",
    "f = s.plot_critical()\n",
    "\n",
    "f.show()\n"
   ]
  },
  {
   "cell_type": "code",
   "execution_count": 2,
   "metadata": {},
   "outputs": [
    {
     "data": {
      "text/plain": [
       "{4.54822: 1.4539854513812949}"
      ]
     },
     "execution_count": 2,
     "metadata": {},
     "output_type": "execute_result"
    }
   ],
   "source": [
    "s._dynamic_results"
   ]
  },
  {
   "cell_type": "code",
   "execution_count": null,
   "metadata": {},
   "outputs": [],
   "source": [
    "from pySlope import UDL"
   ]
  },
  {
   "cell_type": "code",
   "execution_count": null,
   "metadata": {},
   "outputs": [],
   "source": [
    "s._min_FOS_location\n",
    "s.plot_critical()"
   ]
  },
  {
   "cell_type": "code",
   "execution_count": null,
   "metadata": {},
   "outputs": [],
   "source": [
    "# intialise and empty plotly plot\n",
    "fig = px.line()\n",
    "\n",
    "# outer loop will represent each line on graph\n",
    "for fc in [50,40,32,20]:\n",
    "    # intilize empty and x and y array to represent data for lines\n",
    "    x = []\n",
    "    y = []\n",
    "    # inner loop will represent all the points on a line\n",
    "    for D in range(30,500,20):\n",
    "        # create conc class with parameters based on loops and other requirements\n",
    "        conc = Concrete(D = D, fc = fc)\n",
    "\n",
    "        # initialise y to be a value created off of the conc class\n",
    "        # can be conc.deemed(), conc.shear() or conc.bending()\n",
    "        y.append(conc.bending())\n",
    "\n",
    "        # intilise x value to be a representation of the inner loop value, either\n",
    "        # setting it to be the loop value or a related proportional value\n",
    "        x.append(conc.d)\n",
    "    \n",
    "    # add line with the following code, name will be the name displayed in the legend\n",
    "    # for the line and should be appropriate defined in relation to the outer loop\n",
    "    fig.add_trace(go.Scatter(x=x,y=y, name = str(fc) + \" MPa\"))\n",
    "\n",
    "# update title and axes titles for the graph\n",
    "fig.update_layout(\n",
    "        title={'text': \"SL81 at varying depth\", 'x': 0.5},\n",
    "        title_font_size=24,\n",
    "        showlegend=True,\n",
    "        hovermode='x')\n",
    "fig.update_xaxes(title_text='d (mm)')\n",
    "fig.update_yaxes(title_text='Moment Capacity (kN.m)')\n",
    "\n",
    "# show graph\n",
    "fig.show()\n",
    "\n",
    "# save graph (optional)\n",
    "# fig.write_image(\"./SL81_Bending.png\")\n",
    "# fig.write_html(\"./SL81_Bending.html\")"
   ]
  }
 ],
 "metadata": {
  "interpreter": {
   "hash": "961eff7faf67ce79553a65a2487d2e108eb15b996265a912167c96f0537f9b25"
  },
  "kernelspec": {
   "display_name": "Python 3.7.3 64-bit",
   "language": "python",
   "name": "python3"
  },
  "language_info": {
   "codemirror_mode": {
    "name": "ipython",
    "version": 3
   },
   "file_extension": ".py",
   "mimetype": "text/x-python",
   "name": "python",
   "nbconvert_exporter": "python",
   "pygments_lexer": "ipython3",
   "version": "3.7.3"
  },
  "orig_nbformat": 4
 },
 "nbformat": 4,
 "nbformat_minor": 2
}
