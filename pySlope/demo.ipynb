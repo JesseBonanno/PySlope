{
 "cells": [
  {
   "cell_type": "code",
   "execution_count": null,
   "metadata": {},
   "outputs": [],
   "source": [
    "from pySlope import Material, Slope, Udl, LineLoad\n",
    "\n",
    "s = Slope(height=3, angle=30, length=None)\n",
    "\n",
    "m1 = Material(unit_weight=20,friction_angle=35,cohesion=5,depth_to_bottom=2, name='Fill', color='blue')\n",
    "m2 = Material(20,30,2,5, name = 'sand', color='orange')\n",
    "\n",
    "u1 = Udl(magnitude = 100, offset=2, length=1, dynamic_offset=True, color='red')\n",
    "u2 = Udl(magnitude = 20, color='green')\n",
    "\n",
    "p1 = LineLoad(10,3, 'purple')\n",
    "\n",
    "s.set_udls(u1, u2)\n",
    "s.set_lls(p1)\n",
    "\n",
    "s.set_materials(m1,m2)\n",
    "\n",
    "s.set_water_table(4)\n",
    "\n",
    "s.update_water_analysis_options(auto=True)\n",
    "\n",
    "s.analyse_dynamic(1.05)\n",
    "\n",
    "f = s.plot_critical()\n",
    "\n",
    "f.show()\n"
   ]
  }
 ],
 "metadata": {
  "interpreter": {
   "hash": "961eff7faf67ce79553a65a2487d2e108eb15b996265a912167c96f0537f9b25"
  },
  "kernelspec": {
   "display_name": "Python 3.7.3 64-bit",
   "language": "python",
   "name": "python3"
  },
  "language_info": {
   "codemirror_mode": {
    "name": "ipython",
    "version": 3
   },
   "file_extension": ".py",
   "mimetype": "text/x-python",
   "name": "python",
   "nbconvert_exporter": "python",
   "pygments_lexer": "ipython3",
   "version": "3.7.3"
  },
  "orig_nbformat": 4
 },
 "nbformat": 4,
 "nbformat_minor": 2
}
