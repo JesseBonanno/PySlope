{
 "cells": [
  {
   "cell_type": "markdown",
   "metadata": {},
   "source": [
    "# Basic usage (Readme example)"
   ]
  },
  {
   "cell_type": "code",
   "execution_count": null,
   "metadata": {},
   "outputs": [],
   "source": [
    "# RUN THIS IF RUNNING IN FORK\n",
    "import os\n",
    "import sys\n",
    "sys.path.insert(0, os.path.abspath('../'))\n",
    "\n",
    "\n",
    "# import required classes\n",
    "from pyslope import (\n",
    "    Slope,\n",
    "    Material,\n",
    "    Udl,\n",
    "    LineLoad,\n",
    ")"
   ]
  },
  {
   "cell_type": "code",
   "execution_count": null,
   "metadata": {},
   "outputs": [],
   "source": [
    "# RUN THIS CELL FIRST TO INITIALISE GOOGLE NOTEBOOK!!!!\n",
    "!pip install pyslope\n",
    "\n",
    "# import required classes\n",
    "from pyslope import (\n",
    "    Slope,\n",
    "    Material,\n",
    "    Udl,\n",
    "    LineLoad,\n",
    ")"
   ]
  },
  {
   "cell_type": "code",
   "execution_count": null,
   "metadata": {},
   "outputs": [],
   "source": [
    "# Arbritrary example defined in README.md\n",
    "\n",
    "# slope defined with height (m) of slope and angle (deg) or length (m) of slope,\n",
    "# depending on which value is set and which is None.\n",
    "s = Slope(height=3, angle=30, length=None)\n",
    "\n",
    "# define a material with unit weight, friction angle, cohesion and depth from top\n",
    "# of slope to bottom of layer. The model will automatically order units and if\n",
    "# a material is the lowest it will be extended to the bottom of the model\n",
    "m1 = Material(\n",
    "    unit_weight=20,\n",
    "    friction_angle=45,\n",
    "    cohesion=2,\n",
    "    depth_to_bottom=2\n",
    ")\n",
    "\n",
    "# material can also be defined with positional arguments, if the user can remember\n",
    "# the order of required parameters.\n",
    "m2 = Material(20, 30, 2, 5)\n",
    "\n",
    "# the created material objects can then be assigned to the model.\n",
    "# The same depth to bottom cant be specified for two different materials and an\n",
    "# error will be raised if this happens\n",
    "s.set_materials(m1,m2)\n",
    "\n",
    "# define uniform load objects with magnitude (kPa), offset (m) from the crest of the slope\n",
    "# length of the load (m) (if greater than length slope or None then assumed continuous).\n",
    "u1 = Udl(magnitude = 100, offset = 2, length = 1)\n",
    "\n",
    "# by default offset = 0 (m) and length = None.\n",
    "u2 = Udl(magnitude = 20)\n",
    "\n",
    "# assign uniform loads to model \n",
    "s.set_udls(u1, u2)\n",
    "\n",
    "# define line load, similiar to Udl except there is no length parameter and magnitude is in units (kN/m)\n",
    "p1 = LineLoad(magnitude = 10, offset = 3)\n",
    "\n",
    "# assign line loads to slope\n",
    "s.set_lls(p1)\n",
    "\n",
    "# Set water table if required. If None then not considered, by default no water table.\n",
    "s.set_water_table(4)\n",
    "\n",
    "# set limits on the slope failure search zone\n",
    "s.set_analysis_limits(s._top_coord[0]-5,s._bot_coord[0]+5)\n",
    "\n",
    "# run calculations on the created slope\n",
    "s.analyse_slope()\n",
    "\n",
    "# print the critical FOS for the slope\n",
    "print('fos:',s.get_min_FOS())\n",
    "\n",
    "# plot the critical failure surface\n",
    "fig_1 = s.plot_critical()\n",
    "fig_1.show()\n",
    "\n",
    "# plot all failure planes with a FOS below 2\n",
    "fig_2 = s.plot_all_planes(max_fos=2)\n",
    "fig_2.show()\n",
    "\n",
    "\n",
    "# save the results (optional)\n",
    "# Can save figure using ``fig.write_image(\"./results.pdf\")`` (can change extension to be\n",
    "# png, jpg, svg or other formats as reired). Requires pip install -U kaleido\n",
    "\n",
    "# fig_1.write_image(\"./readme_example_plot_critical.png\")\n",
    "# fig_2.write_image(\"./readme_example_plot_all_maxfos2.png\")"
   ]
  },
  {
   "cell_type": "code",
   "execution_count": 4,
   "metadata": {},
   "outputs": [
    {
     "name": "stderr",
     "output_type": "stream",
     "text": [
      "  5%|▍         | 1/22 [00:00<00:02,  8.81it/s]"
     ]
    },
    {
     "name": "stdout",
     "output_type": "stream",
     "text": [
      "0\n"
     ]
    },
    {
     "name": "stderr",
     "output_type": "stream",
     "text": [
      "100%|██████████| 22/22 [00:02<00:00, 10.01it/s]\n",
      "100%|██████████| 22/22 [00:01<00:00, 13.32it/s]\n",
      "100%|██████████| 22/22 [00:01<00:00, 13.99it/s]\n",
      "100%|██████████| 22/22 [00:01<00:00, 12.62it/s]\n",
      "100%|██████████| 22/22 [00:01<00:00, 13.13it/s]\n",
      "100%|██████████| 22/22 [00:01<00:00, 14.64it/s]\n"
     ]
    },
    {
     "name": "stdout",
     "output_type": "stream",
     "text": [
      "{0: 1.018951675263677, 5.186152422706632: 1.4637918070650646, 2.1107452786599725: 1.2583850115430386, 1.596047161121361: 1.2351554701662022, 1.3365244807634573: 1.2008598217436637, 1.330207156159055: 1.199612619393561}\n",
      "Offset: 0  m, FOS: 1.019\n",
      "Offset: 5.186  m, FOS: 1.464\n",
      "Offset: 2.111  m, FOS: 1.258\n",
      "Offset: 1.596  m, FOS: 1.235\n",
      "Offset: 1.337  m, FOS: 1.201\n",
      "Offset: 1.33  m, FOS: 1.2\n"
     ]
    },
    {
     "data": {
      "application/vnd.plotly.v1+json": {
       "config": {
        "plotlyServerURL": "https://plot.ly"
       },
       "data": [
        {
         "mode": "lines",
         "name": "",
         "type": "scatter",
         "x": [
          0,
          0,
          10.392304845413264,
          15.588457268119896,
          25.98076211353316,
          25.98076211353316,
          0
         ],
         "y": [
          0,
          12.99038105676658,
          12.99038105676658,
          9.99038105676658,
          9.99038105676658,
          0,
          0
         ]
        },
        {
         "fill": "toself",
         "fillcolor": "#efa59c",
         "hovertemplate": "",
         "meta": [
          20,
          2,
          45,
          ""
         ],
         "mode": "lines",
         "name": "<br>γ: 20 kN/m3<br>c: 2 kPa<br>ϕ: 45 degrees",
         "type": "scatter",
         "x": [
          0,
          10.392304845413264,
          13.85640646055102,
          0
         ],
         "y": [
          12.99038105676658,
          12.99038105676658,
          10.99038105676658,
          10.99038105676658
         ]
        },
        {
         "fill": "toself",
         "fillcolor": "#77e1ca",
         "hovertemplate": "",
         "meta": [
          20,
          2,
          30,
          ""
         ],
         "mode": "lines",
         "name": "<br>γ: 20 kN/m3<br>c: 2 kPa<br>ϕ: 30 degrees",
         "type": "scatter",
         "x": [
          0,
          13.85640646055102,
          15.588457268119896,
          25.98076211353316,
          25.98076211353316,
          0
         ],
         "y": [
          10.99038105676658,
          10.99038105676658,
          9.99038105676658,
          9.99038105676658,
          0,
          0
         ]
        },
        {
         "line": {
          "color": "blue",
          "width": 4
         },
         "mode": "lines",
         "name": "",
         "type": "scatter",
         "x": [
          0,
          25.98076211353316
         ],
         "y": [
          8.99038105676658,
          8.99038105676658
         ]
        },
        {
         "hovertemplate": "%{meta[0]}",
         "line": {
          "color": "#e6d300"
         },
         "meta": [
          1.2
         ],
         "mode": "lines",
         "name": "",
         "type": "scatter",
         "x": [
          15.537411929063659,
          15.135642848396447,
          14.712204778362745,
          14.271175659051766,
          13.816802841973518,
          13.353462185741911,
          12.885615914164225,
          12.417769642586538,
          11.954428986354932,
          11.500056169276684,
          11.059027049965705,
          10.635588979932,
          10.23381989926479,
          9.85758906384022,
          9.510519782272121,
          9.195954521469368,
          8.91692271685235,
          8.676111597233831,
          8.475840305336485,
          8.31803756318071,
          8.204804845413264,
          12.885615914164218,
          15.588457268119896,
          15.537411929063659
         ],
         "y": [
          9.95579467223612,
          9.7149835526176,
          9.514712260720255,
          9.356909518564482,
          9.24309505282099,
          9.174364959012209,
          9.151381145513206,
          9.174364959012207,
          9.243095052820987,
          9.356909518564477,
          9.514712260720252,
          9.714983552617593,
          9.955794672236111,
          10.234826476853126,
          10.54939173765588,
          10.896461019223974,
          11.272691854648546,
          11.674460935315754,
          12.097899005349458,
          12.538928124660435,
          12.99038105676658,
          13.924487869547992,
          9.99038105676658,
          9.95579467223612
         ]
        },
        {
         "mode": "lines+text",
         "name": "",
         "text": [
          "1.200"
         ],
         "textfont": {
          "color": "#e6d300",
          "family": "sans serif",
          "size": 20
         },
         "textposition": "top right",
         "type": "scatter",
         "x": [
          12.885615914164218
         ],
         "y": [
          13.924487869547992
         ]
        }
       ],
       "layout": {
        "annotations": [
         {
          "font": {
           "color": "black",
           "size": 13
          },
          "showarrow": false,
          "text": "<b>MATERIAL</b>",
          "x": 0.1,
          "xref": "x domain",
          "xshift": 6.153846153846154,
          "y": 0.225,
          "yref": "y domain",
          "yshift": -13
         },
         {
          "font": {
           "color": "black",
           "size": 13
          },
          "showarrow": false,
          "text": "<b>COLOR</b>",
          "x": 0.2230769230769231,
          "xref": "x domain",
          "xshift": 6.153846153846154,
          "y": 0.225,
          "yref": "y domain",
          "yshift": -13
         },
         {
          "font": {
           "color": "black",
           "size": 13
          },
          "showarrow": false,
          "text": "<b>γ</b>",
          "x": 0.3153846153846154,
          "xref": "x domain",
          "xshift": 24.615384615384617,
          "y": 0.225,
          "yref": "y domain",
          "yshift": -13
         },
         {
          "font": {
           "color": "black",
           "size": 13
          },
          "showarrow": false,
          "text": "<b>c</b>",
          "x": 0.3769230769230769,
          "xref": "x domain",
          "xshift": 24.615384615384617,
          "y": 0.225,
          "yref": "y domain",
          "yshift": -13
         },
         {
          "font": {
           "color": "black",
           "size": 13
          },
          "showarrow": false,
          "text": "<b>ϕ</b>",
          "x": 0.43846153846153846,
          "xref": "x domain",
          "xshift": 24.615384615384617,
          "y": 0.225,
          "yref": "y domain",
          "yshift": -13
         },
         {
          "font": {
           "color": "black",
           "size": 13
          },
          "showarrow": false,
          "text": "",
          "x": 0.1,
          "xref": "x domain",
          "xshift": 6.153846153846154,
          "y": 0.175,
          "yref": "y domain",
          "yshift": -13
         },
         {
          "font": {
           "color": "black",
           "size": 13
          },
          "showarrow": false,
          "text": "20",
          "x": 0.3153846153846154,
          "xref": "x domain",
          "xshift": 24.615384615384617,
          "y": 0.175,
          "yref": "y domain",
          "yshift": -13
         },
         {
          "font": {
           "color": "black",
           "size": 13
          },
          "showarrow": false,
          "text": "2",
          "x": 0.3769230769230769,
          "xref": "x domain",
          "xshift": 24.615384615384617,
          "y": 0.175,
          "yref": "y domain",
          "yshift": -13
         },
         {
          "font": {
           "color": "black",
           "size": 13
          },
          "showarrow": false,
          "text": "45",
          "x": 0.43846153846153846,
          "xref": "x domain",
          "xshift": 24.615384615384617,
          "y": 0.175,
          "yref": "y domain",
          "yshift": -13
         },
         {
          "font": {
           "color": "black",
           "size": 13
          },
          "showarrow": false,
          "text": "",
          "x": 0.1,
          "xref": "x domain",
          "xshift": 6.153846153846154,
          "y": 0.12499999999999999,
          "yref": "y domain",
          "yshift": -13
         },
         {
          "font": {
           "color": "black",
           "size": 13
          },
          "showarrow": false,
          "text": "20",
          "x": 0.3153846153846154,
          "xref": "x domain",
          "xshift": 24.615384615384617,
          "y": 0.12499999999999999,
          "yref": "y domain",
          "yshift": -13
         },
         {
          "font": {
           "color": "black",
           "size": 13
          },
          "showarrow": false,
          "text": "2",
          "x": 0.3769230769230769,
          "xref": "x domain",
          "xshift": 24.615384615384617,
          "y": 0.12499999999999999,
          "yref": "y domain",
          "yshift": -13
         },
         {
          "font": {
           "color": "black",
           "size": 13
          },
          "showarrow": false,
          "text": "30",
          "x": 0.43846153846153846,
          "xref": "x domain",
          "xshift": 24.615384615384617,
          "y": 0.12499999999999999,
          "yref": "y domain",
          "yshift": -13
         },
         {
          "font": {
           "color": "black",
           "family": "sans serif",
           "size": 20
          },
          "showarrow": false,
          "text": "20 kPa",
          "x": 5.196152422706632,
          "xref": "x",
          "xshift": 0,
          "y": 12.99038105676658,
          "yref": "y",
          "yshift": 39
         },
         {
          "font": {
           "color": "black",
           "family": "sans serif",
           "size": 20
          },
          "showarrow": false,
          "text": "100 kPa",
          "x": 8.562097689254209,
          "xref": "x",
          "xshift": 0,
          "y": 12.99038105676658,
          "yref": "y",
          "yshift": 143
         },
         {
          "font": {
           "color": "black",
           "family": "sans serif",
           "size": 20
          },
          "showarrow": false,
          "text": "10 kN/m",
          "x": 7.392304845413264,
          "xref": "x",
          "xshift": 0,
          "y": 12.99038105676658,
          "yref": "y",
          "yshift": 195
         },
         {
          "font": {
           "color": "blue",
           "size": 25
          },
          "showarrow": false,
          "text": "▼",
          "x": 2.598076211353316,
          "y": 8.99038105676658,
          "yshift": 10
         },
         {
          "font": {
           "color": "blue",
           "size": 25
          },
          "showarrow": false,
          "text": "_",
          "x": 2.598076211353316,
          "y": 8.99038105676658,
          "yshift": 2
         },
         {
          "font": {
           "color": "black",
           "size": 25
          },
          "showarrow": false,
          "text": "▶",
          "x": 5.392304845413264,
          "xshift": -10,
          "y": 12.99038105676658,
          "yshift": 15
         },
         {
          "font": {
           "color": "black",
           "size": 25
          },
          "showarrow": false,
          "text": "◀",
          "x": 20.588457268119896,
          "xshift": 10,
          "y": 9.99038105676658,
          "yshift": 15
         },
         {
          "font": {
           "color": "black",
           "size": 25
          },
          "showarrow": false,
          "text": "|",
          "x": 20.588457268119896,
          "xshift": 0,
          "y": 9.99038105676658,
          "yshift": 15
         },
         {
          "font": {
           "color": "black",
           "size": 25
          },
          "showarrow": false,
          "text": "|",
          "x": 5.392304845413264,
          "xshift": 0,
          "y": 12.99038105676658,
          "yshift": 15
         }
        ],
        "height": 1200,
        "shapes": [
         {
          "fillcolor": "lightgrey",
          "type": "rect",
          "x0": 0.1,
          "x1": 0.5,
          "xref": "x domain",
          "y0": 0.2,
          "y1": 0.25,
          "yref": "y domain"
         },
         {
          "fillcolor": "white",
          "type": "rect",
          "x0": 0.1,
          "x1": 0.5,
          "xref": "x domain",
          "y0": 0.1,
          "y1": 0.2,
          "yref": "y domain"
         },
         {
          "type": "rect",
          "x0": 0.2230769230769231,
          "x1": 0.2230769230769231,
          "xref": "x domain",
          "y0": 0.1,
          "y1": 0.25,
          "yref": "y domain"
         },
         {
          "type": "rect",
          "x0": 0.3153846153846154,
          "x1": 0.3153846153846154,
          "xref": "x domain",
          "y0": 0.1,
          "y1": 0.25,
          "yref": "y domain"
         },
         {
          "type": "rect",
          "x0": 0.3769230769230769,
          "x1": 0.3769230769230769,
          "xref": "x domain",
          "y0": 0.1,
          "y1": 0.25,
          "yref": "y domain"
         },
         {
          "type": "rect",
          "x0": 0.43846153846153846,
          "x1": 0.43846153846153846,
          "xref": "x domain",
          "y0": 0.1,
          "y1": 0.25,
          "yref": "y domain"
         },
         {
          "type": "rect",
          "x0": 0.5,
          "x1": 0.5,
          "xref": "x domain",
          "y0": 0.1,
          "y1": 0.25,
          "yref": "y domain"
         },
         {
          "type": "rect",
          "x0": 0.1,
          "x1": 0.5,
          "xref": "x domain",
          "y0": 0.2,
          "y1": 0.2,
          "yref": "y domain"
         },
         {
          "type": "rect",
          "x0": 0.1,
          "x1": 0.5,
          "xref": "x domain",
          "y0": 0.15000000000000002,
          "y1": 0.15000000000000002,
          "yref": "y domain"
         },
         {
          "fillcolor": "#efa59c",
          "type": "rect",
          "x0": 0.2230769230769231,
          "x1": 0.3153846153846154,
          "xref": "paper",
          "y0": 0.15,
          "y1": 0.19999999999999998,
          "yref": "paper"
         },
         {
          "fillcolor": "#77e1ca",
          "type": "rect",
          "x0": 0.2230769230769231,
          "x1": 0.3153846153846154,
          "xref": "paper",
          "y0": 0.09999999999999998,
          "y1": 0.15,
          "yref": "paper"
         },
         {
          "line": {
           "color": "red",
           "width": 2
          },
          "type": "line",
          "x0": 0,
          "x1": -7,
          "xanchor": 0,
          "xref": "x",
          "xsizemode": "pixel",
          "y0": 0,
          "y1": 7,
          "yanchor": 12.99038105676658,
          "yref": "y",
          "ysizemode": "pixel"
         },
         {
          "line": {
           "color": "red",
           "width": 2
          },
          "type": "line",
          "x0": 0,
          "x1": 7,
          "xanchor": 0,
          "xref": "x",
          "xsizemode": "pixel",
          "y0": 0,
          "y1": 7,
          "yanchor": 12.99038105676658,
          "yref": "y",
          "ysizemode": "pixel"
         },
         {
          "line": {
           "color": "red",
           "width": 2
          },
          "type": "line",
          "x0": 0,
          "x1": 0,
          "xanchor": 0,
          "xref": "x",
          "xsizemode": "pixel",
          "y0": 0,
          "y1": 20,
          "yanchor": 12.99038105676658,
          "yref": "y",
          "ysizemode": "pixel"
         },
         {
          "line": {
           "color": "black",
           "width": 0
          },
          "type": "line",
          "x0": 0,
          "x1": 0,
          "xanchor": 5.196152422706632,
          "xref": "x",
          "xsizemode": "pixel",
          "y0": 0,
          "y1": 0,
          "yanchor": 12.99038105676658,
          "yref": "y",
          "ysizemode": "pixel"
         },
         {
          "line": {
           "color": "black",
           "width": 0
          },
          "type": "line",
          "x0": 0,
          "x1": 0,
          "xanchor": 5.196152422706632,
          "xref": "x",
          "xsizemode": "pixel",
          "y0": 0,
          "y1": 0,
          "yanchor": 12.99038105676658,
          "yref": "y",
          "ysizemode": "pixel"
         },
         {
          "line": {
           "color": "black",
           "width": 0
          },
          "type": "line",
          "x0": 0,
          "x1": 0,
          "xanchor": 5.196152422706632,
          "xref": "x",
          "xsizemode": "pixel",
          "y0": 0,
          "y1": 30,
          "yanchor": 12.99038105676658,
          "yref": "y",
          "ysizemode": "pixel"
         },
         {
          "line": {
           "color": "red",
           "width": 2
          },
          "type": "line",
          "x0": 0,
          "x1": -7,
          "xanchor": 10.392304845413264,
          "xref": "x",
          "xsizemode": "pixel",
          "y0": 0,
          "y1": 7,
          "yanchor": 12.99038105676658,
          "yref": "y",
          "ysizemode": "pixel"
         },
         {
          "line": {
           "color": "red",
           "width": 2
          },
          "type": "line",
          "x0": 0,
          "x1": 7,
          "xanchor": 10.392304845413264,
          "xref": "x",
          "xsizemode": "pixel",
          "y0": 0,
          "y1": 7,
          "yanchor": 12.99038105676658,
          "yref": "y",
          "ysizemode": "pixel"
         },
         {
          "line": {
           "color": "red",
           "width": 2
          },
          "type": "line",
          "x0": 0,
          "x1": 0,
          "xanchor": 10.392304845413264,
          "xref": "x",
          "xsizemode": "pixel",
          "y0": 0,
          "y1": 20,
          "yanchor": 12.99038105676658,
          "yref": "y",
          "ysizemode": "pixel"
         },
         {
          "line": {
           "color": "red",
           "width": 2
          },
          "type": "line",
          "x0": 0,
          "x1": 10.392304845413264,
          "xanchor": 0,
          "xref": "x",
          "y0": 20,
          "y1": 20,
          "yanchor": 12.99038105676658,
          "yref": "y",
          "ysizemode": "pixel"
         },
         {
          "fillcolor": "red",
          "line": {
           "width": 2
          },
          "opacity": 0.2,
          "type": "rect",
          "x0": 0,
          "x1": 10.392304845413264,
          "xanchor": 0,
          "xref": "x",
          "y0": 0,
          "y1": 20,
          "yanchor": 12.99038105676658,
          "yref": "y",
          "ysizemode": "pixel"
         },
         {
          "line": {
           "color": "purple",
           "width": 2
          },
          "type": "line",
          "x0": 0,
          "x1": -7,
          "xanchor": 8.062097689254209,
          "xref": "x",
          "xsizemode": "pixel",
          "y0": 0,
          "y1": 7,
          "yanchor": 12.99038105676658,
          "yref": "y",
          "ysizemode": "pixel"
         },
         {
          "line": {
           "color": "purple",
           "width": 2
          },
          "type": "line",
          "x0": 0,
          "x1": 7,
          "xanchor": 8.062097689254209,
          "xref": "x",
          "xsizemode": "pixel",
          "y0": 0,
          "y1": 7,
          "yanchor": 12.99038105676658,
          "yref": "y",
          "ysizemode": "pixel"
         },
         {
          "line": {
           "color": "purple",
           "width": 2
          },
          "type": "line",
          "x0": 0,
          "x1": 0,
          "xanchor": 8.062097689254209,
          "xref": "x",
          "xsizemode": "pixel",
          "y0": 0,
          "y1": 100,
          "yanchor": 12.99038105676658,
          "yref": "y",
          "ysizemode": "pixel"
         },
         {
          "line": {
           "color": "black",
           "width": 0
          },
          "type": "line",
          "x0": 0,
          "x1": 0,
          "xanchor": 8.562097689254209,
          "xref": "x",
          "xsizemode": "pixel",
          "y0": 0,
          "y1": 0,
          "yanchor": 12.99038105676658,
          "yref": "y",
          "ysizemode": "pixel"
         },
         {
          "line": {
           "color": "black",
           "width": 0
          },
          "type": "line",
          "x0": 0,
          "x1": 0,
          "xanchor": 8.562097689254209,
          "xref": "x",
          "xsizemode": "pixel",
          "y0": 0,
          "y1": 0,
          "yanchor": 12.99038105676658,
          "yref": "y",
          "ysizemode": "pixel"
         },
         {
          "line": {
           "color": "black",
           "width": 0
          },
          "type": "line",
          "x0": 0,
          "x1": 0,
          "xanchor": 8.562097689254209,
          "xref": "x",
          "xsizemode": "pixel",
          "y0": 0,
          "y1": 110,
          "yanchor": 12.99038105676658,
          "yref": "y",
          "ysizemode": "pixel"
         },
         {
          "line": {
           "color": "purple",
           "width": 2
          },
          "type": "line",
          "x0": 0,
          "x1": -7,
          "xanchor": 9.062097689254209,
          "xref": "x",
          "xsizemode": "pixel",
          "y0": 0,
          "y1": 7,
          "yanchor": 12.99038105676658,
          "yref": "y",
          "ysizemode": "pixel"
         },
         {
          "line": {
           "color": "purple",
           "width": 2
          },
          "type": "line",
          "x0": 0,
          "x1": 7,
          "xanchor": 9.062097689254209,
          "xref": "x",
          "xsizemode": "pixel",
          "y0": 0,
          "y1": 7,
          "yanchor": 12.99038105676658,
          "yref": "y",
          "ysizemode": "pixel"
         },
         {
          "line": {
           "color": "purple",
           "width": 2
          },
          "type": "line",
          "x0": 0,
          "x1": 0,
          "xanchor": 9.062097689254209,
          "xref": "x",
          "xsizemode": "pixel",
          "y0": 0,
          "y1": 100,
          "yanchor": 12.99038105676658,
          "yref": "y",
          "ysizemode": "pixel"
         },
         {
          "line": {
           "color": "purple",
           "width": 2
          },
          "type": "line",
          "x0": 8.062097689254209,
          "x1": 9.062097689254209,
          "xanchor": 8.062097689254209,
          "xref": "x",
          "y0": 100,
          "y1": 100,
          "yanchor": 12.99038105676658,
          "yref": "y",
          "ysizemode": "pixel"
         },
         {
          "fillcolor": "purple",
          "line": {
           "width": 2
          },
          "opacity": 0.2,
          "type": "rect",
          "x0": 8.062097689254209,
          "x1": 9.062097689254209,
          "xanchor": 8.062097689254209,
          "xref": "x",
          "y0": 0,
          "y1": 100,
          "yanchor": 12.99038105676658,
          "yref": "y",
          "ysizemode": "pixel"
         },
         {
          "line": {
           "color": "black",
           "width": 2
          },
          "type": "line",
          "x0": 0,
          "x1": -7,
          "xanchor": 7.392304845413264,
          "xref": "x",
          "xsizemode": "pixel",
          "y0": 0,
          "y1": 7,
          "yanchor": 12.99038105676658,
          "yref": "y",
          "ysizemode": "pixel"
         },
         {
          "line": {
           "color": "black",
           "width": 2
          },
          "type": "line",
          "x0": 0,
          "x1": 7,
          "xanchor": 7.392304845413264,
          "xref": "x",
          "xsizemode": "pixel",
          "y0": 0,
          "y1": 7,
          "yanchor": 12.99038105676658,
          "yref": "y",
          "ysizemode": "pixel"
         },
         {
          "line": {
           "color": "black",
           "width": 2
          },
          "type": "line",
          "x0": 0,
          "x1": 0,
          "xanchor": 7.392304845413264,
          "xref": "x",
          "xsizemode": "pixel",
          "y0": 0,
          "y1": 150,
          "yanchor": 12.99038105676658,
          "yref": "y",
          "ysizemode": "pixel"
         },
         {
          "line": {
           "color": "blue",
           "width": 2
          },
          "type": "line",
          "x0": 0,
          "x1": -7,
          "xanchor": 7.392304845413264,
          "xref": "x",
          "xsizemode": "pixel",
          "y0": 0,
          "y1": 7,
          "yanchor": 12.99038105676658,
          "yref": "y",
          "ysizemode": "pixel"
         },
         {
          "line": {
           "color": "blue",
           "width": 2
          },
          "type": "line",
          "x0": 0,
          "x1": 7,
          "xanchor": 7.392304845413264,
          "xref": "x",
          "xsizemode": "pixel",
          "y0": 0,
          "y1": 7,
          "yanchor": 12.99038105676658,
          "yref": "y",
          "ysizemode": "pixel"
         },
         {
          "line": {
           "color": "blue",
           "width": 2
          },
          "type": "line",
          "x0": 0,
          "x1": 0,
          "xanchor": 7.392304845413264,
          "xref": "x",
          "xsizemode": "pixel",
          "y0": 0,
          "y1": 150,
          "yanchor": 12.99038105676658,
          "yref": "y",
          "ysizemode": "pixel"
         }
        ],
        "showlegend": false,
        "template": {
         "data": {
          "bar": [
           {
            "error_x": {
             "color": "#2a3f5f"
            },
            "error_y": {
             "color": "#2a3f5f"
            },
            "marker": {
             "line": {
              "color": "#E5ECF6",
              "width": 0.5
             }
            },
            "type": "bar"
           }
          ],
          "barpolar": [
           {
            "marker": {
             "line": {
              "color": "#E5ECF6",
              "width": 0.5
             }
            },
            "type": "barpolar"
           }
          ],
          "carpet": [
           {
            "aaxis": {
             "endlinecolor": "#2a3f5f",
             "gridcolor": "white",
             "linecolor": "white",
             "minorgridcolor": "white",
             "startlinecolor": "#2a3f5f"
            },
            "baxis": {
             "endlinecolor": "#2a3f5f",
             "gridcolor": "white",
             "linecolor": "white",
             "minorgridcolor": "white",
             "startlinecolor": "#2a3f5f"
            },
            "type": "carpet"
           }
          ],
          "choropleth": [
           {
            "colorbar": {
             "outlinewidth": 0,
             "ticks": ""
            },
            "type": "choropleth"
           }
          ],
          "contour": [
           {
            "colorbar": {
             "outlinewidth": 0,
             "ticks": ""
            },
            "colorscale": [
             [
              0,
              "#0d0887"
             ],
             [
              0.1111111111111111,
              "#46039f"
             ],
             [
              0.2222222222222222,
              "#7201a8"
             ],
             [
              0.3333333333333333,
              "#9c179e"
             ],
             [
              0.4444444444444444,
              "#bd3786"
             ],
             [
              0.5555555555555556,
              "#d8576b"
             ],
             [
              0.6666666666666666,
              "#ed7953"
             ],
             [
              0.7777777777777778,
              "#fb9f3a"
             ],
             [
              0.8888888888888888,
              "#fdca26"
             ],
             [
              1,
              "#f0f921"
             ]
            ],
            "type": "contour"
           }
          ],
          "contourcarpet": [
           {
            "colorbar": {
             "outlinewidth": 0,
             "ticks": ""
            },
            "type": "contourcarpet"
           }
          ],
          "heatmap": [
           {
            "colorbar": {
             "outlinewidth": 0,
             "ticks": ""
            },
            "colorscale": [
             [
              0,
              "#0d0887"
             ],
             [
              0.1111111111111111,
              "#46039f"
             ],
             [
              0.2222222222222222,
              "#7201a8"
             ],
             [
              0.3333333333333333,
              "#9c179e"
             ],
             [
              0.4444444444444444,
              "#bd3786"
             ],
             [
              0.5555555555555556,
              "#d8576b"
             ],
             [
              0.6666666666666666,
              "#ed7953"
             ],
             [
              0.7777777777777778,
              "#fb9f3a"
             ],
             [
              0.8888888888888888,
              "#fdca26"
             ],
             [
              1,
              "#f0f921"
             ]
            ],
            "type": "heatmap"
           }
          ],
          "heatmapgl": [
           {
            "colorbar": {
             "outlinewidth": 0,
             "ticks": ""
            },
            "colorscale": [
             [
              0,
              "#0d0887"
             ],
             [
              0.1111111111111111,
              "#46039f"
             ],
             [
              0.2222222222222222,
              "#7201a8"
             ],
             [
              0.3333333333333333,
              "#9c179e"
             ],
             [
              0.4444444444444444,
              "#bd3786"
             ],
             [
              0.5555555555555556,
              "#d8576b"
             ],
             [
              0.6666666666666666,
              "#ed7953"
             ],
             [
              0.7777777777777778,
              "#fb9f3a"
             ],
             [
              0.8888888888888888,
              "#fdca26"
             ],
             [
              1,
              "#f0f921"
             ]
            ],
            "type": "heatmapgl"
           }
          ],
          "histogram": [
           {
            "marker": {
             "colorbar": {
              "outlinewidth": 0,
              "ticks": ""
             }
            },
            "type": "histogram"
           }
          ],
          "histogram2d": [
           {
            "colorbar": {
             "outlinewidth": 0,
             "ticks": ""
            },
            "colorscale": [
             [
              0,
              "#0d0887"
             ],
             [
              0.1111111111111111,
              "#46039f"
             ],
             [
              0.2222222222222222,
              "#7201a8"
             ],
             [
              0.3333333333333333,
              "#9c179e"
             ],
             [
              0.4444444444444444,
              "#bd3786"
             ],
             [
              0.5555555555555556,
              "#d8576b"
             ],
             [
              0.6666666666666666,
              "#ed7953"
             ],
             [
              0.7777777777777778,
              "#fb9f3a"
             ],
             [
              0.8888888888888888,
              "#fdca26"
             ],
             [
              1,
              "#f0f921"
             ]
            ],
            "type": "histogram2d"
           }
          ],
          "histogram2dcontour": [
           {
            "colorbar": {
             "outlinewidth": 0,
             "ticks": ""
            },
            "colorscale": [
             [
              0,
              "#0d0887"
             ],
             [
              0.1111111111111111,
              "#46039f"
             ],
             [
              0.2222222222222222,
              "#7201a8"
             ],
             [
              0.3333333333333333,
              "#9c179e"
             ],
             [
              0.4444444444444444,
              "#bd3786"
             ],
             [
              0.5555555555555556,
              "#d8576b"
             ],
             [
              0.6666666666666666,
              "#ed7953"
             ],
             [
              0.7777777777777778,
              "#fb9f3a"
             ],
             [
              0.8888888888888888,
              "#fdca26"
             ],
             [
              1,
              "#f0f921"
             ]
            ],
            "type": "histogram2dcontour"
           }
          ],
          "mesh3d": [
           {
            "colorbar": {
             "outlinewidth": 0,
             "ticks": ""
            },
            "type": "mesh3d"
           }
          ],
          "parcoords": [
           {
            "line": {
             "colorbar": {
              "outlinewidth": 0,
              "ticks": ""
             }
            },
            "type": "parcoords"
           }
          ],
          "pie": [
           {
            "automargin": true,
            "type": "pie"
           }
          ],
          "scatter": [
           {
            "marker": {
             "colorbar": {
              "outlinewidth": 0,
              "ticks": ""
             }
            },
            "type": "scatter"
           }
          ],
          "scatter3d": [
           {
            "line": {
             "colorbar": {
              "outlinewidth": 0,
              "ticks": ""
             }
            },
            "marker": {
             "colorbar": {
              "outlinewidth": 0,
              "ticks": ""
             }
            },
            "type": "scatter3d"
           }
          ],
          "scattercarpet": [
           {
            "marker": {
             "colorbar": {
              "outlinewidth": 0,
              "ticks": ""
             }
            },
            "type": "scattercarpet"
           }
          ],
          "scattergeo": [
           {
            "marker": {
             "colorbar": {
              "outlinewidth": 0,
              "ticks": ""
             }
            },
            "type": "scattergeo"
           }
          ],
          "scattergl": [
           {
            "marker": {
             "colorbar": {
              "outlinewidth": 0,
              "ticks": ""
             }
            },
            "type": "scattergl"
           }
          ],
          "scattermapbox": [
           {
            "marker": {
             "colorbar": {
              "outlinewidth": 0,
              "ticks": ""
             }
            },
            "type": "scattermapbox"
           }
          ],
          "scatterpolar": [
           {
            "marker": {
             "colorbar": {
              "outlinewidth": 0,
              "ticks": ""
             }
            },
            "type": "scatterpolar"
           }
          ],
          "scatterpolargl": [
           {
            "marker": {
             "colorbar": {
              "outlinewidth": 0,
              "ticks": ""
             }
            },
            "type": "scatterpolargl"
           }
          ],
          "scatterternary": [
           {
            "marker": {
             "colorbar": {
              "outlinewidth": 0,
              "ticks": ""
             }
            },
            "type": "scatterternary"
           }
          ],
          "surface": [
           {
            "colorbar": {
             "outlinewidth": 0,
             "ticks": ""
            },
            "colorscale": [
             [
              0,
              "#0d0887"
             ],
             [
              0.1111111111111111,
              "#46039f"
             ],
             [
              0.2222222222222222,
              "#7201a8"
             ],
             [
              0.3333333333333333,
              "#9c179e"
             ],
             [
              0.4444444444444444,
              "#bd3786"
             ],
             [
              0.5555555555555556,
              "#d8576b"
             ],
             [
              0.6666666666666666,
              "#ed7953"
             ],
             [
              0.7777777777777778,
              "#fb9f3a"
             ],
             [
              0.8888888888888888,
              "#fdca26"
             ],
             [
              1,
              "#f0f921"
             ]
            ],
            "type": "surface"
           }
          ],
          "table": [
           {
            "cells": {
             "fill": {
              "color": "#EBF0F8"
             },
             "line": {
              "color": "white"
             }
            },
            "header": {
             "fill": {
              "color": "#C8D4E3"
             },
             "line": {
              "color": "white"
             }
            },
            "type": "table"
           }
          ]
         },
         "layout": {
          "annotationdefaults": {
           "arrowcolor": "#2a3f5f",
           "arrowhead": 0,
           "arrowwidth": 1
          },
          "autotypenumbers": "strict",
          "coloraxis": {
           "colorbar": {
            "outlinewidth": 0,
            "ticks": ""
           }
          },
          "colorscale": {
           "diverging": [
            [
             0,
             "#8e0152"
            ],
            [
             0.1,
             "#c51b7d"
            ],
            [
             0.2,
             "#de77ae"
            ],
            [
             0.3,
             "#f1b6da"
            ],
            [
             0.4,
             "#fde0ef"
            ],
            [
             0.5,
             "#f7f7f7"
            ],
            [
             0.6,
             "#e6f5d0"
            ],
            [
             0.7,
             "#b8e186"
            ],
            [
             0.8,
             "#7fbc41"
            ],
            [
             0.9,
             "#4d9221"
            ],
            [
             1,
             "#276419"
            ]
           ],
           "sequential": [
            [
             0,
             "#0d0887"
            ],
            [
             0.1111111111111111,
             "#46039f"
            ],
            [
             0.2222222222222222,
             "#7201a8"
            ],
            [
             0.3333333333333333,
             "#9c179e"
            ],
            [
             0.4444444444444444,
             "#bd3786"
            ],
            [
             0.5555555555555556,
             "#d8576b"
            ],
            [
             0.6666666666666666,
             "#ed7953"
            ],
            [
             0.7777777777777778,
             "#fb9f3a"
            ],
            [
             0.8888888888888888,
             "#fdca26"
            ],
            [
             1,
             "#f0f921"
            ]
           ],
           "sequentialminus": [
            [
             0,
             "#0d0887"
            ],
            [
             0.1111111111111111,
             "#46039f"
            ],
            [
             0.2222222222222222,
             "#7201a8"
            ],
            [
             0.3333333333333333,
             "#9c179e"
            ],
            [
             0.4444444444444444,
             "#bd3786"
            ],
            [
             0.5555555555555556,
             "#d8576b"
            ],
            [
             0.6666666666666666,
             "#ed7953"
            ],
            [
             0.7777777777777778,
             "#fb9f3a"
            ],
            [
             0.8888888888888888,
             "#fdca26"
            ],
            [
             1,
             "#f0f921"
            ]
           ]
          },
          "colorway": [
           "#636efa",
           "#EF553B",
           "#00cc96",
           "#ab63fa",
           "#FFA15A",
           "#19d3f3",
           "#FF6692",
           "#B6E880",
           "#FF97FF",
           "#FECB52"
          ],
          "font": {
           "color": "#2a3f5f"
          },
          "geo": {
           "bgcolor": "white",
           "lakecolor": "white",
           "landcolor": "#E5ECF6",
           "showlakes": true,
           "showland": true,
           "subunitcolor": "white"
          },
          "hoverlabel": {
           "align": "left"
          },
          "hovermode": "closest",
          "mapbox": {
           "style": "light"
          },
          "paper_bgcolor": "white",
          "plot_bgcolor": "#E5ECF6",
          "polar": {
           "angularaxis": {
            "gridcolor": "white",
            "linecolor": "white",
            "ticks": ""
           },
           "bgcolor": "#E5ECF6",
           "radialaxis": {
            "gridcolor": "white",
            "linecolor": "white",
            "ticks": ""
           }
          },
          "scene": {
           "xaxis": {
            "backgroundcolor": "#E5ECF6",
            "gridcolor": "white",
            "gridwidth": 2,
            "linecolor": "white",
            "showbackground": true,
            "ticks": "",
            "zerolinecolor": "white"
           },
           "yaxis": {
            "backgroundcolor": "#E5ECF6",
            "gridcolor": "white",
            "gridwidth": 2,
            "linecolor": "white",
            "showbackground": true,
            "ticks": "",
            "zerolinecolor": "white"
           },
           "zaxis": {
            "backgroundcolor": "#E5ECF6",
            "gridcolor": "white",
            "gridwidth": 2,
            "linecolor": "white",
            "showbackground": true,
            "ticks": "",
            "zerolinecolor": "white"
           }
          },
          "shapedefaults": {
           "line": {
            "color": "#2a3f5f"
           }
          },
          "ternary": {
           "aaxis": {
            "gridcolor": "white",
            "linecolor": "white",
            "ticks": ""
           },
           "baxis": {
            "gridcolor": "white",
            "linecolor": "white",
            "ticks": ""
           },
           "bgcolor": "#E5ECF6",
           "caxis": {
            "gridcolor": "white",
            "linecolor": "white",
            "ticks": ""
           }
          },
          "title": {
           "x": 0.05
          },
          "xaxis": {
           "automargin": true,
           "gridcolor": "white",
           "linecolor": "white",
           "ticks": "",
           "title": {
            "standoff": 15
           },
           "zerolinecolor": "white",
           "zerolinewidth": 2
          },
          "yaxis": {
           "automargin": true,
           "gridcolor": "white",
           "linecolor": "white",
           "ticks": "",
           "title": {
            "standoff": 15
           },
           "zerolinecolor": "white",
           "zerolinewidth": 2
          }
         }
        },
        "width": 2000,
        "yaxis": {
         "scaleanchor": "x",
         "scaleratio": 1
        }
       }
      }
     },
     "metadata": {},
     "output_type": "display_data"
    }
   ],
   "source": [
    "# lets say i want to see how close i can move my 100 kPa UDL\n",
    "# while keeping the FOS above 1.2\n",
    "\n",
    "# remove udl object load from slope\n",
    "s.remove_udls(u1)\n",
    "\n",
    "# if we didnt have the object we could remove all and readd the\n",
    "# other udl object\n",
    "s.remove_udls(remove_all=True)\n",
    "s.set_udls(u2)\n",
    "\n",
    "# now lets add the udl again but this time set the load as 'dynamic'\n",
    "# for all loads and materials we also have the option to set the color ourselves\n",
    "# lets try set the color as 'purple'\n",
    "s.set_udls(\n",
    "    Udl(magnitude=100, length=1, offset=2, dynamic_offset=True, color='purple')\n",
    ")\n",
    "\n",
    "# note that if we try to look at the minimum FOS now we get nothing.\n",
    "# if we change anything about the model all previosu calculations are thrown out.\n",
    "print(s.get_min_FOS())\n",
    "\n",
    "# lets run a dynamic analysis to see what the offset would be:\n",
    "s.analyse_dynamic(critical_fos=1.2)\n",
    "\n",
    "print(s.get_dynamic_results())\n",
    "\n",
    "for k,v in s.get_dynamic_results().items():\n",
    "    print('Offset:', round(k,3), ' m, FOS:', round(v,3))\n",
    "\n",
    "fig_3 = s.plot_critical()\n",
    "fig_3.show()\n",
    "\n",
    "fig_3.write_image(\"./readme_example_plot_dynamic.png\")"
   ]
  }
 ],
 "metadata": {
  "kernelspec": {
   "display_name": "Python 3",
   "language": "python",
   "name": "python3"
  },
  "language_info": {
   "codemirror_mode": {
    "name": "ipython",
    "version": 3
   },
   "file_extension": ".py",
   "mimetype": "text/x-python",
   "name": "python",
   "nbconvert_exporter": "python",
   "pygments_lexer": "ipython3",
   "version": "3.7.3"
  }
 },
 "nbformat": 4,
 "nbformat_minor": 2
}
