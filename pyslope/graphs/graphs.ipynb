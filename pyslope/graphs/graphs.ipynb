{
 "cells": [
  {
   "cell_type": "code",
   "execution_count": null,
   "metadata": {},
   "outputs": [],
   "source": [
    "from pyslope import Slope, Material\n",
    "import plotly.express as px\n",
    "import plotly.graph_objects as go"
   ]
  },
  {
   "cell_type": "code",
   "execution_count": null,
   "metadata": {},
   "outputs": [],
   "source": [
    "\n",
    "s = Slope(height=2, angle=70, length=None)\n",
    "\n",
    "m1 = Material(20,35,5,1)\n",
    "m2 = Material(20,35,0,5)\n",
    "\n",
    "s.set_materials(m1)\n",
    "\n",
    "s.analyse_slope()\n",
    "\n",
    "fig = s.plot_critical()\n",
    "\n",
    "fig.show()"
   ]
  },
  {
   "cell_type": "code",
   "execution_count": null,
   "metadata": {},
   "outputs": [],
   "source": [
    "# intialise and empty plotly plot\n",
    "fig = px.line()\n",
    "\n",
    "sandstone_fill = Material(20,35,5,1)\n",
    "\n",
    "# outer loop will represent each line on graph\n",
    "for load in [0,5,10,20,50,100,200]:\n",
    "    # intilize empty and x and y array to represent data for lines\n",
    "    x = []\n",
    "    y = []\n",
    "    # inner loop will represent all the points on a line\n",
    "    for offset in range(0,10,1):\n",
    "        offset = offset /2\n",
    "        # create conc class with parameters based on loops and other requirements\n",
    "        s = Slope(height=5, angle=45, length=None)\n",
    "        s.set_materials(sandstone_fill)\n",
    "        s.set_lls(offset, load)\n",
    "        s.analyse_slope()\n",
    "\n",
    "        # initialise y to be a value created off of the conc class\n",
    "        # can be conc.deemed(), conc.shear() or conc.bending()\n",
    "        y.append(s.get_min_FOS())\n",
    "\n",
    "        # intilise x value to be a representation of the inner loop value, either\n",
    "        # setting it to be the loop value or a related proportional value\n",
    "        x.append(offset)\n",
    "    \n",
    "    # add line with the following code, name will be the name displayed in the legend\n",
    "    # for the line and should be appropriate defined in relation to the outer loop\n",
    "    fig.add_trace(go.Scatter(x=x,y=y, name = str(load) + \" kPa\"))\n",
    "\n",
    "# update title and axes titles for the graph\n",
    "fig.update_layout(\n",
    "        title={'text': \"phi=35,gamma=20,c=5 @1:1 batter\", 'x': 0.5},\n",
    "        title_font_size=24,\n",
    "        showlegend=True,\n",
    "        hovermode='x')\n",
    "fig.update_xaxes(title_text='Load Offset (m)')\n",
    "fig.update_yaxes(title_text='FOS')\n",
    "\n",
    "# show graph\n",
    "fig.show()\n",
    "\n",
    "# save graph (optional)\n",
    "# fig.write_image(\"./SL81_Bending.png\")\n",
    "# fig.write_html(\"./SL81_Bending.html\")"
   ]
  },
  {
   "cell_type": "code",
   "execution_count": null,
   "metadata": {},
   "outputs": [],
   "source": [
    "fig.write_html('sandstone_fill_1_1.html')"
   ]
  },
  {
   "cell_type": "code",
   "execution_count": null,
   "metadata": {},
   "outputs": [],
   "source": [
    "# intialise and empty plotly plot\n",
    "fig = px.line()\n",
    "\n",
    "sandstone_fill = Material(20,35,5,1)\n",
    "\n",
    "# outer loop will represent each line on graph\n",
    "for a in range(10,71,10):\n",
    "    # intilize empty and x and y array to represent data for lines\n",
    "    x = []\n",
    "    y = []\n",
    "    # inner loop will represent all the points on a line\n",
    "    for load in [0,5,10,20,50,100]:\n",
    "        \n",
    "        for offset in range(0,12,1):\n",
    "            offset = offset / 2\n",
    "            # create conc class with parameters based on loops and other requirements\n",
    "            s = Slope(height=2, angle=a, length=None)\n",
    "            s.set_materials(sandstone_fill)\n",
    "            s.set_lls(offset, load)\n",
    "            s.analyse_slope()\n",
    "\n",
    "            if s.get_min_FOS() >=1.25:\n",
    "\n",
    "                # initialise y to be a value created off of the conc class\n",
    "                # can be conc.deemed(), conc.shear() or conc.bending()\n",
    "                y.append(load)\n",
    "\n",
    "                # intilise x value to be a representation of the inner loop value, either\n",
    "                # setting it to be the loop value or a related proportional value\n",
    "                x.append(offset)\n",
    "\n",
    "                break\n",
    "\n",
    "    # add line with the following code, name will be the name displayed in the legend\n",
    "    # for the line and should be appropriate defined in relation to the outer loop\n",
    "    fig.add_trace(go.Scatter(x=x,y=y, name = str(a) + \" degrees\"))\n",
    "\n",
    "# update title and axes titles for the graph\n",
    "fig.update_layout(\n",
    "        title={'text': \"phi=35,gamma=20,c=5 ,H=2m, Condition > 1.25 FOS\", 'x': 0.5},\n",
    "        title_font_size=24,\n",
    "        showlegend=True,\n",
    "        hovermode='x')\n",
    "fig.update_xaxes(title_text='Load Offset (m)')\n",
    "fig.update_yaxes(title_text='Load Pressure (kPa)')\n",
    "\n",
    "# show graph\n",
    "fig.show()\n",
    "\n",
    "# save graph (optional)\n",
    "# fig.write_image(\"./SL81_Bending.png\")\n",
    "# fig.write_html(\"./SL81_Bending.html\")"
   ]
  },
  {
   "cell_type": "code",
   "execution_count": null,
   "metadata": {},
   "outputs": [],
   "source": [
    "fig.write_html('graphs/sandstone_fill_FOS_1.25_for_loads_and_angles.html')"
   ]
  }
 ],
 "metadata": {
  "interpreter": {
   "hash": "961eff7faf67ce79553a65a2487d2e108eb15b996265a912167c96f0537f9b25"
  },
  "kernelspec": {
   "display_name": "Python 3.7.3 64-bit",
   "language": "python",
   "name": "python3"
  },
  "language_info": {
   "codemirror_mode": {
    "name": "ipython",
    "version": 3
   },
   "file_extension": ".py",
   "mimetype": "text/x-python",
   "name": "python",
   "nbconvert_exporter": "python",
   "pygments_lexer": "ipython3",
   "version": "3.7.3"
  },
  "orig_nbformat": 4
 },
 "nbformat": 4,
 "nbformat_minor": 2
}
