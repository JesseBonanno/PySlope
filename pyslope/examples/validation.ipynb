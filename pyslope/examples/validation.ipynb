{
 "cells": [
  {
   "cell_type": "markdown",
   "metadata": {},
   "source": [
    "# Basic usage (Readme example)"
   ]
  },
  {
   "cell_type": "code",
   "execution_count": 2,
   "metadata": {},
   "outputs": [],
   "source": [
    "# RUN THIS IF RUNNING IN FORK\n",
    "import os\n",
    "import sys\n",
    "sys.path.insert(0, os.path.abspath('../'))\n",
    "\n",
    "\n",
    "# import required classes\n",
    "from pyslope import (\n",
    "    Slope,\n",
    "    Material,\n",
    "    Udl,\n",
    "    LineLoad,\n",
    ")"
   ]
  },
  {
   "cell_type": "code",
   "execution_count": null,
   "metadata": {},
   "outputs": [],
   "source": [
    "# RUN THIS CELL FIRST TO INITIALISE GOOGLE NOTEBOOK!!!!\n",
    "!pip install pyslope\n",
    "\n",
    "# import required classes\n",
    "from pyslope import (\n",
    "    Slope,\n",
    "    Material,\n",
    "    Udl,\n",
    "    LineLoad,\n",
    ")"
   ]
  },
  {
   "cell_type": "markdown",
   "metadata": {},
   "source": [
    "## Example a).Cohesionless"
   ]
  },
  {
   "cell_type": "code",
   "execution_count": 3,
   "metadata": {},
   "outputs": [
    {
     "name": "stderr",
     "output_type": "stream",
     "text": [
      "100%|██████████| 4/4 [00:00<00:00, 499.54it/s]\n"
     ]
    },
    {
     "name": "stdout",
     "output_type": "stream",
     "text": [
      "length of search is 4\n",
      "length of search is 4\n",
      "fos: 1.270368695645986\n"
     ]
    },
    {
     "name": "stderr",
     "output_type": "stream",
     "text": [
      "100%|██████████| 4/4 [00:00<00:00, 1608.09it/s]\n"
     ]
    },
    {
     "data": {
      "application/vnd.plotly.v1+json": {
       "config": {
        "plotlyServerURL": "https://plot.ly"
       },
       "data": [
        {
         "mode": "lines",
         "name": "",
         "type": "scatter",
         "x": [
          0,
          0,
          4.5,
          5.5,
          10,
          10,
          0
         ],
         "y": [
          0,
          6,
          6,
          5,
          5,
          0,
          0
         ]
        },
        {
         "fill": "toself",
         "fillcolor": "#efa59c",
         "hovertemplate": "",
         "meta": [
          20,
          0,
          35,
          ""
         ],
         "mode": "lines",
         "name": "<br>γ: 20 kN/m3<br>c: 0 kPa<br>ϕ: 35 degrees",
         "type": "scatter",
         "x": [
          0,
          4.5,
          5,
          0
         ],
         "y": [
          6,
          6,
          5.5,
          5.5
         ]
        },
        {
         "fill": "toself",
         "fillcolor": "#77e1ca",
         "hovertemplate": "",
         "meta": [
          20,
          0,
          35,
          ""
         ],
         "mode": "lines",
         "name": "<br>γ: 20 kN/m3<br>c: 0 kPa<br>ϕ: 35 degrees",
         "type": "scatter",
         "x": [
          0,
          5,
          5.5,
          0
         ],
         "y": [
          5.5,
          5.5,
          5,
          5
         ]
        },
        {
         "fill": "toself",
         "fillcolor": "#cdacfc",
         "hovertemplate": "",
         "meta": [
          18,
          0,
          30,
          ""
         ],
         "mode": "lines",
         "name": "<br>γ: 18 kN/m3<br>c: 0 kPa<br>ϕ: 30 degrees",
         "type": "scatter",
         "x": [
          0,
          5.5,
          5.5,
          10,
          10,
          0
         ],
         "y": [
          5,
          5,
          5,
          5,
          0,
          0
         ]
        },
        {
         "hovertemplate": "",
         "line": {
          "color": "#cdd900"
         },
         "mode": "lines",
         "name": "",
         "texttemplate": "",
         "type": "scatter",
         "x": [
          4.188,
          4.241,
          4.296,
          4.353,
          4.411,
          4.47,
          4.53,
          4.592,
          4.655,
          4.719,
          4.783,
          4.849,
          4.911437827766148,
          5.5,
          4.177124344467705,
          4.188
         ],
         "y": [
          5.991,
          5.946,
          5.903,
          5.862,
          5.823,
          5.786,
          5.751,
          5.718,
          5.687,
          5.659,
          5.633,
          5.609,
          5.5885621722338525,
          7.5,
          6,
          5.991
         ]
        },
        {
         "hovertemplate": "Centre: (5.500, 7.500)<br>Radius: 2.000<br>FOS: 1.270",
         "mode": "lines+text",
         "name": "",
         "text": [
          "1.270"
         ],
         "textfont": {
          "color": "#cdd900",
          "family": "sans serif",
          "size": 20
         },
         "textposition": "top right",
         "texttemplate": "%{text}",
         "type": "scatter",
         "x": [
          5.5
         ],
         "y": [
          7.5
         ]
        },
        {
         "hovertemplate": "%{meta[0]}",
         "line": {
          "color": "#800080"
         },
         "meta": [
          5.718
         ],
         "mode": "lines",
         "name": "",
         "type": "scatter",
         "x": [
          0.7303039929152719,
          0.772,
          0.832,
          0.897,
          0.968,
          1.045,
          1.127,
          1.214,
          1.307,
          1.404,
          1.507,
          1.614,
          1.726,
          1.843,
          1.964,
          2.09,
          2.22,
          2.353,
          2.491,
          2.632,
          2.777,
          2.925,
          3.076,
          3.23,
          3.387,
          3.546,
          3.708,
          3.872,
          4.038,
          4.206,
          4.375,
          4.546,
          4.718,
          4.891,
          5.064,
          5.238,
          5.413,
          5.587,
          5.762,
          5.936,
          6.109,
          6.282,
          6.454,
          6.625,
          6.794,
          6.962,
          7.128,
          7.292,
          7.454,
          7.613,
          7.77,
          7.924,
          8.075,
          8.223,
          8.368,
          8.509,
          8.647,
          8.78,
          8.91,
          9.036,
          9.157,
          9.274,
          9.386,
          9.493,
          9.596,
          9.693,
          9.786,
          9.830127018922195
         ],
         "y": [
          6,
          5.872,
          5.708,
          5.546,
          5.387,
          5.23,
          5.076,
          4.925,
          4.777,
          4.632,
          4.491,
          4.353,
          4.22,
          4.09,
          3.964,
          3.843,
          3.726,
          3.614,
          3.507,
          3.404,
          3.307,
          3.214,
          3.127,
          3.045,
          2.968,
          2.897,
          2.832,
          2.772,
          2.718,
          2.67,
          2.628,
          2.592,
          2.562,
          2.537,
          2.519,
          2.507,
          2.501,
          2.501,
          2.507,
          2.519,
          2.537,
          2.562,
          2.592,
          2.628,
          2.67,
          2.718,
          2.772,
          2.832,
          2.897,
          2.968,
          3.045,
          3.127,
          3.214,
          3.307,
          3.404,
          3.507,
          3.614,
          3.726,
          3.843,
          3.964,
          4.09,
          4.22,
          4.353,
          4.491,
          4.632,
          4.777,
          4.925,
          5
         ]
        },
        {
         "hovertemplate": "%{meta[0]}",
         "line": {
          "color": "#0c28a8"
         },
         "meta": [
          3.9
         ],
         "mode": "lines",
         "name": "",
         "type": "scatter",
         "x": [
          1.791900756452169,
          1.818,
          1.875,
          1.936,
          2.002,
          2.071,
          2.145,
          2.223,
          2.305,
          2.391,
          2.481,
          2.575,
          2.672,
          2.772,
          2.876,
          2.983,
          3.093,
          3.206,
          3.321,
          3.44,
          3.561,
          3.684,
          3.81,
          3.937,
          4.067,
          4.198,
          4.331,
          4.465,
          4.6,
          4.737,
          4.874,
          5.013,
          5.151,
          5.291,
          5.43,
          5.57,
          5.709,
          5.849,
          5.987,
          6.126,
          6.263,
          6.4,
          6.535,
          6.669,
          6.802,
          6.933,
          7.063,
          7.19,
          7.316,
          7.439,
          7.56,
          7.679,
          7.794,
          7.907,
          8.017,
          8.124,
          8.228,
          8.328,
          8.425,
          8.519,
          8.609,
          8.622498999199198
         ],
         "y": [
          6,
          5.937,
          5.81,
          5.684,
          5.561,
          5.44,
          5.321,
          5.206,
          5.093,
          4.983,
          4.876,
          4.772,
          4.672,
          4.575,
          4.481,
          4.391,
          4.305,
          4.223,
          4.145,
          4.071,
          4.002,
          3.936,
          3.875,
          3.818,
          3.766,
          3.718,
          3.675,
          3.636,
          3.603,
          3.573,
          3.549,
          3.53,
          3.515,
          3.505,
          3.501,
          3.501,
          3.505,
          3.515,
          3.53,
          3.549,
          3.573,
          3.603,
          3.636,
          3.675,
          3.718,
          3.766,
          3.818,
          3.875,
          3.936,
          4.002,
          4.071,
          4.145,
          4.223,
          4.305,
          4.391,
          4.481,
          4.575,
          4.672,
          4.772,
          4.876,
          4.983,
          5
         ]
        },
        {
         "hovertemplate": "%{meta[0]}",
         "line": {
          "color": "#028923"
         },
         "meta": [
          2.178
         ],
         "mode": "lines",
         "name": "",
         "type": "scatter",
         "x": [
          2.901923788646684,
          2.928,
          2.984,
          3.043,
          3.104,
          3.169,
          3.236,
          3.306,
          3.379,
          3.454,
          3.532,
          3.612,
          3.695,
          3.779,
          3.866,
          3.955,
          4.046,
          4.138,
          4.232,
          4.328,
          4.425,
          4.523,
          4.623,
          4.724,
          4.825,
          4.928,
          5.031,
          5.134,
          5.239,
          5.343,
          5.448,
          5.552,
          5.657,
          5.761,
          5.866,
          5.969,
          6.072,
          6.175,
          6.276,
          6.377,
          6.477,
          6.575,
          6.672,
          6.768,
          6.862,
          6.954,
          7.045,
          7.134,
          7.1583123951777
         ],
         "y": [
          6,
          5.955,
          5.866,
          5.779,
          5.695,
          5.612,
          5.532,
          5.454,
          5.379,
          5.306,
          5.236,
          5.169,
          5.104,
          5.043,
          4.984,
          4.928,
          4.876,
          4.827,
          4.781,
          4.738,
          4.699,
          4.663,
          4.631,
          4.602,
          4.577,
          4.555,
          4.537,
          4.522,
          4.511,
          4.504,
          4.5,
          4.5,
          4.504,
          4.511,
          4.522,
          4.537,
          4.555,
          4.577,
          4.602,
          4.631,
          4.663,
          4.699,
          4.738,
          4.781,
          4.827,
          4.876,
          4.928,
          4.984,
          5
         ]
        },
        {
         "hovertemplate": "%{meta[0]}",
         "line": {
          "color": "#cdd900"
         },
         "meta": [
          1.27
         ],
         "mode": "lines",
         "name": "",
         "type": "scatter",
         "x": [
          4.177124344467705,
          4.188,
          4.241,
          4.296,
          4.353,
          4.411,
          4.47,
          4.53,
          4.592,
          4.655,
          4.719,
          4.783,
          4.849,
          4.911437827766148
         ],
         "y": [
          6,
          5.991,
          5.946,
          5.903,
          5.862,
          5.823,
          5.786,
          5.751,
          5.718,
          5.687,
          5.659,
          5.633,
          5.609,
          5.5885621722338525
         ]
        }
       ],
       "layout": {
        "annotations": [
         {
          "font": {
           "color": "black",
           "size": 13
          },
          "showarrow": false,
          "text": "<b>MATERIAL</b>",
          "x": 0.1,
          "xref": "x domain",
          "xshift": 6.153846153846154,
          "y": 0.275,
          "yref": "y domain",
          "yshift": -13
         },
         {
          "font": {
           "color": "black",
           "size": 13
          },
          "showarrow": false,
          "text": "<b>COLOR</b>",
          "x": 0.2230769230769231,
          "xref": "x domain",
          "xshift": 6.153846153846154,
          "y": 0.275,
          "yref": "y domain",
          "yshift": -13
         },
         {
          "font": {
           "color": "black",
           "size": 13
          },
          "showarrow": false,
          "text": "<b>γ</b>",
          "x": 0.3153846153846154,
          "xref": "x domain",
          "xshift": 24.615384615384617,
          "y": 0.275,
          "yref": "y domain",
          "yshift": -13
         },
         {
          "font": {
           "color": "black",
           "size": 13
          },
          "showarrow": false,
          "text": "<b>c</b>",
          "x": 0.3769230769230769,
          "xref": "x domain",
          "xshift": 24.615384615384617,
          "y": 0.275,
          "yref": "y domain",
          "yshift": -13
         },
         {
          "font": {
           "color": "black",
           "size": 13
          },
          "showarrow": false,
          "text": "<b>ϕ</b>",
          "x": 0.43846153846153846,
          "xref": "x domain",
          "xshift": 24.615384615384617,
          "y": 0.275,
          "yref": "y domain",
          "yshift": -13
         },
         {
          "font": {
           "color": "black",
           "size": 13
          },
          "showarrow": false,
          "text": "",
          "x": 0.1,
          "xref": "x domain",
          "xshift": 6.153846153846154,
          "y": 0.22500000000000003,
          "yref": "y domain",
          "yshift": -13
         },
         {
          "font": {
           "color": "black",
           "size": 13
          },
          "showarrow": false,
          "text": "20",
          "x": 0.3153846153846154,
          "xref": "x domain",
          "xshift": 24.615384615384617,
          "y": 0.22500000000000003,
          "yref": "y domain",
          "yshift": -13
         },
         {
          "font": {
           "color": "black",
           "size": 13
          },
          "showarrow": false,
          "text": "0",
          "x": 0.3769230769230769,
          "xref": "x domain",
          "xshift": 24.615384615384617,
          "y": 0.22500000000000003,
          "yref": "y domain",
          "yshift": -13
         },
         {
          "font": {
           "color": "black",
           "size": 13
          },
          "showarrow": false,
          "text": "35",
          "x": 0.43846153846153846,
          "xref": "x domain",
          "xshift": 24.615384615384617,
          "y": 0.22500000000000003,
          "yref": "y domain",
          "yshift": -13
         },
         {
          "font": {
           "color": "black",
           "size": 13
          },
          "showarrow": false,
          "text": "",
          "x": 0.1,
          "xref": "x domain",
          "xshift": 6.153846153846154,
          "y": 0.17500000000000004,
          "yref": "y domain",
          "yshift": -13
         },
         {
          "font": {
           "color": "black",
           "size": 13
          },
          "showarrow": false,
          "text": "20",
          "x": 0.3153846153846154,
          "xref": "x domain",
          "xshift": 24.615384615384617,
          "y": 0.17500000000000004,
          "yref": "y domain",
          "yshift": -13
         },
         {
          "font": {
           "color": "black",
           "size": 13
          },
          "showarrow": false,
          "text": "0",
          "x": 0.3769230769230769,
          "xref": "x domain",
          "xshift": 24.615384615384617,
          "y": 0.17500000000000004,
          "yref": "y domain",
          "yshift": -13
         },
         {
          "font": {
           "color": "black",
           "size": 13
          },
          "showarrow": false,
          "text": "35",
          "x": 0.43846153846153846,
          "xref": "x domain",
          "xshift": 24.615384615384617,
          "y": 0.17500000000000004,
          "yref": "y domain",
          "yshift": -13
         },
         {
          "font": {
           "color": "black",
           "size": 13
          },
          "showarrow": false,
          "text": "",
          "x": 0.1,
          "xref": "x domain",
          "xshift": 6.153846153846154,
          "y": 0.12500000000000006,
          "yref": "y domain",
          "yshift": -13
         },
         {
          "font": {
           "color": "black",
           "size": 13
          },
          "showarrow": false,
          "text": "18",
          "x": 0.3153846153846154,
          "xref": "x domain",
          "xshift": 24.615384615384617,
          "y": 0.12500000000000006,
          "yref": "y domain",
          "yshift": -13
         },
         {
          "font": {
           "color": "black",
           "size": 13
          },
          "showarrow": false,
          "text": "0",
          "x": 0.3769230769230769,
          "xref": "x domain",
          "xshift": 24.615384615384617,
          "y": 0.12500000000000006,
          "yref": "y domain",
          "yshift": -13
         },
         {
          "font": {
           "color": "black",
           "size": 13
          },
          "showarrow": false,
          "text": "30",
          "x": 0.43846153846153846,
          "xref": "x domain",
          "xshift": 24.615384615384617,
          "y": 0.12500000000000006,
          "yref": "y domain",
          "yshift": -13
         },
         {
          "font": {
           "color": "black",
           "size": 16
          },
          "showarrow": false,
          "text": "0.0",
          "x": 0.95,
          "xref": "paper",
          "xshift": 37,
          "y": 0.912,
          "yref": "paper",
          "yshift": 0
         },
         {
          "font": {
           "color": "black",
           "size": 16
          },
          "showarrow": false,
          "text": "1.0",
          "x": 0.95,
          "xref": "paper",
          "xshift": 37,
          "y": 0.8320000000000001,
          "yref": "paper",
          "yshift": 0
         },
         {
          "font": {
           "color": "black",
           "size": 16
          },
          "showarrow": false,
          "text": "2.0",
          "x": 0.95,
          "xref": "paper",
          "xshift": 37,
          "y": 0.752,
          "yref": "paper",
          "yshift": 0
         },
         {
          "font": {
           "color": "black",
           "size": 16
          },
          "showarrow": false,
          "text": "3.0",
          "x": 0.95,
          "xref": "paper",
          "xshift": 37,
          "y": 0.6519999999999999,
          "yref": "paper",
          "yshift": 0
         },
         {
          "font": {
           "color": "black",
           "size": 16
          },
          "showarrow": false,
          "text": "4.0",
          "x": 0.95,
          "xref": "paper",
          "xshift": 37,
          "y": 0.5720000000000001,
          "yref": "paper",
          "yshift": 0
         },
         {
          "font": {
           "color": "black",
           "size": 16
          },
          "showarrow": false,
          "text": "5.0",
          "x": 0.95,
          "xref": "paper",
          "xshift": 37,
          "y": 0.5,
          "yref": "paper",
          "yshift": 0
         },
         {
          "align": "center",
          "font": {
           "color": "black",
           "size": 20
          },
          "showarrow": false,
          "text": "<b>Legend</b>",
          "x": 0.925,
          "xref": "paper",
          "xshift": 60,
          "y": 0.9,
          "yref": "paper",
          "yshift": 33
         },
         {
          "font": {
           "color": "black",
           "size": 25
          },
          "showarrow": false,
          "text": "▶",
          "x": 0,
          "xshift": -10,
          "y": 6,
          "yshift": 15
         },
         {
          "font": {
           "color": "black",
           "size": 25
          },
          "showarrow": false,
          "text": "◀",
          "x": 10,
          "xshift": 10,
          "y": 5,
          "yshift": 15
         },
         {
          "font": {
           "color": "black",
           "size": 25
          },
          "showarrow": false,
          "text": "|",
          "x": 10,
          "xshift": 0,
          "y": 5,
          "yshift": 15
         },
         {
          "font": {
           "color": "black",
           "size": 25
          },
          "showarrow": false,
          "text": "|",
          "x": 0,
          "xshift": 0,
          "y": 6,
          "yshift": 15
         },
         {
          "font": {
           "color": "black",
           "size": 16
          },
          "showarrow": false,
          "text": "0.0",
          "x": 0.95,
          "xref": "paper",
          "xshift": 37,
          "y": 0.912,
          "yref": "paper",
          "yshift": 0
         },
         {
          "font": {
           "color": "black",
           "size": 16
          },
          "showarrow": false,
          "text": "1.0",
          "x": 0.95,
          "xref": "paper",
          "xshift": 37,
          "y": 0.8320000000000001,
          "yref": "paper",
          "yshift": 0
         },
         {
          "font": {
           "color": "black",
           "size": 16
          },
          "showarrow": false,
          "text": "2.0",
          "x": 0.95,
          "xref": "paper",
          "xshift": 37,
          "y": 0.752,
          "yref": "paper",
          "yshift": 0
         },
         {
          "font": {
           "color": "black",
           "size": 16
          },
          "showarrow": false,
          "text": "3.0",
          "x": 0.95,
          "xref": "paper",
          "xshift": 37,
          "y": 0.6519999999999999,
          "yref": "paper",
          "yshift": 0
         },
         {
          "font": {
           "color": "black",
           "size": 16
          },
          "showarrow": false,
          "text": "4.0",
          "x": 0.95,
          "xref": "paper",
          "xshift": 37,
          "y": 0.5720000000000001,
          "yref": "paper",
          "yshift": 0
         },
         {
          "font": {
           "color": "black",
           "size": 16
          },
          "showarrow": false,
          "text": "5.0",
          "x": 0.95,
          "xref": "paper",
          "xshift": 37,
          "y": 0.5,
          "yref": "paper",
          "yshift": 0
         },
         {
          "align": "center",
          "font": {
           "color": "black",
           "size": 20
          },
          "showarrow": false,
          "text": "<b>Legend</b>",
          "x": 0.925,
          "xref": "paper",
          "xshift": 60,
          "y": 0.9,
          "yref": "paper",
          "yshift": 33
         }
        ],
        "height": 700,
        "shapes": [
         {
          "fillcolor": "lightgrey",
          "type": "rect",
          "x0": 0.1,
          "x1": 0.5,
          "xref": "x domain",
          "y0": 0.25000000000000006,
          "y1": 0.30000000000000004,
          "yref": "y domain"
         },
         {
          "fillcolor": "white",
          "type": "rect",
          "x0": 0.1,
          "x1": 0.5,
          "xref": "x domain",
          "y0": 0.1,
          "y1": 0.25000000000000006,
          "yref": "y domain"
         },
         {
          "type": "rect",
          "x0": 0.2230769230769231,
          "x1": 0.2230769230769231,
          "xref": "x domain",
          "y0": 0.1,
          "y1": 0.30000000000000004,
          "yref": "y domain"
         },
         {
          "type": "rect",
          "x0": 0.3153846153846154,
          "x1": 0.3153846153846154,
          "xref": "x domain",
          "y0": 0.1,
          "y1": 0.30000000000000004,
          "yref": "y domain"
         },
         {
          "type": "rect",
          "x0": 0.3769230769230769,
          "x1": 0.3769230769230769,
          "xref": "x domain",
          "y0": 0.1,
          "y1": 0.30000000000000004,
          "yref": "y domain"
         },
         {
          "type": "rect",
          "x0": 0.43846153846153846,
          "x1": 0.43846153846153846,
          "xref": "x domain",
          "y0": 0.1,
          "y1": 0.30000000000000004,
          "yref": "y domain"
         },
         {
          "type": "rect",
          "x0": 0.5,
          "x1": 0.5,
          "xref": "x domain",
          "y0": 0.1,
          "y1": 0.30000000000000004,
          "yref": "y domain"
         },
         {
          "type": "rect",
          "x0": 0.1,
          "x1": 0.5,
          "xref": "x domain",
          "y0": 0.25000000000000006,
          "y1": 0.25000000000000006,
          "yref": "y domain"
         },
         {
          "type": "rect",
          "x0": 0.1,
          "x1": 0.5,
          "xref": "x domain",
          "y0": 0.20000000000000007,
          "y1": 0.20000000000000007,
          "yref": "y domain"
         },
         {
          "type": "rect",
          "x0": 0.1,
          "x1": 0.5,
          "xref": "x domain",
          "y0": 0.15000000000000005,
          "y1": 0.15000000000000005,
          "yref": "y domain"
         },
         {
          "fillcolor": "#efa59c",
          "type": "rect",
          "x0": 0.2230769230769231,
          "x1": 0.3153846153846154,
          "xref": "paper",
          "y0": 0.20000000000000004,
          "y1": 0.25000000000000006,
          "yref": "paper"
         },
         {
          "fillcolor": "#77e1ca",
          "type": "rect",
          "x0": 0.2230769230769231,
          "x1": 0.3153846153846154,
          "xref": "paper",
          "y0": 0.15000000000000005,
          "y1": 0.20000000000000004,
          "yref": "paper"
         },
         {
          "fillcolor": "#cdacfc",
          "type": "rect",
          "x0": 0.2230769230769231,
          "x1": 0.3153846153846154,
          "xref": "paper",
          "y0": 0.10000000000000006,
          "y1": 0.15000000000000005,
          "yref": "paper"
         },
         {
          "fillcolor": "white",
          "type": "rect",
          "x0": 0.88,
          "x1": 1,
          "xref": "paper",
          "y0": 0.9500000000000001,
          "y1": 0.47,
          "yref": "paper"
         },
         {
          "fillcolor": "#f00",
          "line": {
           "color": "black",
           "width": 0.2
          },
          "type": "rect",
          "x0": 0.9,
          "x1": 0.95,
          "xref": "paper",
          "y0": 0.9,
          "y1": 0.892,
          "yref": "paper"
         },
         {
          "fillcolor": "#ff1000",
          "line": {
           "color": "black",
           "width": 0.2
          },
          "type": "rect",
          "x0": 0.9,
          "x1": 0.95,
          "xref": "paper",
          "y0": 0.892,
          "y1": 0.884,
          "yref": "paper"
         },
         {
          "fillcolor": "#ff2100",
          "line": {
           "color": "black",
           "width": 0.2
          },
          "type": "rect",
          "x0": 0.9,
          "x1": 0.95,
          "xref": "paper",
          "y0": 0.884,
          "y1": 0.876,
          "yref": "paper"
         },
         {
          "fillcolor": "#ff3100",
          "line": {
           "color": "black",
           "width": 0.2
          },
          "type": "rect",
          "x0": 0.9,
          "x1": 0.95,
          "xref": "paper",
          "y0": 0.876,
          "y1": 0.868,
          "yref": "paper"
         },
         {
          "fillcolor": "#ff4200",
          "line": {
           "color": "black",
           "width": 0.2
          },
          "type": "rect",
          "x0": 0.9,
          "x1": 0.95,
          "xref": "paper",
          "y0": 0.868,
          "y1": 0.86,
          "yref": "paper"
         },
         {
          "fillcolor": "#ff5200",
          "line": {
           "color": "black",
           "width": 0.2
          },
          "type": "rect",
          "x0": 0.9,
          "x1": 0.95,
          "xref": "paper",
          "y0": 0.86,
          "y1": 0.852,
          "yref": "paper"
         },
         {
          "fillcolor": "#ff6300",
          "line": {
           "color": "black",
           "width": 0.2
          },
          "type": "rect",
          "x0": 0.9,
          "x1": 0.95,
          "xref": "paper",
          "y0": 0.852,
          "y1": 0.8440000000000001,
          "yref": "paper"
         },
         {
          "fillcolor": "#ff7300",
          "line": {
           "color": "black",
           "width": 0.2
          },
          "type": "rect",
          "x0": 0.9,
          "x1": 0.95,
          "xref": "paper",
          "y0": 0.8440000000000001,
          "y1": 0.8360000000000001,
          "yref": "paper"
         },
         {
          "fillcolor": "#ff8400",
          "line": {
           "color": "black",
           "width": 0.2
          },
          "type": "rect",
          "x0": 0.9,
          "x1": 0.95,
          "xref": "paper",
          "y0": 0.836,
          "y1": 0.8280000000000001,
          "yref": "paper"
         },
         {
          "fillcolor": "#ff9400",
          "line": {
           "color": "black",
           "width": 0.2
          },
          "type": "rect",
          "x0": 0.9,
          "x1": 0.95,
          "xref": "paper",
          "y0": 0.8280000000000001,
          "y1": 0.8200000000000001,
          "yref": "paper"
         },
         {
          "fillcolor": "#ffa500",
          "line": {
           "color": "black",
           "width": 0.2
          },
          "type": "rect",
          "x0": 0.9,
          "x1": 0.95,
          "xref": "paper",
          "y0": 0.8200000000000001,
          "y1": 0.812,
          "yref": "paper"
         },
         {
          "fillcolor": "#f2be00",
          "line": {
           "color": "black",
           "width": 0.2
          },
          "type": "rect",
          "x0": 0.9,
          "x1": 0.95,
          "xref": "paper",
          "y0": 0.812,
          "y1": 0.804,
          "yref": "paper"
         },
         {
          "fillcolor": "#e6d300",
          "line": {
           "color": "black",
           "width": 0.2
          },
          "type": "rect",
          "x0": 0.9,
          "x1": 0.95,
          "xref": "paper",
          "y0": 0.804,
          "y1": 0.796,
          "yref": "paper"
         },
         {
          "fillcolor": "#cdd900",
          "line": {
           "color": "black",
           "width": 0.2
          },
          "type": "rect",
          "x0": 0.9,
          "x1": 0.95,
          "xref": "paper",
          "y0": 0.796,
          "y1": 0.788,
          "yref": "paper"
         },
         {
          "fillcolor": "#a6cc00",
          "line": {
           "color": "black",
           "width": 0.2
          },
          "type": "rect",
          "x0": 0.9,
          "x1": 0.95,
          "xref": "paper",
          "y0": 0.788,
          "y1": 0.78,
          "yref": "paper"
         },
         {
          "fillcolor": "#82bf00",
          "line": {
           "color": "black",
           "width": 0.2
          },
          "type": "rect",
          "x0": 0.9,
          "x1": 0.95,
          "xref": "paper",
          "y0": 0.78,
          "y1": 0.772,
          "yref": "paper"
         },
         {
          "fillcolor": "#61b300",
          "line": {
           "color": "black",
           "width": 0.2
          },
          "type": "rect",
          "x0": 0.9,
          "x1": 0.95,
          "xref": "paper",
          "y0": 0.772,
          "y1": 0.764,
          "yref": "paper"
         },
         {
          "fillcolor": "#43a600",
          "line": {
           "color": "black",
           "width": 0.2
          },
          "type": "rect",
          "x0": 0.9,
          "x1": 0.95,
          "xref": "paper",
          "y0": 0.764,
          "y1": 0.756,
          "yref": "paper"
         },
         {
          "fillcolor": "#2a9900",
          "line": {
           "color": "black",
           "width": 0.2
          },
          "type": "rect",
          "x0": 0.9,
          "x1": 0.95,
          "xref": "paper",
          "y0": 0.756,
          "y1": 0.748,
          "yref": "paper"
         },
         {
          "fillcolor": "#138d00",
          "line": {
           "color": "black",
           "width": 0.2
          },
          "type": "rect",
          "x0": 0.9,
          "x1": 0.95,
          "xref": "paper",
          "y0": 0.748,
          "y1": 0.74,
          "yref": "paper"
         },
         {
          "fillcolor": "#008000",
          "line": {
           "color": "black",
           "width": 0.2
          },
          "type": "rect",
          "x0": 0.9,
          "x1": 0.95,
          "xref": "paper",
          "y0": 0.74,
          "y1": 0.732,
          "yref": "paper"
         },
         {
          "fillcolor": "#018411",
          "line": {
           "color": "black",
           "width": 0.2
          },
          "type": "rect",
          "x0": 0.9,
          "x1": 0.95,
          "xref": "paper",
          "y0": 0.732,
          "y1": 0.724,
          "yref": "paper"
         },
         {
          "fillcolor": "#028923",
          "line": {
           "color": "black",
           "width": 0.2
          },
          "type": "rect",
          "x0": 0.9,
          "x1": 0.95,
          "xref": "paper",
          "y0": 0.724,
          "y1": 0.716,
          "yref": "paper"
         },
         {
          "fillcolor": "#038d36",
          "line": {
           "color": "black",
           "width": 0.2
          },
          "type": "rect",
          "x0": 0.9,
          "x1": 0.95,
          "xref": "paper",
          "y0": 0.716,
          "y1": 0.708,
          "yref": "paper"
         },
         {
          "fillcolor": "#049149",
          "line": {
           "color": "black",
           "width": 0.2
          },
          "type": "rect",
          "x0": 0.9,
          "x1": 0.95,
          "xref": "paper",
          "y0": 0.708,
          "y1": 0.7,
          "yref": "paper"
         },
         {
          "fillcolor": "#05955e",
          "line": {
           "color": "black",
           "width": 0.2
          },
          "type": "rect",
          "x0": 0.9,
          "x1": 0.95,
          "xref": "paper",
          "y0": 0.7,
          "y1": 0.692,
          "yref": "paper"
         },
         {
          "fillcolor": "#069973",
          "line": {
           "color": "black",
           "width": 0.2
          },
          "type": "rect",
          "x0": 0.9,
          "x1": 0.95,
          "xref": "paper",
          "y0": 0.692,
          "y1": 0.6839999999999999,
          "yref": "paper"
         },
         {
          "fillcolor": "#089d88",
          "line": {
           "color": "black",
           "width": 0.2
          },
          "type": "rect",
          "x0": 0.9,
          "x1": 0.95,
          "xref": "paper",
          "y0": 0.6839999999999999,
          "y1": 0.6759999999999999,
          "yref": "paper"
         },
         {
          "fillcolor": "#09a19e",
          "line": {
           "color": "black",
           "width": 0.2
          },
          "type": "rect",
          "x0": 0.9,
          "x1": 0.95,
          "xref": "paper",
          "y0": 0.676,
          "y1": 0.668,
          "yref": "paper"
         },
         {
          "fillcolor": "#0a94a4",
          "line": {
           "color": "black",
           "width": 0.2
          },
          "type": "rect",
          "x0": 0.9,
          "x1": 0.95,
          "xref": "paper",
          "y0": 0.668,
          "y1": 0.6599999999999999,
          "yref": "paper"
         },
         {
          "fillcolor": "#0c84a8",
          "line": {
           "color": "black",
           "width": 0.2
          },
          "type": "rect",
          "x0": 0.9,
          "x1": 0.95,
          "xref": "paper",
          "y0": 0.6599999999999999,
          "y1": 0.6519999999999999,
          "yref": "paper"
         },
         {
          "fillcolor": "#0c7aa8",
          "line": {
           "color": "black",
           "width": 0.2
          },
          "type": "rect",
          "x0": 0.9,
          "x1": 0.95,
          "xref": "paper",
          "y0": 0.6519999999999999,
          "y1": 0.6439999999999999,
          "yref": "paper"
         },
         {
          "fillcolor": "#0c70a8",
          "line": {
           "color": "black",
           "width": 0.2
          },
          "type": "rect",
          "x0": 0.9,
          "x1": 0.95,
          "xref": "paper",
          "y0": 0.6439999999999999,
          "y1": 0.6359999999999999,
          "yref": "paper"
         },
         {
          "fillcolor": "#0c65a8",
          "line": {
           "color": "black",
           "width": 0.2
          },
          "type": "rect",
          "x0": 0.9,
          "x1": 0.95,
          "xref": "paper",
          "y0": 0.636,
          "y1": 0.628,
          "yref": "paper"
         },
         {
          "fillcolor": "#0c5ba8",
          "line": {
           "color": "black",
           "width": 0.2
          },
          "type": "rect",
          "x0": 0.9,
          "x1": 0.95,
          "xref": "paper",
          "y0": 0.628,
          "y1": 0.62,
          "yref": "paper"
         },
         {
          "fillcolor": "#0c51a8",
          "line": {
           "color": "black",
           "width": 0.2
          },
          "type": "rect",
          "x0": 0.9,
          "x1": 0.95,
          "xref": "paper",
          "y0": 0.62,
          "y1": 0.612,
          "yref": "paper"
         },
         {
          "fillcolor": "#0c47a8",
          "line": {
           "color": "black",
           "width": 0.2
          },
          "type": "rect",
          "x0": 0.9,
          "x1": 0.95,
          "xref": "paper",
          "y0": 0.612,
          "y1": 0.604,
          "yref": "paper"
         },
         {
          "fillcolor": "#0c3da8",
          "line": {
           "color": "black",
           "width": 0.2
          },
          "type": "rect",
          "x0": 0.9,
          "x1": 0.95,
          "xref": "paper",
          "y0": 0.604,
          "y1": 0.596,
          "yref": "paper"
         },
         {
          "fillcolor": "#0c32a8",
          "line": {
           "color": "black",
           "width": 0.2
          },
          "type": "rect",
          "x0": 0.9,
          "x1": 0.95,
          "xref": "paper",
          "y0": 0.5960000000000001,
          "y1": 0.5880000000000001,
          "yref": "paper"
         },
         {
          "fillcolor": "#0c28a8",
          "line": {
           "color": "black",
           "width": 0.2
          },
          "type": "rect",
          "x0": 0.9,
          "x1": 0.95,
          "xref": "paper",
          "y0": 0.5880000000000001,
          "y1": 0.5800000000000001,
          "yref": "paper"
         },
         {
          "fillcolor": "#0c1ea8",
          "line": {
           "color": "black",
           "width": 0.2
          },
          "type": "rect",
          "x0": 0.9,
          "x1": 0.95,
          "xref": "paper",
          "y0": 0.5800000000000001,
          "y1": 0.5720000000000001,
          "yref": "paper"
         },
         {
          "fillcolor": "#0a0ba4",
          "line": {
           "color": "black",
           "width": 0.2
          },
          "type": "rect",
          "x0": 0.9,
          "x1": 0.95,
          "xref": "paper",
          "y0": 0.5720000000000001,
          "y1": 0.5640000000000001,
          "yref": "paper"
         },
         {
          "fillcolor": "#1909a1",
          "line": {
           "color": "black",
           "width": 0.2
          },
          "type": "rect",
          "x0": 0.9,
          "x1": 0.95,
          "xref": "paper",
          "y0": 0.5640000000000001,
          "y1": 0.556,
          "yref": "paper"
         },
         {
          "fillcolor": "#28089d",
          "line": {
           "color": "black",
           "width": 0.2
          },
          "type": "rect",
          "x0": 0.9,
          "x1": 0.95,
          "xref": "paper",
          "y0": 0.556,
          "y1": 0.548,
          "yref": "paper"
         },
         {
          "fillcolor": "#370699",
          "line": {
           "color": "black",
           "width": 0.2
          },
          "type": "rect",
          "x0": 0.9,
          "x1": 0.95,
          "xref": "paper",
          "y0": 0.548,
          "y1": 0.54,
          "yref": "paper"
         },
         {
          "fillcolor": "#450595",
          "line": {
           "color": "black",
           "width": 0.2
          },
          "type": "rect",
          "x0": 0.9,
          "x1": 0.95,
          "xref": "paper",
          "y0": 0.54,
          "y1": 0.532,
          "yref": "paper"
         },
         {
          "fillcolor": "#520491",
          "line": {
           "color": "black",
           "width": 0.2
          },
          "type": "rect",
          "x0": 0.9,
          "x1": 0.95,
          "xref": "paper",
          "y0": 0.532,
          "y1": 0.524,
          "yref": "paper"
         },
         {
          "fillcolor": "#5f038d",
          "line": {
           "color": "black",
           "width": 0.2
          },
          "type": "rect",
          "x0": 0.9,
          "x1": 0.95,
          "xref": "paper",
          "y0": 0.524,
          "y1": 0.516,
          "yref": "paper"
         },
         {
          "fillcolor": "#6b0289",
          "line": {
           "color": "black",
           "width": 0.2
          },
          "type": "rect",
          "x0": 0.9,
          "x1": 0.95,
          "xref": "paper",
          "y0": 0.516,
          "y1": 0.508,
          "yref": "paper"
         },
         {
          "fillcolor": "#760184",
          "line": {
           "color": "black",
           "width": 0.2
          },
          "type": "rect",
          "x0": 0.9,
          "x1": 0.95,
          "xref": "paper",
          "y0": 0.508,
          "y1": 0.5,
          "yref": "paper"
         },
         {
          "fillcolor": "#800080",
          "line": {
           "color": "black",
           "width": 0.2
          },
          "type": "rect",
          "x0": 0.9,
          "x1": 0.95,
          "xref": "paper",
          "y0": 0.5,
          "y1": 0.492,
          "yref": "paper"
         },
         {
          "fillcolor": "white",
          "type": "rect",
          "x0": 0.88,
          "x1": 1,
          "xref": "paper",
          "y0": 0.9500000000000001,
          "y1": 0.47,
          "yref": "paper"
         },
         {
          "fillcolor": "#f00",
          "line": {
           "color": "black",
           "width": 0.2
          },
          "type": "rect",
          "x0": 0.9,
          "x1": 0.95,
          "xref": "paper",
          "y0": 0.9,
          "y1": 0.892,
          "yref": "paper"
         },
         {
          "fillcolor": "#ff1000",
          "line": {
           "color": "black",
           "width": 0.2
          },
          "type": "rect",
          "x0": 0.9,
          "x1": 0.95,
          "xref": "paper",
          "y0": 0.892,
          "y1": 0.884,
          "yref": "paper"
         },
         {
          "fillcolor": "#ff2100",
          "line": {
           "color": "black",
           "width": 0.2
          },
          "type": "rect",
          "x0": 0.9,
          "x1": 0.95,
          "xref": "paper",
          "y0": 0.884,
          "y1": 0.876,
          "yref": "paper"
         },
         {
          "fillcolor": "#ff3100",
          "line": {
           "color": "black",
           "width": 0.2
          },
          "type": "rect",
          "x0": 0.9,
          "x1": 0.95,
          "xref": "paper",
          "y0": 0.876,
          "y1": 0.868,
          "yref": "paper"
         },
         {
          "fillcolor": "#ff4200",
          "line": {
           "color": "black",
           "width": 0.2
          },
          "type": "rect",
          "x0": 0.9,
          "x1": 0.95,
          "xref": "paper",
          "y0": 0.868,
          "y1": 0.86,
          "yref": "paper"
         },
         {
          "fillcolor": "#ff5200",
          "line": {
           "color": "black",
           "width": 0.2
          },
          "type": "rect",
          "x0": 0.9,
          "x1": 0.95,
          "xref": "paper",
          "y0": 0.86,
          "y1": 0.852,
          "yref": "paper"
         },
         {
          "fillcolor": "#ff6300",
          "line": {
           "color": "black",
           "width": 0.2
          },
          "type": "rect",
          "x0": 0.9,
          "x1": 0.95,
          "xref": "paper",
          "y0": 0.852,
          "y1": 0.8440000000000001,
          "yref": "paper"
         },
         {
          "fillcolor": "#ff7300",
          "line": {
           "color": "black",
           "width": 0.2
          },
          "type": "rect",
          "x0": 0.9,
          "x1": 0.95,
          "xref": "paper",
          "y0": 0.8440000000000001,
          "y1": 0.8360000000000001,
          "yref": "paper"
         },
         {
          "fillcolor": "#ff8400",
          "line": {
           "color": "black",
           "width": 0.2
          },
          "type": "rect",
          "x0": 0.9,
          "x1": 0.95,
          "xref": "paper",
          "y0": 0.836,
          "y1": 0.8280000000000001,
          "yref": "paper"
         },
         {
          "fillcolor": "#ff9400",
          "line": {
           "color": "black",
           "width": 0.2
          },
          "type": "rect",
          "x0": 0.9,
          "x1": 0.95,
          "xref": "paper",
          "y0": 0.8280000000000001,
          "y1": 0.8200000000000001,
          "yref": "paper"
         },
         {
          "fillcolor": "#ffa500",
          "line": {
           "color": "black",
           "width": 0.2
          },
          "type": "rect",
          "x0": 0.9,
          "x1": 0.95,
          "xref": "paper",
          "y0": 0.8200000000000001,
          "y1": 0.812,
          "yref": "paper"
         },
         {
          "fillcolor": "#f2be00",
          "line": {
           "color": "black",
           "width": 0.2
          },
          "type": "rect",
          "x0": 0.9,
          "x1": 0.95,
          "xref": "paper",
          "y0": 0.812,
          "y1": 0.804,
          "yref": "paper"
         },
         {
          "fillcolor": "#e6d300",
          "line": {
           "color": "black",
           "width": 0.2
          },
          "type": "rect",
          "x0": 0.9,
          "x1": 0.95,
          "xref": "paper",
          "y0": 0.804,
          "y1": 0.796,
          "yref": "paper"
         },
         {
          "fillcolor": "#cdd900",
          "line": {
           "color": "black",
           "width": 0.2
          },
          "type": "rect",
          "x0": 0.9,
          "x1": 0.95,
          "xref": "paper",
          "y0": 0.796,
          "y1": 0.788,
          "yref": "paper"
         },
         {
          "fillcolor": "#a6cc00",
          "line": {
           "color": "black",
           "width": 0.2
          },
          "type": "rect",
          "x0": 0.9,
          "x1": 0.95,
          "xref": "paper",
          "y0": 0.788,
          "y1": 0.78,
          "yref": "paper"
         },
         {
          "fillcolor": "#82bf00",
          "line": {
           "color": "black",
           "width": 0.2
          },
          "type": "rect",
          "x0": 0.9,
          "x1": 0.95,
          "xref": "paper",
          "y0": 0.78,
          "y1": 0.772,
          "yref": "paper"
         },
         {
          "fillcolor": "#61b300",
          "line": {
           "color": "black",
           "width": 0.2
          },
          "type": "rect",
          "x0": 0.9,
          "x1": 0.95,
          "xref": "paper",
          "y0": 0.772,
          "y1": 0.764,
          "yref": "paper"
         },
         {
          "fillcolor": "#43a600",
          "line": {
           "color": "black",
           "width": 0.2
          },
          "type": "rect",
          "x0": 0.9,
          "x1": 0.95,
          "xref": "paper",
          "y0": 0.764,
          "y1": 0.756,
          "yref": "paper"
         },
         {
          "fillcolor": "#2a9900",
          "line": {
           "color": "black",
           "width": 0.2
          },
          "type": "rect",
          "x0": 0.9,
          "x1": 0.95,
          "xref": "paper",
          "y0": 0.756,
          "y1": 0.748,
          "yref": "paper"
         },
         {
          "fillcolor": "#138d00",
          "line": {
           "color": "black",
           "width": 0.2
          },
          "type": "rect",
          "x0": 0.9,
          "x1": 0.95,
          "xref": "paper",
          "y0": 0.748,
          "y1": 0.74,
          "yref": "paper"
         },
         {
          "fillcolor": "#008000",
          "line": {
           "color": "black",
           "width": 0.2
          },
          "type": "rect",
          "x0": 0.9,
          "x1": 0.95,
          "xref": "paper",
          "y0": 0.74,
          "y1": 0.732,
          "yref": "paper"
         },
         {
          "fillcolor": "#018411",
          "line": {
           "color": "black",
           "width": 0.2
          },
          "type": "rect",
          "x0": 0.9,
          "x1": 0.95,
          "xref": "paper",
          "y0": 0.732,
          "y1": 0.724,
          "yref": "paper"
         },
         {
          "fillcolor": "#028923",
          "line": {
           "color": "black",
           "width": 0.2
          },
          "type": "rect",
          "x0": 0.9,
          "x1": 0.95,
          "xref": "paper",
          "y0": 0.724,
          "y1": 0.716,
          "yref": "paper"
         },
         {
          "fillcolor": "#038d36",
          "line": {
           "color": "black",
           "width": 0.2
          },
          "type": "rect",
          "x0": 0.9,
          "x1": 0.95,
          "xref": "paper",
          "y0": 0.716,
          "y1": 0.708,
          "yref": "paper"
         },
         {
          "fillcolor": "#049149",
          "line": {
           "color": "black",
           "width": 0.2
          },
          "type": "rect",
          "x0": 0.9,
          "x1": 0.95,
          "xref": "paper",
          "y0": 0.708,
          "y1": 0.7,
          "yref": "paper"
         },
         {
          "fillcolor": "#05955e",
          "line": {
           "color": "black",
           "width": 0.2
          },
          "type": "rect",
          "x0": 0.9,
          "x1": 0.95,
          "xref": "paper",
          "y0": 0.7,
          "y1": 0.692,
          "yref": "paper"
         },
         {
          "fillcolor": "#069973",
          "line": {
           "color": "black",
           "width": 0.2
          },
          "type": "rect",
          "x0": 0.9,
          "x1": 0.95,
          "xref": "paper",
          "y0": 0.692,
          "y1": 0.6839999999999999,
          "yref": "paper"
         },
         {
          "fillcolor": "#089d88",
          "line": {
           "color": "black",
           "width": 0.2
          },
          "type": "rect",
          "x0": 0.9,
          "x1": 0.95,
          "xref": "paper",
          "y0": 0.6839999999999999,
          "y1": 0.6759999999999999,
          "yref": "paper"
         },
         {
          "fillcolor": "#09a19e",
          "line": {
           "color": "black",
           "width": 0.2
          },
          "type": "rect",
          "x0": 0.9,
          "x1": 0.95,
          "xref": "paper",
          "y0": 0.676,
          "y1": 0.668,
          "yref": "paper"
         },
         {
          "fillcolor": "#0a94a4",
          "line": {
           "color": "black",
           "width": 0.2
          },
          "type": "rect",
          "x0": 0.9,
          "x1": 0.95,
          "xref": "paper",
          "y0": 0.668,
          "y1": 0.6599999999999999,
          "yref": "paper"
         },
         {
          "fillcolor": "#0c84a8",
          "line": {
           "color": "black",
           "width": 0.2
          },
          "type": "rect",
          "x0": 0.9,
          "x1": 0.95,
          "xref": "paper",
          "y0": 0.6599999999999999,
          "y1": 0.6519999999999999,
          "yref": "paper"
         },
         {
          "fillcolor": "#0c7aa8",
          "line": {
           "color": "black",
           "width": 0.2
          },
          "type": "rect",
          "x0": 0.9,
          "x1": 0.95,
          "xref": "paper",
          "y0": 0.6519999999999999,
          "y1": 0.6439999999999999,
          "yref": "paper"
         },
         {
          "fillcolor": "#0c70a8",
          "line": {
           "color": "black",
           "width": 0.2
          },
          "type": "rect",
          "x0": 0.9,
          "x1": 0.95,
          "xref": "paper",
          "y0": 0.6439999999999999,
          "y1": 0.6359999999999999,
          "yref": "paper"
         },
         {
          "fillcolor": "#0c65a8",
          "line": {
           "color": "black",
           "width": 0.2
          },
          "type": "rect",
          "x0": 0.9,
          "x1": 0.95,
          "xref": "paper",
          "y0": 0.636,
          "y1": 0.628,
          "yref": "paper"
         },
         {
          "fillcolor": "#0c5ba8",
          "line": {
           "color": "black",
           "width": 0.2
          },
          "type": "rect",
          "x0": 0.9,
          "x1": 0.95,
          "xref": "paper",
          "y0": 0.628,
          "y1": 0.62,
          "yref": "paper"
         },
         {
          "fillcolor": "#0c51a8",
          "line": {
           "color": "black",
           "width": 0.2
          },
          "type": "rect",
          "x0": 0.9,
          "x1": 0.95,
          "xref": "paper",
          "y0": 0.62,
          "y1": 0.612,
          "yref": "paper"
         },
         {
          "fillcolor": "#0c47a8",
          "line": {
           "color": "black",
           "width": 0.2
          },
          "type": "rect",
          "x0": 0.9,
          "x1": 0.95,
          "xref": "paper",
          "y0": 0.612,
          "y1": 0.604,
          "yref": "paper"
         },
         {
          "fillcolor": "#0c3da8",
          "line": {
           "color": "black",
           "width": 0.2
          },
          "type": "rect",
          "x0": 0.9,
          "x1": 0.95,
          "xref": "paper",
          "y0": 0.604,
          "y1": 0.596,
          "yref": "paper"
         },
         {
          "fillcolor": "#0c32a8",
          "line": {
           "color": "black",
           "width": 0.2
          },
          "type": "rect",
          "x0": 0.9,
          "x1": 0.95,
          "xref": "paper",
          "y0": 0.5960000000000001,
          "y1": 0.5880000000000001,
          "yref": "paper"
         },
         {
          "fillcolor": "#0c28a8",
          "line": {
           "color": "black",
           "width": 0.2
          },
          "type": "rect",
          "x0": 0.9,
          "x1": 0.95,
          "xref": "paper",
          "y0": 0.5880000000000001,
          "y1": 0.5800000000000001,
          "yref": "paper"
         },
         {
          "fillcolor": "#0c1ea8",
          "line": {
           "color": "black",
           "width": 0.2
          },
          "type": "rect",
          "x0": 0.9,
          "x1": 0.95,
          "xref": "paper",
          "y0": 0.5800000000000001,
          "y1": 0.5720000000000001,
          "yref": "paper"
         },
         {
          "fillcolor": "#0a0ba4",
          "line": {
           "color": "black",
           "width": 0.2
          },
          "type": "rect",
          "x0": 0.9,
          "x1": 0.95,
          "xref": "paper",
          "y0": 0.5720000000000001,
          "y1": 0.5640000000000001,
          "yref": "paper"
         },
         {
          "fillcolor": "#1909a1",
          "line": {
           "color": "black",
           "width": 0.2
          },
          "type": "rect",
          "x0": 0.9,
          "x1": 0.95,
          "xref": "paper",
          "y0": 0.5640000000000001,
          "y1": 0.556,
          "yref": "paper"
         },
         {
          "fillcolor": "#28089d",
          "line": {
           "color": "black",
           "width": 0.2
          },
          "type": "rect",
          "x0": 0.9,
          "x1": 0.95,
          "xref": "paper",
          "y0": 0.556,
          "y1": 0.548,
          "yref": "paper"
         },
         {
          "fillcolor": "#370699",
          "line": {
           "color": "black",
           "width": 0.2
          },
          "type": "rect",
          "x0": 0.9,
          "x1": 0.95,
          "xref": "paper",
          "y0": 0.548,
          "y1": 0.54,
          "yref": "paper"
         },
         {
          "fillcolor": "#450595",
          "line": {
           "color": "black",
           "width": 0.2
          },
          "type": "rect",
          "x0": 0.9,
          "x1": 0.95,
          "xref": "paper",
          "y0": 0.54,
          "y1": 0.532,
          "yref": "paper"
         },
         {
          "fillcolor": "#520491",
          "line": {
           "color": "black",
           "width": 0.2
          },
          "type": "rect",
          "x0": 0.9,
          "x1": 0.95,
          "xref": "paper",
          "y0": 0.532,
          "y1": 0.524,
          "yref": "paper"
         },
         {
          "fillcolor": "#5f038d",
          "line": {
           "color": "black",
           "width": 0.2
          },
          "type": "rect",
          "x0": 0.9,
          "x1": 0.95,
          "xref": "paper",
          "y0": 0.524,
          "y1": 0.516,
          "yref": "paper"
         },
         {
          "fillcolor": "#6b0289",
          "line": {
           "color": "black",
           "width": 0.2
          },
          "type": "rect",
          "x0": 0.9,
          "x1": 0.95,
          "xref": "paper",
          "y0": 0.516,
          "y1": 0.508,
          "yref": "paper"
         },
         {
          "fillcolor": "#760184",
          "line": {
           "color": "black",
           "width": 0.2
          },
          "type": "rect",
          "x0": 0.9,
          "x1": 0.95,
          "xref": "paper",
          "y0": 0.508,
          "y1": 0.5,
          "yref": "paper"
         },
         {
          "fillcolor": "#800080",
          "line": {
           "color": "black",
           "width": 0.2
          },
          "type": "rect",
          "x0": 0.9,
          "x1": 0.95,
          "xref": "paper",
          "y0": 0.5,
          "y1": 0.492,
          "yref": "paper"
         }
        ],
        "showlegend": false,
        "template": {
         "data": {
          "bar": [
           {
            "error_x": {
             "color": "#2a3f5f"
            },
            "error_y": {
             "color": "#2a3f5f"
            },
            "marker": {
             "line": {
              "color": "#E5ECF6",
              "width": 0.5
             }
            },
            "type": "bar"
           }
          ],
          "barpolar": [
           {
            "marker": {
             "line": {
              "color": "#E5ECF6",
              "width": 0.5
             }
            },
            "type": "barpolar"
           }
          ],
          "carpet": [
           {
            "aaxis": {
             "endlinecolor": "#2a3f5f",
             "gridcolor": "white",
             "linecolor": "white",
             "minorgridcolor": "white",
             "startlinecolor": "#2a3f5f"
            },
            "baxis": {
             "endlinecolor": "#2a3f5f",
             "gridcolor": "white",
             "linecolor": "white",
             "minorgridcolor": "white",
             "startlinecolor": "#2a3f5f"
            },
            "type": "carpet"
           }
          ],
          "choropleth": [
           {
            "colorbar": {
             "outlinewidth": 0,
             "ticks": ""
            },
            "type": "choropleth"
           }
          ],
          "contour": [
           {
            "colorbar": {
             "outlinewidth": 0,
             "ticks": ""
            },
            "colorscale": [
             [
              0,
              "#0d0887"
             ],
             [
              0.1111111111111111,
              "#46039f"
             ],
             [
              0.2222222222222222,
              "#7201a8"
             ],
             [
              0.3333333333333333,
              "#9c179e"
             ],
             [
              0.4444444444444444,
              "#bd3786"
             ],
             [
              0.5555555555555556,
              "#d8576b"
             ],
             [
              0.6666666666666666,
              "#ed7953"
             ],
             [
              0.7777777777777778,
              "#fb9f3a"
             ],
             [
              0.8888888888888888,
              "#fdca26"
             ],
             [
              1,
              "#f0f921"
             ]
            ],
            "type": "contour"
           }
          ],
          "contourcarpet": [
           {
            "colorbar": {
             "outlinewidth": 0,
             "ticks": ""
            },
            "type": "contourcarpet"
           }
          ],
          "heatmap": [
           {
            "colorbar": {
             "outlinewidth": 0,
             "ticks": ""
            },
            "colorscale": [
             [
              0,
              "#0d0887"
             ],
             [
              0.1111111111111111,
              "#46039f"
             ],
             [
              0.2222222222222222,
              "#7201a8"
             ],
             [
              0.3333333333333333,
              "#9c179e"
             ],
             [
              0.4444444444444444,
              "#bd3786"
             ],
             [
              0.5555555555555556,
              "#d8576b"
             ],
             [
              0.6666666666666666,
              "#ed7953"
             ],
             [
              0.7777777777777778,
              "#fb9f3a"
             ],
             [
              0.8888888888888888,
              "#fdca26"
             ],
             [
              1,
              "#f0f921"
             ]
            ],
            "type": "heatmap"
           }
          ],
          "heatmapgl": [
           {
            "colorbar": {
             "outlinewidth": 0,
             "ticks": ""
            },
            "colorscale": [
             [
              0,
              "#0d0887"
             ],
             [
              0.1111111111111111,
              "#46039f"
             ],
             [
              0.2222222222222222,
              "#7201a8"
             ],
             [
              0.3333333333333333,
              "#9c179e"
             ],
             [
              0.4444444444444444,
              "#bd3786"
             ],
             [
              0.5555555555555556,
              "#d8576b"
             ],
             [
              0.6666666666666666,
              "#ed7953"
             ],
             [
              0.7777777777777778,
              "#fb9f3a"
             ],
             [
              0.8888888888888888,
              "#fdca26"
             ],
             [
              1,
              "#f0f921"
             ]
            ],
            "type": "heatmapgl"
           }
          ],
          "histogram": [
           {
            "marker": {
             "colorbar": {
              "outlinewidth": 0,
              "ticks": ""
             }
            },
            "type": "histogram"
           }
          ],
          "histogram2d": [
           {
            "colorbar": {
             "outlinewidth": 0,
             "ticks": ""
            },
            "colorscale": [
             [
              0,
              "#0d0887"
             ],
             [
              0.1111111111111111,
              "#46039f"
             ],
             [
              0.2222222222222222,
              "#7201a8"
             ],
             [
              0.3333333333333333,
              "#9c179e"
             ],
             [
              0.4444444444444444,
              "#bd3786"
             ],
             [
              0.5555555555555556,
              "#d8576b"
             ],
             [
              0.6666666666666666,
              "#ed7953"
             ],
             [
              0.7777777777777778,
              "#fb9f3a"
             ],
             [
              0.8888888888888888,
              "#fdca26"
             ],
             [
              1,
              "#f0f921"
             ]
            ],
            "type": "histogram2d"
           }
          ],
          "histogram2dcontour": [
           {
            "colorbar": {
             "outlinewidth": 0,
             "ticks": ""
            },
            "colorscale": [
             [
              0,
              "#0d0887"
             ],
             [
              0.1111111111111111,
              "#46039f"
             ],
             [
              0.2222222222222222,
              "#7201a8"
             ],
             [
              0.3333333333333333,
              "#9c179e"
             ],
             [
              0.4444444444444444,
              "#bd3786"
             ],
             [
              0.5555555555555556,
              "#d8576b"
             ],
             [
              0.6666666666666666,
              "#ed7953"
             ],
             [
              0.7777777777777778,
              "#fb9f3a"
             ],
             [
              0.8888888888888888,
              "#fdca26"
             ],
             [
              1,
              "#f0f921"
             ]
            ],
            "type": "histogram2dcontour"
           }
          ],
          "mesh3d": [
           {
            "colorbar": {
             "outlinewidth": 0,
             "ticks": ""
            },
            "type": "mesh3d"
           }
          ],
          "parcoords": [
           {
            "line": {
             "colorbar": {
              "outlinewidth": 0,
              "ticks": ""
             }
            },
            "type": "parcoords"
           }
          ],
          "pie": [
           {
            "automargin": true,
            "type": "pie"
           }
          ],
          "scatter": [
           {
            "marker": {
             "colorbar": {
              "outlinewidth": 0,
              "ticks": ""
             }
            },
            "type": "scatter"
           }
          ],
          "scatter3d": [
           {
            "line": {
             "colorbar": {
              "outlinewidth": 0,
              "ticks": ""
             }
            },
            "marker": {
             "colorbar": {
              "outlinewidth": 0,
              "ticks": ""
             }
            },
            "type": "scatter3d"
           }
          ],
          "scattercarpet": [
           {
            "marker": {
             "colorbar": {
              "outlinewidth": 0,
              "ticks": ""
             }
            },
            "type": "scattercarpet"
           }
          ],
          "scattergeo": [
           {
            "marker": {
             "colorbar": {
              "outlinewidth": 0,
              "ticks": ""
             }
            },
            "type": "scattergeo"
           }
          ],
          "scattergl": [
           {
            "marker": {
             "colorbar": {
              "outlinewidth": 0,
              "ticks": ""
             }
            },
            "type": "scattergl"
           }
          ],
          "scattermapbox": [
           {
            "marker": {
             "colorbar": {
              "outlinewidth": 0,
              "ticks": ""
             }
            },
            "type": "scattermapbox"
           }
          ],
          "scatterpolar": [
           {
            "marker": {
             "colorbar": {
              "outlinewidth": 0,
              "ticks": ""
             }
            },
            "type": "scatterpolar"
           }
          ],
          "scatterpolargl": [
           {
            "marker": {
             "colorbar": {
              "outlinewidth": 0,
              "ticks": ""
             }
            },
            "type": "scatterpolargl"
           }
          ],
          "scatterternary": [
           {
            "marker": {
             "colorbar": {
              "outlinewidth": 0,
              "ticks": ""
             }
            },
            "type": "scatterternary"
           }
          ],
          "surface": [
           {
            "colorbar": {
             "outlinewidth": 0,
             "ticks": ""
            },
            "colorscale": [
             [
              0,
              "#0d0887"
             ],
             [
              0.1111111111111111,
              "#46039f"
             ],
             [
              0.2222222222222222,
              "#7201a8"
             ],
             [
              0.3333333333333333,
              "#9c179e"
             ],
             [
              0.4444444444444444,
              "#bd3786"
             ],
             [
              0.5555555555555556,
              "#d8576b"
             ],
             [
              0.6666666666666666,
              "#ed7953"
             ],
             [
              0.7777777777777778,
              "#fb9f3a"
             ],
             [
              0.8888888888888888,
              "#fdca26"
             ],
             [
              1,
              "#f0f921"
             ]
            ],
            "type": "surface"
           }
          ],
          "table": [
           {
            "cells": {
             "fill": {
              "color": "#EBF0F8"
             },
             "line": {
              "color": "white"
             }
            },
            "header": {
             "fill": {
              "color": "#C8D4E3"
             },
             "line": {
              "color": "white"
             }
            },
            "type": "table"
           }
          ]
         },
         "layout": {
          "annotationdefaults": {
           "arrowcolor": "#2a3f5f",
           "arrowhead": 0,
           "arrowwidth": 1
          },
          "autotypenumbers": "strict",
          "coloraxis": {
           "colorbar": {
            "outlinewidth": 0,
            "ticks": ""
           }
          },
          "colorscale": {
           "diverging": [
            [
             0,
             "#8e0152"
            ],
            [
             0.1,
             "#c51b7d"
            ],
            [
             0.2,
             "#de77ae"
            ],
            [
             0.3,
             "#f1b6da"
            ],
            [
             0.4,
             "#fde0ef"
            ],
            [
             0.5,
             "#f7f7f7"
            ],
            [
             0.6,
             "#e6f5d0"
            ],
            [
             0.7,
             "#b8e186"
            ],
            [
             0.8,
             "#7fbc41"
            ],
            [
             0.9,
             "#4d9221"
            ],
            [
             1,
             "#276419"
            ]
           ],
           "sequential": [
            [
             0,
             "#0d0887"
            ],
            [
             0.1111111111111111,
             "#46039f"
            ],
            [
             0.2222222222222222,
             "#7201a8"
            ],
            [
             0.3333333333333333,
             "#9c179e"
            ],
            [
             0.4444444444444444,
             "#bd3786"
            ],
            [
             0.5555555555555556,
             "#d8576b"
            ],
            [
             0.6666666666666666,
             "#ed7953"
            ],
            [
             0.7777777777777778,
             "#fb9f3a"
            ],
            [
             0.8888888888888888,
             "#fdca26"
            ],
            [
             1,
             "#f0f921"
            ]
           ],
           "sequentialminus": [
            [
             0,
             "#0d0887"
            ],
            [
             0.1111111111111111,
             "#46039f"
            ],
            [
             0.2222222222222222,
             "#7201a8"
            ],
            [
             0.3333333333333333,
             "#9c179e"
            ],
            [
             0.4444444444444444,
             "#bd3786"
            ],
            [
             0.5555555555555556,
             "#d8576b"
            ],
            [
             0.6666666666666666,
             "#ed7953"
            ],
            [
             0.7777777777777778,
             "#fb9f3a"
            ],
            [
             0.8888888888888888,
             "#fdca26"
            ],
            [
             1,
             "#f0f921"
            ]
           ]
          },
          "colorway": [
           "#636efa",
           "#EF553B",
           "#00cc96",
           "#ab63fa",
           "#FFA15A",
           "#19d3f3",
           "#FF6692",
           "#B6E880",
           "#FF97FF",
           "#FECB52"
          ],
          "font": {
           "color": "#2a3f5f"
          },
          "geo": {
           "bgcolor": "white",
           "lakecolor": "white",
           "landcolor": "#E5ECF6",
           "showlakes": true,
           "showland": true,
           "subunitcolor": "white"
          },
          "hoverlabel": {
           "align": "left"
          },
          "hovermode": "closest",
          "mapbox": {
           "style": "light"
          },
          "paper_bgcolor": "white",
          "plot_bgcolor": "#E5ECF6",
          "polar": {
           "angularaxis": {
            "gridcolor": "white",
            "linecolor": "white",
            "ticks": ""
           },
           "bgcolor": "#E5ECF6",
           "radialaxis": {
            "gridcolor": "white",
            "linecolor": "white",
            "ticks": ""
           }
          },
          "scene": {
           "xaxis": {
            "backgroundcolor": "#E5ECF6",
            "gridcolor": "white",
            "gridwidth": 2,
            "linecolor": "white",
            "showbackground": true,
            "ticks": "",
            "zerolinecolor": "white"
           },
           "yaxis": {
            "backgroundcolor": "#E5ECF6",
            "gridcolor": "white",
            "gridwidth": 2,
            "linecolor": "white",
            "showbackground": true,
            "ticks": "",
            "zerolinecolor": "white"
           },
           "zaxis": {
            "backgroundcolor": "#E5ECF6",
            "gridcolor": "white",
            "gridwidth": 2,
            "linecolor": "white",
            "showbackground": true,
            "ticks": "",
            "zerolinecolor": "white"
           }
          },
          "shapedefaults": {
           "line": {
            "color": "#2a3f5f"
           }
          },
          "ternary": {
           "aaxis": {
            "gridcolor": "white",
            "linecolor": "white",
            "ticks": ""
           },
           "baxis": {
            "gridcolor": "white",
            "linecolor": "white",
            "ticks": ""
           },
           "bgcolor": "#E5ECF6",
           "caxis": {
            "gridcolor": "white",
            "linecolor": "white",
            "ticks": ""
           }
          },
          "title": {
           "x": 0.05
          },
          "xaxis": {
           "automargin": true,
           "gridcolor": "white",
           "linecolor": "white",
           "ticks": "",
           "title": {
            "standoff": 15
           },
           "zerolinecolor": "white",
           "zerolinewidth": 2
          },
          "yaxis": {
           "automargin": true,
           "gridcolor": "white",
           "linecolor": "white",
           "ticks": "",
           "title": {
            "standoff": 15
           },
           "zerolinecolor": "white",
           "zerolinewidth": 2
          }
         }
        },
        "width": 1200,
        "yaxis": {
         "scaleanchor": "x",
         "scaleratio": 1
        }
       }
      }
     },
     "metadata": {},
     "output_type": "display_data"
    }
   ],
   "source": [
    "\n",
    "s = Slope(height=1, angle=None, length=1)\n",
    "\n",
    "m1 = Material(20, 35, 0, 0.5)\n",
    "m2 = Material(20, 35, 0, 1)\n",
    "m3 = Material(18, 30, 0, 5)\n",
    "\n",
    "s.set_materials(m1, m2, m3)\n",
    "\n",
    "for r in range(2, 6):\n",
    "    s.add_single_circular_plane(\n",
    "        c_x=s.get_bottom_coordinates()[0],\n",
    "        c_y=s.get_bottom_coordinates()[1] + 2.5,\n",
    "        radius=r,\n",
    "    )\n",
    "\n",
    "\n",
    "s.update_analysis_options(slices=50, iterations=2000)\n",
    "\n",
    "s.analyse_slope()\n",
    "\n",
    "# print the critical FOS for the slope\n",
    "print(\"fos:\", s.get_min_FOS())\n",
    "\n",
    "# plot all\n",
    "fig_1 = s.plot_all_planes(max_fos=None)\n",
    "fig_1.update_layout(width=1200, height = 700)\n"
   ]
  },
  {
   "cell_type": "code",
   "execution_count": 8,
   "metadata": {},
   "outputs": [
    {
     "data": {
      "text/plain": [
       "[{'l_c': (4.177124344467705, 6.0),\n",
       "  'r_c': (4.911437827766148, 5.5885621722338525),\n",
       "  'c_x': 5.5,\n",
       "  'c_y': 7.5,\n",
       "  'radius': 2,\n",
       "  'FOS': 1.270368695645986}]"
      ]
     },
     "execution_count": 8,
     "metadata": {},
     "output_type": "execute_result"
    }
   ],
   "source": [
    "list(filter(lambda x : x['radius'] == 2, s._search))"
   ]
  },
  {
   "cell_type": "code",
   "execution_count": null,
   "metadata": {},
   "outputs": [],
   "source": [
    "\n",
    "s = Slope(height=1, angle=None, length=1)\n",
    "\n",
    "m1 = Material(20, 35, 0, 0.5)\n",
    "m2 = Material(20, 35, 0, 1)\n",
    "m3 = Material(18, 30, 0, 5)\n",
    "\n",
    "s.set_materials(m1, m2, m3)\n",
    "\n",
    "for r in range(2, 6):\n",
    "    s.add_single_circular_plane(\n",
    "        c_x=s.get_bottom_coordinates()[0],\n",
    "        c_y=s.get_bottom_coordinates()[1] + 2.5,\n",
    "        radius=r,\n",
    "    )\n",
    "\n",
    "\n",
    "s.update_analysis_options(slices=500, iterations=2000)\n",
    "\n",
    "s.analyse_slope()\n",
    "\n",
    "# print the critical FOS for the slope\n",
    "print(\"fos:\", s.get_min_FOS())\n",
    "\n",
    "# plot all\n",
    "fig_1 = s.plot_all_planes(max_fos=None)\n",
    "fig_1.update_layout(width=1200, height = 700)\n"
   ]
  },
  {
   "cell_type": "markdown",
   "metadata": {},
   "source": [
    "## Example b). Adding in Cohesion"
   ]
  },
  {
   "cell_type": "code",
   "execution_count": null,
   "metadata": {},
   "outputs": [],
   "source": [
    "s = Slope(height=1, angle=None, length=1)\n",
    "\n",
    "m1 = Material(20, 35, 0, 0.5)\n",
    "m2 = Material(20, 35, 2, 1)\n",
    "m3 = Material(18, 30, 0, 5)\n",
    "\n",
    "s.set_materials(m1, m2, m3)\n",
    "\n",
    "for r in range(2, 6):\n",
    "    s.add_single_circular_plane(\n",
    "        c_x=s.get_bottom_coordinates()[0],\n",
    "        c_y=s.get_bottom_coordinates()[1] + 2.5,\n",
    "        radius=r,\n",
    "    )\n",
    "\n",
    "s.update_analysis_options(slices=50)\n",
    "\n",
    "s.analyse_slope()\n",
    "\n",
    "# print the critical FOS for the slope\n",
    "print(\"fos:\", s.get_min_FOS())\n",
    "\n",
    "# plot the critical failure surface\n",
    "fig_1 = s.plot_all_planes(max_fos=None)\n",
    "fig_1.update_layout(width=1200, height = 700)\n"
   ]
  },
  {
   "cell_type": "markdown",
   "metadata": {},
   "source": [
    "## Example c) Adding in water table"
   ]
  },
  {
   "cell_type": "code",
   "execution_count": null,
   "metadata": {},
   "outputs": [],
   "source": [
    "s = Slope(height=1, angle=None, length=1)\n",
    "\n",
    "m1 = Material(20, 35, 0, 0.5)\n",
    "m2 = Material(20, 35, 2, 1)\n",
    "m3 = Material(18, 30, 0, 5)\n",
    "\n",
    "s.set_materials(m1, m2, m3)\n",
    "\n",
    "for r in range(2, 6):\n",
    "    s.add_single_circular_plane(\n",
    "        c_x=s.get_bottom_coordinates()[0],\n",
    "        c_y=s.get_bottom_coordinates()[1] + 2.5,\n",
    "        radius=r,\n",
    "    )\n",
    "\n",
    "s.update_analysis_options(slices=50)\n",
    "\n",
    "s.set_water_table(0.7)\n",
    "\n",
    "s.analyse_slope()\n",
    "\n",
    "# print the critical FOS for the slope\n",
    "print(\"fos:\", s.get_min_FOS())\n",
    "\n",
    "# plot the critical failure surface\n",
    "fig_1 = s.plot_all_planes(max_fos=None)\n",
    "fig_1.update_layout(width=1200, height = 700)\n"
   ]
  },
  {
   "cell_type": "code",
   "execution_count": null,
   "metadata": {},
   "outputs": [],
   "source": [
    "# this case looks at setting Hu = 1 instead of auto\n",
    "# refer to: https://www.rocscience.com/help/slide2/documentation/slide-model/material-properties/define-material-properties/water-parameters/water-parameters-2\n",
    "# for details\n",
    "\n",
    "s = Slope(height=1, angle=None, length=1)\n",
    "\n",
    "m1 = Material(20, 35, 0, 0.5)\n",
    "m2 = Material(20, 35, 2, 1)\n",
    "m3 = Material(18, 30, 0, 5)\n",
    "\n",
    "s.set_materials(m1, m2, m3)\n",
    "\n",
    "for r in range(2, 6):\n",
    "    s.add_single_circular_plane(\n",
    "        c_x=s.get_bottom_coordinates()[0],\n",
    "        c_y=s.get_bottom_coordinates()[1] + 2.5,\n",
    "        radius=r,\n",
    "    )\n",
    "\n",
    "s.update_analysis_options(slices=500)\n",
    "\n",
    "s.set_water_table(0.7)\n",
    "s.update_water_analysis_options(auto=False, H=1)\n",
    "\n",
    "s.analyse_slope()\n",
    "\n",
    "# print the critical FOS for the slope\n",
    "print(\"fos:\", s.get_min_FOS())\n",
    "\n",
    "# plot the critical failure surface\n",
    "fig_1 = s.plot_all_planes(max_fos=None)\n",
    "fig_1.update_layout(width=1200, height = 700)"
   ]
  },
  {
   "cell_type": "markdown",
   "metadata": {},
   "source": [
    "## Example D) Adding in UDL"
   ]
  },
  {
   "cell_type": "code",
   "execution_count": null,
   "metadata": {},
   "outputs": [],
   "source": [
    "s = Slope(height=1, angle=None, length=1)\n",
    "\n",
    "m1 = Material(20, 35, 0, 0.5)\n",
    "m2 = Material(20, 35, 2, 1)\n",
    "m3 = Material(18, 30, 0, 5)\n",
    "\n",
    "s.set_materials(m1, m2, m3)\n",
    "\n",
    "for r in range(2, 6):\n",
    "    s.add_single_circular_plane(\n",
    "        c_x=s.get_bottom_coordinates()[0],\n",
    "        c_y=s.get_bottom_coordinates()[1] + 2.5,\n",
    "        radius=r,\n",
    "    )\n",
    "\n",
    "s.update_analysis_options(slices=50)\n",
    "\n",
    "udl1 = Udl(\n",
    "    magnitude = 20,\n",
    "    offset = 0.5,\n",
    "    length = 2,\n",
    ")\n",
    "\n",
    "s.set_udls(udl1)\n",
    "\n",
    "s.analyse_slope()\n",
    "\n",
    "# print the critical FOS for the slope\n",
    "print(\"fos:\", s.get_min_FOS())\n",
    "\n",
    "# plot the critical failure surface\n",
    "fig_1 = s.plot_all_planes(max_fos=None)\n",
    "fig_1.update_layout(width=1200, height = 700)\n"
   ]
  },
  {
   "cell_type": "markdown",
   "metadata": {},
   "source": [
    "## Example e) Line Load"
   ]
  },
  {
   "cell_type": "code",
   "execution_count": null,
   "metadata": {},
   "outputs": [],
   "source": [
    "s = Slope(height=1, angle=None, length=1)\n",
    "\n",
    "m1 = Material(20, 35, 0, 0.5)\n",
    "m2 = Material(20, 35, 2, 1)\n",
    "m3 = Material(18, 30, 0, 5)\n",
    "\n",
    "s.set_materials(m1, m2, m3)\n",
    "\n",
    "for r in range(2, 6):\n",
    "    s.add_single_circular_plane(\n",
    "        c_x=s.get_bottom_coordinates()[0],\n",
    "        c_y=s.get_bottom_coordinates()[1] + 2.5,\n",
    "        radius=r,\n",
    "    )\n",
    "\n",
    "s.update_analysis_options(slices=50)\n",
    "\n",
    "ll1 = LineLoad(\n",
    "    magnitude = 5,\n",
    "    offset = 1,\n",
    ")\n",
    "\n",
    "s.set_lls(ll1)\n",
    "\n",
    "s.analyse_slope()\n",
    "\n",
    "# print the critical FOS for the slope\n",
    "print(\"fos:\", s.get_min_FOS())\n",
    "\n",
    "# plot the critical failure surface\n",
    "fig_1 = s.plot_all_planes(max_fos=None)\n",
    "fig_1.update_layout(width=1200, height = 700)\n",
    "fig_1.show()\n"
   ]
  },
  {
   "cell_type": "markdown",
   "metadata": {},
   "source": [
    "## Effect of Slices on results"
   ]
  },
  {
   "cell_type": "code",
   "execution_count": null,
   "metadata": {},
   "outputs": [],
   "source": [
    "\n",
    "# Effect of slices on results\n",
    "s = Slope(height=1, angle=None, length=1)\n",
    "\n",
    "m1 = Material(20, 35, 0, 0.5)\n",
    "m2 = Material(20, 35, 0, 1)\n",
    "m3 = Material(18, 30, 0, 5)\n",
    "\n",
    "s.set_materials(m1, m2, m3)\n",
    "\n",
    "for r in range(2, 6):\n",
    "    s.add_single_circular_plane(\n",
    "        c_x=s.get_bottom_coordinates()[0],\n",
    "        c_y=s.get_bottom_coordinates()[1] + 2.5,\n",
    "        radius=r,\n",
    "    )\n",
    "\n",
    "slices = [10, 25, 50, 500, 2000]\n",
    "\n",
    "for i in slices:\n",
    "    \n",
    "    s.update_analysis_options(slices=i)\n",
    "    s.analyse_slope()\n",
    "\n",
    "    print(f'Slices: {i}')\n",
    "    for a in s._search:\n",
    "        print(f'radius: {a[\"radius\"]}, FOS: {a[\"FOS\"]}')"
   ]
  },
  {
   "cell_type": "markdown",
   "metadata": {},
   "source": [
    "## Effectiveness of Slope Search"
   ]
  },
  {
   "cell_type": "code",
   "execution_count": null,
   "metadata": {},
   "outputs": [],
   "source": [
    "s = Slope(height=1, angle=None, length=1.5)\n",
    "\n",
    "m1 = Material(20, 40, 1, 0.3)\n",
    "m2 = Material(20, 35, 2, 1)\n",
    "m3 = Material(18, 30, 0, 1.5)\n",
    "m4 = Material(16, 28, 0, 5)\n",
    "\n",
    "s.set_materials(m1, m2, m3, m4)\n",
    "\n",
    "ll1 = LineLoad(\n",
    "    magnitude = 5,\n",
    "    offset = 0.5,\n",
    ")\n",
    "\n",
    "ll2 = LineLoad(\n",
    "    magnitude=20,\n",
    "    offset = 2.5,\n",
    ")\n",
    "\n",
    "s.set_lls(ll1, ll2)\n",
    "\n",
    "udl1 = Udl(\n",
    "    magnitude=100,\n",
    "    offset = 1,\n",
    "    length =0.5,\n",
    ")\n",
    "\n",
    "udl2 = Udl(\n",
    "    magnitude=300,\n",
    "    length=0.5,\n",
    "    offset = 3,\n",
    ")\n",
    "\n",
    "s.set_udls(udl1,udl2)\n",
    "\n",
    "iterations = [1000, 2000, 5000]\n",
    "\n",
    "for i in iterations:\n",
    "    s.update_analysis_options(slices=50, iterations = i)\n",
    "    s.analyse_slope()\n",
    "\n",
    "    # plot the critical failure surface\n",
    "    fig_1 = s.plot_all_planes(max_fos=1.4)\n",
    "    # fig_1.write_image(f'./search/pySlope_{i}.png')\n"
   ]
  }
 ],
 "metadata": {
  "interpreter": {
   "hash": "32eb04b587eff370821aac6da6c66d42b149c788ba08c3134bbb5b93b237cc24"
  },
  "kernelspec": {
   "display_name": "Python 3.7.3 64-bit",
   "language": "python",
   "name": "python3"
  },
  "language_info": {
   "codemirror_mode": {
    "name": "ipython",
    "version": 3
   },
   "file_extension": ".py",
   "mimetype": "text/x-python",
   "name": "python",
   "nbconvert_exporter": "python",
   "pygments_lexer": "ipython3",
   "version": "3.7.3"
  }
 },
 "nbformat": 4,
 "nbformat_minor": 2
}
