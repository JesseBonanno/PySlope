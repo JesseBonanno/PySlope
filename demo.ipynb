{
 "cells": [
  {
   "cell_type": "code",
   "execution_count": null,
   "metadata": {},
   "outputs": [],
   "source": [
    "from pySlope import Slope, Material\n",
    "\n",
    "s = Slope(height=5, angle=None, length=8)\n",
    "\n",
    "sand = Material(20,30,0,1)\n",
    "clay = Material(18,25,5,3)\n",
    "\n",
    "s.add_materials(sand,clay)\n",
    "\n",
    "\n",
    "fig = s.plot_boundary()\n",
    "fig.show()\n"
   ]
  }
 ],
 "metadata": {
  "interpreter": {
   "hash": "961eff7faf67ce79553a65a2487d2e108eb15b996265a912167c96f0537f9b25"
  },
  "kernelspec": {
   "display_name": "Python 3.7.3 64-bit",
   "language": "python",
   "name": "python3"
  },
  "language_info": {
   "codemirror_mode": {
    "name": "ipython",
    "version": 3
   },
   "file_extension": ".py",
   "mimetype": "text/x-python",
   "name": "python",
   "nbconvert_exporter": "python",
   "pygments_lexer": "ipython3",
   "version": "3.7.3"
  },
  "orig_nbformat": 4
 },
 "nbformat": 4,
 "nbformat_minor": 2
}
