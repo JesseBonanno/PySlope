{
 "cells": [
  {
   "cell_type": "code",
   "execution_count": 1,
   "metadata": {},
   "outputs": [
    {
     "name": "stderr",
     "output_type": "stream",
     "text": [
      "100%|██████████| 22/22 [00:01<00:00, 17.80it/s]\n"
     ]
    },
    {
     "data": {
      "application/vnd.plotly.v1+json": {
       "config": {
        "plotlyServerURL": "https://plot.ly"
       },
       "data": [
        {
         "mode": "lines",
         "name": "",
         "type": "scatter",
         "x": [
          0,
          0,
          10.392304845413264,
          15.588457268119896,
          25.98076211353316,
          25.98076211353316,
          0
         ],
         "y": [
          0,
          12.99038105676658,
          12.99038105676658,
          9.99038105676658,
          9.99038105676658,
          0,
          0
         ]
        },
        {
         "fill": "toself",
         "fillcolor": "#efa59c",
         "hovertemplate": "",
         "meta": [
          20,
          5,
          35,
          ""
         ],
         "mode": "lines",
         "name": "<br>γ: 20 kN/m3<br>c: 5 kPa<br>ϕ: 35 degrees",
         "type": "scatter",
         "x": [
          0,
          10.392304845413264,
          12.12435565298214,
          0
         ],
         "y": [
          12.99038105676658,
          12.99038105676658,
          11.99038105676658,
          11.99038105676658
         ]
        },
        {
         "fill": "toself",
         "fillcolor": "#77e1ca",
         "hovertemplate": "",
         "meta": [
          20,
          0,
          35,
          ""
         ],
         "mode": "lines",
         "name": "<br>γ: 20 kN/m3<br>c: 0 kPa<br>ϕ: 35 degrees",
         "type": "scatter",
         "x": [
          0,
          12.12435565298214,
          15.588457268119896,
          25.98076211353316,
          25.98076211353316,
          0
         ],
         "y": [
          11.99038105676658,
          11.99038105676658,
          9.99038105676658,
          9.99038105676658,
          0,
          0
         ]
        },
        {
         "hovertemplate": "%{meta[0]}",
         "line": {
          "color": "#e6d300"
         },
         "meta": [
          1.21
         ],
         "mode": "lines",
         "name": "",
         "type": "scatter",
         "x": [
          13.413326812366371,
          12.187586241446892,
          12.17764,
          20.277840364205442,
          13.68763,
          13.413326812366371
         ],
         "y": [
          11.217559439457654,
          11.952240064344897,
          11.95962,
          24.060161005893626,
          11.08782,
          11.217559439457654
         ]
        },
        {
         "mode": "lines+text",
         "name": "",
         "text": [
          "1.210"
         ],
         "textfont": {
          "color": "#e6d300",
          "family": "sans serif",
          "size": 30
         },
         "textposition": "top right",
         "type": "scatter",
         "x": [
          20.277840364205442
         ],
         "y": [
          24.060161005893626
         ]
        }
       ],
       "layout": {
        "annotations": [
         {
          "font": {
           "color": "black",
           "size": 20
          },
          "showarrow": false,
          "text": "<b>MATERIAL<b>",
          "x": 0.1,
          "xref": "x domain",
          "xshift": 15,
          "y": 0.17000000000000004,
          "yref": "y domain",
          "yshift": 15
         },
         {
          "font": {
           "color": "black",
           "size": 20
          },
          "showarrow": false,
          "text": "<b>COLOR<b>",
          "x": 0.19523809523809524,
          "xref": "x domain",
          "xshift": 15,
          "y": 0.17000000000000004,
          "yref": "y domain",
          "yshift": 15
         },
         {
          "font": {
           "color": "black",
           "size": 20
          },
          "showarrow": false,
          "text": "<b>γ<b>",
          "x": 0.2571428571428571,
          "xref": "x domain",
          "xshift": 15,
          "y": 0.17000000000000004,
          "yref": "y domain",
          "yshift": 15
         },
         {
          "font": {
           "color": "black",
           "size": 20
          },
          "showarrow": false,
          "text": "<b>c<b>",
          "x": 0.3047619047619048,
          "xref": "x domain",
          "xshift": 15,
          "y": 0.17000000000000004,
          "yref": "y domain",
          "yshift": 15
         },
         {
          "font": {
           "color": "black",
           "size": 20
          },
          "showarrow": false,
          "text": "<b>ϕ<b>",
          "x": 0.35238095238095235,
          "xref": "x domain",
          "xshift": 15,
          "y": 0.17000000000000004,
          "yref": "y domain",
          "yshift": 15
         },
         {
          "font": {
           "color": "black",
           "size": 20
          },
          "showarrow": false,
          "text": "",
          "x": 0.1,
          "xref": "x domain",
          "xshift": 15,
          "y": 0.13500000000000004,
          "yref": "y domain",
          "yshift": 10
         },
         {
          "font": {
           "color": "black",
           "size": 20
          },
          "showarrow": false,
          "text": "20",
          "x": 0.2571428571428571,
          "xref": "x domain",
          "xshift": 15,
          "y": 0.13500000000000004,
          "yref": "y domain",
          "yshift": 10
         },
         {
          "font": {
           "color": "black",
           "size": 20
          },
          "showarrow": false,
          "text": "5",
          "x": 0.3047619047619048,
          "xref": "x domain",
          "xshift": 15,
          "y": 0.13500000000000004,
          "yref": "y domain",
          "yshift": 10
         },
         {
          "font": {
           "color": "black",
           "size": 20
          },
          "showarrow": false,
          "text": "35",
          "x": 0.35238095238095235,
          "xref": "x domain",
          "xshift": 15,
          "y": 0.13500000000000004,
          "yref": "y domain",
          "yshift": 10
         },
         {
          "font": {
           "color": "black",
           "size": 20
          },
          "showarrow": false,
          "text": "",
          "x": 0.1,
          "xref": "x domain",
          "xshift": 15,
          "y": 0.10000000000000003,
          "yref": "y domain",
          "yshift": 10
         },
         {
          "font": {
           "color": "black",
           "size": 20
          },
          "showarrow": false,
          "text": "20",
          "x": 0.2571428571428571,
          "xref": "x domain",
          "xshift": 15,
          "y": 0.10000000000000003,
          "yref": "y domain",
          "yshift": 10
         },
         {
          "font": {
           "color": "black",
           "size": 20
          },
          "showarrow": false,
          "text": "0",
          "x": 0.3047619047619048,
          "xref": "x domain",
          "xshift": 15,
          "y": 0.10000000000000003,
          "yref": "y domain",
          "yshift": 10
         },
         {
          "font": {
           "color": "black",
           "size": 20
          },
          "showarrow": false,
          "text": "35",
          "x": 0.35238095238095235,
          "xref": "x domain",
          "xshift": 15,
          "y": 0.10000000000000003,
          "yref": "y domain",
          "yshift": 10
         },
         {
          "arrowcolor": "red",
          "arrowhead": 3,
          "arrowsize": 2,
          "arrowwidth": 2,
          "ax": 0,
          "axref": "x",
          "ay": 14.28941916244324,
          "ayref": "y",
          "showarrow": true,
          "text": "",
          "x": 0,
          "xref": "x",
          "y": 12.99038105676658,
          "yref": "y"
         },
         {
          "arrowcolor": "red",
          "arrowhead": 3,
          "arrowsize": 2,
          "arrowwidth": 2,
          "ax": 1.648717474235544,
          "axref": "x",
          "ay": 14.28941916244324,
          "ayref": "y",
          "showarrow": true,
          "text": "",
          "x": 1.648717474235544,
          "xref": "x",
          "y": 12.99038105676658,
          "yref": "y"
         },
         {
          "arrowcolor": "red",
          "arrowhead": 3,
          "arrowsize": 2,
          "arrowwidth": 2,
          "ax": 3.297434948471088,
          "axref": "x",
          "ay": 14.28941916244324,
          "ayref": "y",
          "showarrow": true,
          "text": "",
          "x": 3.297434948471088,
          "xref": "x",
          "y": 12.99038105676658,
          "yref": "y"
         },
         {
          "arrowcolor": "red",
          "arrowhead": 3,
          "arrowsize": 2,
          "arrowwidth": 2,
          "ax": 4.946152422706632,
          "axref": "x",
          "ay": 14.28941916244324,
          "ayref": "y",
          "showarrow": true,
          "text": "",
          "x": 4.946152422706632,
          "xref": "x",
          "y": 12.99038105676658,
          "yref": "y"
         },
         {
          "arrowcolor": "red",
          "arrowhead": 3,
          "arrowsize": 2,
          "arrowwidth": 2,
          "ax": 6.594869896942176,
          "axref": "x",
          "ay": 14.28941916244324,
          "ayref": "y",
          "showarrow": true,
          "text": "",
          "x": 6.594869896942176,
          "xref": "x",
          "y": 12.99038105676658,
          "yref": "y"
         },
         {
          "arrowcolor": "red",
          "arrowhead": 3,
          "arrowsize": 2,
          "arrowwidth": 2,
          "ax": 8.24358737117772,
          "axref": "x",
          "ay": 14.28941916244324,
          "ayref": "y",
          "showarrow": true,
          "text": "",
          "x": 8.24358737117772,
          "xref": "x",
          "y": 12.99038105676658,
          "yref": "y"
         },
         {
          "arrowcolor": "red",
          "arrowhead": 3,
          "arrowsize": 2,
          "arrowwidth": 2,
          "ax": 9.892304845413264,
          "axref": "x",
          "ay": 14.28941916244324,
          "ayref": "y",
          "showarrow": true,
          "text": "",
          "x": 9.892304845413264,
          "xref": "x",
          "y": 12.99038105676658,
          "yref": "y"
         },
         {
          "axref": "x",
          "ayref": "y",
          "font": {
           "color": "red",
           "size": 30
          },
          "showarrow": false,
          "text": "20 kPa",
          "x": 4.946152422706632,
          "xref": "x",
          "y": 14.28941916244324,
          "yref": "y",
          "yshift": 30
         },
         {
          "arrowcolor": "red",
          "arrowhead": 0,
          "arrowsize": 2,
          "arrowwidth": 2,
          "ax": 9.892304845413264,
          "axref": "x",
          "ay": 14.28941916244324,
          "ayref": "y",
          "showarrow": true,
          "text": "",
          "x": 0,
          "xref": "x",
          "y": 14.28941916244324,
          "yref": "y"
         },
         {
          "font": {
           "color": "black",
           "size": 35
          },
          "showarrow": false,
          "text": "▶",
          "x": 0,
          "xshift": -13,
          "y": 12.99038105676658,
          "yshift": 15
         },
         {
          "font": {
           "color": "black",
           "size": 35
          },
          "showarrow": false,
          "text": "◀",
          "x": 25.98076211353316,
          "xshift": 13,
          "y": 9.99038105676658,
          "yshift": 15
         },
         {
          "font": {
           "color": "black",
           "size": 35
          },
          "showarrow": false,
          "text": "|",
          "x": 25.98076211353316,
          "xshift": 0,
          "y": 9.99038105676658,
          "yshift": 15
         },
         {
          "font": {
           "color": "black",
           "size": 35
          },
          "showarrow": false,
          "text": "|",
          "x": 0,
          "xshift": 0,
          "y": 12.99038105676658,
          "yshift": 15
         }
        ],
        "shapes": [
         {
          "fillcolor": "lightgrey",
          "type": "rect",
          "x0": 0.1,
          "x1": 0.4,
          "xref": "x domain",
          "y0": 0.17000000000000004,
          "y1": 0.22000000000000003,
          "yref": "y domain"
         },
         {
          "fillcolor": "white",
          "type": "rect",
          "x0": 0.1,
          "x1": 0.4,
          "xref": "x domain",
          "y0": 0.1,
          "y1": 0.17000000000000004,
          "yref": "y domain"
         },
         {
          "type": "rect",
          "x0": 0.19523809523809524,
          "x1": 0.19523809523809524,
          "xref": "x domain",
          "y0": 0.1,
          "y1": 0.22000000000000003,
          "yref": "y domain"
         },
         {
          "type": "rect",
          "x0": 0.2571428571428571,
          "x1": 0.2571428571428571,
          "xref": "x domain",
          "y0": 0.1,
          "y1": 0.22000000000000003,
          "yref": "y domain"
         },
         {
          "type": "rect",
          "x0": 0.3047619047619048,
          "x1": 0.3047619047619048,
          "xref": "x domain",
          "y0": 0.1,
          "y1": 0.22000000000000003,
          "yref": "y domain"
         },
         {
          "type": "rect",
          "x0": 0.35238095238095235,
          "x1": 0.35238095238095235,
          "xref": "x domain",
          "y0": 0.1,
          "y1": 0.22000000000000003,
          "yref": "y domain"
         },
         {
          "type": "rect",
          "x0": 0.4,
          "x1": 0.4,
          "xref": "x domain",
          "y0": 0.1,
          "y1": 0.22000000000000003,
          "yref": "y domain"
         },
         {
          "type": "rect",
          "x0": 0.1,
          "x1": 0.4,
          "xref": "x domain",
          "y0": 0.17000000000000004,
          "y1": 0.17000000000000004,
          "yref": "y domain"
         },
         {
          "type": "rect",
          "x0": 0.1,
          "x1": 0.4,
          "xref": "x domain",
          "y0": 0.13500000000000004,
          "y1": 0.13500000000000004,
          "yref": "y domain"
         },
         {
          "fillcolor": "#efa59c",
          "type": "rect",
          "x0": 0.19523809523809524,
          "x1": 0.2571428571428571,
          "xref": "paper",
          "y0": 0.17000000000000004,
          "y1": 0.13500000000000004,
          "yref": "paper"
         },
         {
          "fillcolor": "#77e1ca",
          "type": "rect",
          "x0": 0.19523809523809524,
          "x1": 0.2571428571428571,
          "xref": "paper",
          "y0": 0.13500000000000004,
          "y1": 0.10000000000000003,
          "yref": "paper"
         }
        ],
        "showlegend": false,
        "template": {
         "data": {
          "bar": [
           {
            "error_x": {
             "color": "#2a3f5f"
            },
            "error_y": {
             "color": "#2a3f5f"
            },
            "marker": {
             "line": {
              "color": "#E5ECF6",
              "width": 0.5
             }
            },
            "type": "bar"
           }
          ],
          "barpolar": [
           {
            "marker": {
             "line": {
              "color": "#E5ECF6",
              "width": 0.5
             }
            },
            "type": "barpolar"
           }
          ],
          "carpet": [
           {
            "aaxis": {
             "endlinecolor": "#2a3f5f",
             "gridcolor": "white",
             "linecolor": "white",
             "minorgridcolor": "white",
             "startlinecolor": "#2a3f5f"
            },
            "baxis": {
             "endlinecolor": "#2a3f5f",
             "gridcolor": "white",
             "linecolor": "white",
             "minorgridcolor": "white",
             "startlinecolor": "#2a3f5f"
            },
            "type": "carpet"
           }
          ],
          "choropleth": [
           {
            "colorbar": {
             "outlinewidth": 0,
             "ticks": ""
            },
            "type": "choropleth"
           }
          ],
          "contour": [
           {
            "colorbar": {
             "outlinewidth": 0,
             "ticks": ""
            },
            "colorscale": [
             [
              0,
              "#0d0887"
             ],
             [
              0.1111111111111111,
              "#46039f"
             ],
             [
              0.2222222222222222,
              "#7201a8"
             ],
             [
              0.3333333333333333,
              "#9c179e"
             ],
             [
              0.4444444444444444,
              "#bd3786"
             ],
             [
              0.5555555555555556,
              "#d8576b"
             ],
             [
              0.6666666666666666,
              "#ed7953"
             ],
             [
              0.7777777777777778,
              "#fb9f3a"
             ],
             [
              0.8888888888888888,
              "#fdca26"
             ],
             [
              1,
              "#f0f921"
             ]
            ],
            "type": "contour"
           }
          ],
          "contourcarpet": [
           {
            "colorbar": {
             "outlinewidth": 0,
             "ticks": ""
            },
            "type": "contourcarpet"
           }
          ],
          "heatmap": [
           {
            "colorbar": {
             "outlinewidth": 0,
             "ticks": ""
            },
            "colorscale": [
             [
              0,
              "#0d0887"
             ],
             [
              0.1111111111111111,
              "#46039f"
             ],
             [
              0.2222222222222222,
              "#7201a8"
             ],
             [
              0.3333333333333333,
              "#9c179e"
             ],
             [
              0.4444444444444444,
              "#bd3786"
             ],
             [
              0.5555555555555556,
              "#d8576b"
             ],
             [
              0.6666666666666666,
              "#ed7953"
             ],
             [
              0.7777777777777778,
              "#fb9f3a"
             ],
             [
              0.8888888888888888,
              "#fdca26"
             ],
             [
              1,
              "#f0f921"
             ]
            ],
            "type": "heatmap"
           }
          ],
          "heatmapgl": [
           {
            "colorbar": {
             "outlinewidth": 0,
             "ticks": ""
            },
            "colorscale": [
             [
              0,
              "#0d0887"
             ],
             [
              0.1111111111111111,
              "#46039f"
             ],
             [
              0.2222222222222222,
              "#7201a8"
             ],
             [
              0.3333333333333333,
              "#9c179e"
             ],
             [
              0.4444444444444444,
              "#bd3786"
             ],
             [
              0.5555555555555556,
              "#d8576b"
             ],
             [
              0.6666666666666666,
              "#ed7953"
             ],
             [
              0.7777777777777778,
              "#fb9f3a"
             ],
             [
              0.8888888888888888,
              "#fdca26"
             ],
             [
              1,
              "#f0f921"
             ]
            ],
            "type": "heatmapgl"
           }
          ],
          "histogram": [
           {
            "marker": {
             "colorbar": {
              "outlinewidth": 0,
              "ticks": ""
             }
            },
            "type": "histogram"
           }
          ],
          "histogram2d": [
           {
            "colorbar": {
             "outlinewidth": 0,
             "ticks": ""
            },
            "colorscale": [
             [
              0,
              "#0d0887"
             ],
             [
              0.1111111111111111,
              "#46039f"
             ],
             [
              0.2222222222222222,
              "#7201a8"
             ],
             [
              0.3333333333333333,
              "#9c179e"
             ],
             [
              0.4444444444444444,
              "#bd3786"
             ],
             [
              0.5555555555555556,
              "#d8576b"
             ],
             [
              0.6666666666666666,
              "#ed7953"
             ],
             [
              0.7777777777777778,
              "#fb9f3a"
             ],
             [
              0.8888888888888888,
              "#fdca26"
             ],
             [
              1,
              "#f0f921"
             ]
            ],
            "type": "histogram2d"
           }
          ],
          "histogram2dcontour": [
           {
            "colorbar": {
             "outlinewidth": 0,
             "ticks": ""
            },
            "colorscale": [
             [
              0,
              "#0d0887"
             ],
             [
              0.1111111111111111,
              "#46039f"
             ],
             [
              0.2222222222222222,
              "#7201a8"
             ],
             [
              0.3333333333333333,
              "#9c179e"
             ],
             [
              0.4444444444444444,
              "#bd3786"
             ],
             [
              0.5555555555555556,
              "#d8576b"
             ],
             [
              0.6666666666666666,
              "#ed7953"
             ],
             [
              0.7777777777777778,
              "#fb9f3a"
             ],
             [
              0.8888888888888888,
              "#fdca26"
             ],
             [
              1,
              "#f0f921"
             ]
            ],
            "type": "histogram2dcontour"
           }
          ],
          "mesh3d": [
           {
            "colorbar": {
             "outlinewidth": 0,
             "ticks": ""
            },
            "type": "mesh3d"
           }
          ],
          "parcoords": [
           {
            "line": {
             "colorbar": {
              "outlinewidth": 0,
              "ticks": ""
             }
            },
            "type": "parcoords"
           }
          ],
          "pie": [
           {
            "automargin": true,
            "type": "pie"
           }
          ],
          "scatter": [
           {
            "marker": {
             "colorbar": {
              "outlinewidth": 0,
              "ticks": ""
             }
            },
            "type": "scatter"
           }
          ],
          "scatter3d": [
           {
            "line": {
             "colorbar": {
              "outlinewidth": 0,
              "ticks": ""
             }
            },
            "marker": {
             "colorbar": {
              "outlinewidth": 0,
              "ticks": ""
             }
            },
            "type": "scatter3d"
           }
          ],
          "scattercarpet": [
           {
            "marker": {
             "colorbar": {
              "outlinewidth": 0,
              "ticks": ""
             }
            },
            "type": "scattercarpet"
           }
          ],
          "scattergeo": [
           {
            "marker": {
             "colorbar": {
              "outlinewidth": 0,
              "ticks": ""
             }
            },
            "type": "scattergeo"
           }
          ],
          "scattergl": [
           {
            "marker": {
             "colorbar": {
              "outlinewidth": 0,
              "ticks": ""
             }
            },
            "type": "scattergl"
           }
          ],
          "scattermapbox": [
           {
            "marker": {
             "colorbar": {
              "outlinewidth": 0,
              "ticks": ""
             }
            },
            "type": "scattermapbox"
           }
          ],
          "scatterpolar": [
           {
            "marker": {
             "colorbar": {
              "outlinewidth": 0,
              "ticks": ""
             }
            },
            "type": "scatterpolar"
           }
          ],
          "scatterpolargl": [
           {
            "marker": {
             "colorbar": {
              "outlinewidth": 0,
              "ticks": ""
             }
            },
            "type": "scatterpolargl"
           }
          ],
          "scatterternary": [
           {
            "marker": {
             "colorbar": {
              "outlinewidth": 0,
              "ticks": ""
             }
            },
            "type": "scatterternary"
           }
          ],
          "surface": [
           {
            "colorbar": {
             "outlinewidth": 0,
             "ticks": ""
            },
            "colorscale": [
             [
              0,
              "#0d0887"
             ],
             [
              0.1111111111111111,
              "#46039f"
             ],
             [
              0.2222222222222222,
              "#7201a8"
             ],
             [
              0.3333333333333333,
              "#9c179e"
             ],
             [
              0.4444444444444444,
              "#bd3786"
             ],
             [
              0.5555555555555556,
              "#d8576b"
             ],
             [
              0.6666666666666666,
              "#ed7953"
             ],
             [
              0.7777777777777778,
              "#fb9f3a"
             ],
             [
              0.8888888888888888,
              "#fdca26"
             ],
             [
              1,
              "#f0f921"
             ]
            ],
            "type": "surface"
           }
          ],
          "table": [
           {
            "cells": {
             "fill": {
              "color": "#EBF0F8"
             },
             "line": {
              "color": "white"
             }
            },
            "header": {
             "fill": {
              "color": "#C8D4E3"
             },
             "line": {
              "color": "white"
             }
            },
            "type": "table"
           }
          ]
         },
         "layout": {
          "annotationdefaults": {
           "arrowcolor": "#2a3f5f",
           "arrowhead": 0,
           "arrowwidth": 1
          },
          "autotypenumbers": "strict",
          "coloraxis": {
           "colorbar": {
            "outlinewidth": 0,
            "ticks": ""
           }
          },
          "colorscale": {
           "diverging": [
            [
             0,
             "#8e0152"
            ],
            [
             0.1,
             "#c51b7d"
            ],
            [
             0.2,
             "#de77ae"
            ],
            [
             0.3,
             "#f1b6da"
            ],
            [
             0.4,
             "#fde0ef"
            ],
            [
             0.5,
             "#f7f7f7"
            ],
            [
             0.6,
             "#e6f5d0"
            ],
            [
             0.7,
             "#b8e186"
            ],
            [
             0.8,
             "#7fbc41"
            ],
            [
             0.9,
             "#4d9221"
            ],
            [
             1,
             "#276419"
            ]
           ],
           "sequential": [
            [
             0,
             "#0d0887"
            ],
            [
             0.1111111111111111,
             "#46039f"
            ],
            [
             0.2222222222222222,
             "#7201a8"
            ],
            [
             0.3333333333333333,
             "#9c179e"
            ],
            [
             0.4444444444444444,
             "#bd3786"
            ],
            [
             0.5555555555555556,
             "#d8576b"
            ],
            [
             0.6666666666666666,
             "#ed7953"
            ],
            [
             0.7777777777777778,
             "#fb9f3a"
            ],
            [
             0.8888888888888888,
             "#fdca26"
            ],
            [
             1,
             "#f0f921"
            ]
           ],
           "sequentialminus": [
            [
             0,
             "#0d0887"
            ],
            [
             0.1111111111111111,
             "#46039f"
            ],
            [
             0.2222222222222222,
             "#7201a8"
            ],
            [
             0.3333333333333333,
             "#9c179e"
            ],
            [
             0.4444444444444444,
             "#bd3786"
            ],
            [
             0.5555555555555556,
             "#d8576b"
            ],
            [
             0.6666666666666666,
             "#ed7953"
            ],
            [
             0.7777777777777778,
             "#fb9f3a"
            ],
            [
             0.8888888888888888,
             "#fdca26"
            ],
            [
             1,
             "#f0f921"
            ]
           ]
          },
          "colorway": [
           "#636efa",
           "#EF553B",
           "#00cc96",
           "#ab63fa",
           "#FFA15A",
           "#19d3f3",
           "#FF6692",
           "#B6E880",
           "#FF97FF",
           "#FECB52"
          ],
          "font": {
           "color": "#2a3f5f"
          },
          "geo": {
           "bgcolor": "white",
           "lakecolor": "white",
           "landcolor": "#E5ECF6",
           "showlakes": true,
           "showland": true,
           "subunitcolor": "white"
          },
          "hoverlabel": {
           "align": "left"
          },
          "hovermode": "closest",
          "mapbox": {
           "style": "light"
          },
          "paper_bgcolor": "white",
          "plot_bgcolor": "#E5ECF6",
          "polar": {
           "angularaxis": {
            "gridcolor": "white",
            "linecolor": "white",
            "ticks": ""
           },
           "bgcolor": "#E5ECF6",
           "radialaxis": {
            "gridcolor": "white",
            "linecolor": "white",
            "ticks": ""
           }
          },
          "scene": {
           "xaxis": {
            "backgroundcolor": "#E5ECF6",
            "gridcolor": "white",
            "gridwidth": 2,
            "linecolor": "white",
            "showbackground": true,
            "ticks": "",
            "zerolinecolor": "white"
           },
           "yaxis": {
            "backgroundcolor": "#E5ECF6",
            "gridcolor": "white",
            "gridwidth": 2,
            "linecolor": "white",
            "showbackground": true,
            "ticks": "",
            "zerolinecolor": "white"
           },
           "zaxis": {
            "backgroundcolor": "#E5ECF6",
            "gridcolor": "white",
            "gridwidth": 2,
            "linecolor": "white",
            "showbackground": true,
            "ticks": "",
            "zerolinecolor": "white"
           }
          },
          "shapedefaults": {
           "line": {
            "color": "#2a3f5f"
           }
          },
          "ternary": {
           "aaxis": {
            "gridcolor": "white",
            "linecolor": "white",
            "ticks": ""
           },
           "baxis": {
            "gridcolor": "white",
            "linecolor": "white",
            "ticks": ""
           },
           "bgcolor": "#E5ECF6",
           "caxis": {
            "gridcolor": "white",
            "linecolor": "white",
            "ticks": ""
           }
          },
          "title": {
           "x": 0.05
          },
          "xaxis": {
           "automargin": true,
           "gridcolor": "white",
           "linecolor": "white",
           "ticks": "",
           "title": {
            "standoff": 15
           },
           "zerolinecolor": "white",
           "zerolinewidth": 2
          },
          "yaxis": {
           "automargin": true,
           "gridcolor": "white",
           "linecolor": "white",
           "ticks": "",
           "title": {
            "standoff": 15
           },
           "zerolinecolor": "white",
           "zerolinewidth": 2
          }
         }
        },
        "yaxis": {
         "scaleanchor": "x",
         "scaleratio": 1
        }
       }
      }
     },
     "metadata": {},
     "output_type": "display_data"
    }
   ],
   "source": [
    "from tqdm.notebook import tqdm\n",
    "from pySlope import Slope, Material\n",
    "\n",
    "\n",
    "s = Slope(height=3, angle=30, length=None)\n",
    "\n",
    "m1 = Material(20,35,5,1)\n",
    "m2 = Material(20,35,0,5)\n",
    "\n",
    "s.set_surcharge(0.5,20)\n",
    "\n",
    "s.set_materials(m1,m2)\n",
    "\n",
    "s.analyse_slope()\n",
    "\n",
    "fig = s.plot_critical()\n",
    "\n",
    "fig.show()\n"
   ]
  },
  {
   "cell_type": "code",
   "execution_count": null,
   "metadata": {},
   "outputs": [],
   "source": [
    "s._min_FOS_location\n",
    "s.plot_critical()"
   ]
  },
  {
   "cell_type": "code",
   "execution_count": null,
   "metadata": {},
   "outputs": [],
   "source": [
    "# intialise and empty plotly plot\n",
    "fig = px.line()\n",
    "\n",
    "# outer loop will represent each line on graph\n",
    "for fc in [50,40,32,20]:\n",
    "    # intilize empty and x and y array to represent data for lines\n",
    "    x = []\n",
    "    y = []\n",
    "    # inner loop will represent all the points on a line\n",
    "    for D in range(30,500,20):\n",
    "        # create conc class with parameters based on loops and other requirements\n",
    "        conc = Concrete(D = D, fc = fc)\n",
    "\n",
    "        # initialise y to be a value created off of the conc class\n",
    "        # can be conc.deemed(), conc.shear() or conc.bending()\n",
    "        y.append(conc.bending())\n",
    "\n",
    "        # intilise x value to be a representation of the inner loop value, either\n",
    "        # setting it to be the loop value or a related proportional value\n",
    "        x.append(conc.d)\n",
    "    \n",
    "    # add line with the following code, name will be the name displayed in the legend\n",
    "    # for the line and should be appropriate defined in relation to the outer loop\n",
    "    fig.add_trace(go.Scatter(x=x,y=y, name = str(fc) + \" MPa\"))\n",
    "\n",
    "# update title and axes titles for the graph\n",
    "fig.update_layout(\n",
    "        title={'text': \"SL81 at varying depth\", 'x': 0.5},\n",
    "        title_font_size=24,\n",
    "        showlegend=True,\n",
    "        hovermode='x')\n",
    "fig.update_xaxes(title_text='d (mm)')\n",
    "fig.update_yaxes(title_text='Moment Capacity (kN.m)')\n",
    "\n",
    "# show graph\n",
    "fig.show()\n",
    "\n",
    "# save graph (optional)\n",
    "# fig.write_image(\"./SL81_Bending.png\")\n",
    "# fig.write_html(\"./SL81_Bending.html\")"
   ]
  }
 ],
 "metadata": {
  "interpreter": {
   "hash": "961eff7faf67ce79553a65a2487d2e108eb15b996265a912167c96f0537f9b25"
  },
  "kernelspec": {
   "display_name": "Python 3.7.3 64-bit",
   "language": "python",
   "name": "python3"
  },
  "language_info": {
   "codemirror_mode": {
    "name": "ipython",
    "version": 3
   },
   "file_extension": ".py",
   "mimetype": "text/x-python",
   "name": "python",
   "nbconvert_exporter": "python",
   "pygments_lexer": "ipython3",
   "version": "3.7.3"
  },
  "orig_nbformat": 4
 },
 "nbformat": 4,
 "nbformat_minor": 2
}
